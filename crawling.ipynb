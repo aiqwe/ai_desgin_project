{
 "cells": [
  {
   "cell_type": "markdown",
   "id": "5e8c2c02-96a9-4ec5-a82d-1dca7171368d",
   "metadata": {
    "execution": {
     "iopub.execute_input": "2024-06-04T09:35:38.341718Z",
     "iopub.status.busy": "2024-06-04T09:35:38.337880Z",
     "iopub.status.idle": "2024-06-04T09:35:38.422734Z",
     "shell.execute_reply": "2024-06-04T09:35:38.422386Z",
     "shell.execute_reply.started": "2024-06-04T09:35:38.341430Z"
    },
    "tags": []
   },
   "source": [
    "## <span style=\"color: #FFEAD2\"> 데이터 크롤링 </span>"
   ]
  },
  {
   "cell_type": "code",
   "execution_count": null,
   "id": "84d74442-6daf-4e95-b3d6-f7b50fdadbd1",
   "metadata": {},
   "outputs": [],
   "source": [
    "from src.crawling import parallel_crawling\n",
    "from tqdm import tqdm"
   ]
  },
  {
   "cell_type": "code",
   "execution_count": 2,
   "id": "778ec134-c797-4287-9474-b7c7fad8738b",
   "metadata": {
    "execution": {
     "iopub.execute_input": "2024-06-04T09:35:39.211282Z",
     "iopub.status.busy": "2024-06-04T09:35:39.210736Z",
     "iopub.status.idle": "2024-06-04T10:11:32.500006Z",
     "shell.execute_reply": "2024-06-04T10:11:32.499144Z",
     "shell.execute_reply.started": "2024-06-04T09:35:39.211256Z"
    },
    "tags": []
   },
   "outputs": [
    {
     "name": "stderr",
     "output_type": "stream",
     "text": [
      "1334it [35:53,  1.61s/it]\n"
     ]
    }
   ],
   "source": [
    "indices = list(range(1, 1335))\n",
    "\n",
    "res = parallel_crawling(iterables = indices)"
   ]
  },
  {
   "cell_type": "code",
   "execution_count": 18,
   "id": "90c8d6fc-74f3-4491-a4e6-a4ff8c576399",
   "metadata": {
    "execution": {
     "iopub.execute_input": "2024-06-04T10:14:05.037911Z",
     "iopub.status.busy": "2024-06-04T10:14:05.036232Z",
     "iopub.status.idle": "2024-06-04T10:14:05.059042Z",
     "shell.execute_reply": "2024-06-04T10:14:05.058391Z",
     "shell.execute_reply.started": "2024-06-04T10:14:05.037870Z"
    },
    "tags": []
   },
   "outputs": [],
   "source": [
    "from itertools import chain\n",
    "data = list(chain.from_iterable(res))"
   ]
  },
  {
   "cell_type": "code",
   "execution_count": 19,
   "id": "8cdd101b-871e-494f-b4f7-4d683d76c1b1",
   "metadata": {
    "execution": {
     "iopub.execute_input": "2024-06-04T10:14:07.965745Z",
     "iopub.status.busy": "2024-06-04T10:14:07.965500Z",
     "iopub.status.idle": "2024-06-04T10:14:07.968971Z",
     "shell.execute_reply": "2024-06-04T10:14:07.968397Z",
     "shell.execute_reply.started": "2024-06-04T10:14:07.965722Z"
    },
    "tags": []
   },
   "outputs": [
    {
     "data": {
      "text/plain": [
       "{'title': '백일해',\n",
       " 'text': '보르데텔라 백일해균에 감염되어 발생하는 호흡기 질환. [정의] 백일해는 보르데텔라 백일해균(Bordetella pertussis, 그람 음성균)에 의한 감염으로 발생하는 호흡기 질환으로, ‘흡’ 하는 소리, 발작, 구토 등의 증상이 동반된 14일 이상의 특징적인 기침 양상을 보인다. 연령이 어릴수록 사망률이 높아 1세 미만의 사망률이 가장 높게 나타났지만, 현재는 예방 접종으로 발생이 현저히 감소하였다. [원인] 백일해의 원인균은 보르데텔라 백일해균(Bordetella pertussis, 그람 음성균)으로 인간이 유일한 숙주이다. 직접적인 접촉에 의하여 전파되거나 기침을 할 때 튀어나온 비말을 통하여 호흡기 전파가 이루어진다. 백일해에 감염되었으나 특징적인 백일해 소견이 없는 성인이 주요 감염원 역할을 한다. [증상] 잠복기는 3~12일이며 6~8주에 걸쳐 3단계의 임상 경과를 취한다. 1) 카타르기: 가장 전염력이 강한 시기로 1~2주 지속되며 콧물, 결막염, 눈물, 경미한 기침, 낮은 발열의...',\n",
       " 'url': 'https://terms.naver.com/entry.naver?docId=926652&cid=51007&categoryId=51007'}"
      ]
     },
     "execution_count": 19,
     "metadata": {},
     "output_type": "execute_result"
    }
   ],
   "source": [
    "data[0]"
   ]
  },
  {
   "cell_type": "code",
   "execution_count": 20,
   "id": "df2aee33-7740-4fbe-8ef3-fdb526ed517f",
   "metadata": {
    "execution": {
     "iopub.execute_input": "2024-06-04T10:14:35.187861Z",
     "iopub.status.busy": "2024-06-04T10:14:35.187546Z",
     "iopub.status.idle": "2024-06-04T10:14:35.273330Z",
     "shell.execute_reply": "2024-06-04T10:14:35.272987Z",
     "shell.execute_reply.started": "2024-06-04T10:14:35.187837Z"
    },
    "tags": []
   },
   "outputs": [],
   "source": [
    "import json\n",
    "parsed = json.dumps(data, ensure_ascii=False, indent=4)"
   ]
  },
  {
   "cell_type": "code",
   "execution_count": 24,
   "id": "665a0861-a96f-4dba-99cb-042ee98abcdc",
   "metadata": {
    "execution": {
     "iopub.execute_input": "2024-06-04T10:14:49.076355Z",
     "iopub.status.busy": "2024-06-04T10:14:49.076056Z",
     "iopub.status.idle": "2024-06-04T10:14:49.079498Z",
     "shell.execute_reply": "2024-06-04T10:14:49.078846Z",
     "shell.execute_reply.started": "2024-06-04T10:14:49.076332Z"
    },
    "tags": []
   },
   "outputs": [
    {
     "name": "stdout",
     "output_type": "stream",
     "text": [
      "[\n",
      "    {\n",
      "        \"title\": \"백일해\",\n",
      "        \"text\": \"보르데텔라 백일해균에 감염되어 발생하는 호흡기 질환. [정의] 백일해는 보르데텔라 백일해균(Bordetella pertussis, 그람 음성균)에 의한 감염으로 발생하는 호흡기 질환으로, ‘흡’ 하는 소리, 발작, 구토 등의 증상이 동반된 14일 이상의 특징적인 기침 양상을 보인다. 연령이 어릴수록 사망률이 높아 1세 미만의 사망률이 가장 높게 나타났지만, 현재는 예방 접종으로 발생이 현저히 감소하였다. [원인] 백일해의 원인균은 보르데텔라 백일해균(Bordetella pertussis, 그람 음성균)으로 인간이 유일한 숙주이다. 직접적인 접촉에 의하여 전파되거나 기침을 할 때 튀어나온 비말을 통하여 호흡기 전파가 이루어진다. 백일해에 감염되었으나 특징적인 백일해 소견이 없는 성인이 주요 감염원 역할을 한다. [증상] 잠복기는 3~12일이며 6~8주에 걸쳐 3단계의 임상 경과를 취한다. 1) 카타르기: 가장 전염력이 강한 시기로 1~2주 지속되며 콧물, 결막염, 눈물, 경미한 기침, 낮은 발열의...\",\n",
      "        \"url\": \"https://terms.naver.com/entry.naver?docId=926652&cid=51007&categoryId=51007\"\n",
      "    },\n",
      "    {\n",
      "        \"title\": \"대상포진\",\n",
      "        \"text\": \"사람 몸의 신경절에 잠복상태로 있던 수두-대상포진 바이러스가 다시 활성화되면서 발생하는 질병. [정의] 대상포진은 수두-대상포진 바이러스가 몸 속에 잠복상태로 존재하고 있다가 다시 활성화되...\",\n",
      "        \"url\": \"https://terms.naver.com/entry.naver?docId=926581&cid=51007&categoryId=51007\"\n",
      "    },\n",
      "    {\n",
      "        \"title\": \"횡문근융해증\",\n",
      "        \"text\": \"골격근의 파괴로 인해 발생한 물질에 의해서 여러 문제\n"
     ]
    }
   ],
   "source": [
    "print(parsed[:1000])"
   ]
  },
  {
   "cell_type": "code",
   "execution_count": 25,
   "id": "3c0ff0aa-04fc-4f7d-803c-115e4f22e081",
   "metadata": {
    "execution": {
     "iopub.execute_input": "2024-06-04T10:16:33.652603Z",
     "iopub.status.busy": "2024-06-04T10:16:33.652065Z",
     "iopub.status.idle": "2024-06-04T10:16:33.749053Z",
     "shell.execute_reply": "2024-06-04T10:16:33.748715Z",
     "shell.execute_reply.started": "2024-06-04T10:16:33.652571Z"
    },
    "tags": []
   },
   "outputs": [],
   "source": [
    "with open(\"./src/data/health.json\", \"w\") as f:\n",
    "    json.dump(data, f, ensure_ascii=False, indent=4)"
   ]
  },
  {
   "cell_type": "markdown",
   "id": "56cc39a5-075f-47b6-bb4a-ff6cf5529139",
   "metadata": {},
   "source": [
    "## <span style=\"color: #FFEAD2\"> 임베딩 </span>"
   ]
  },
  {
   "cell_type": "code",
   "execution_count": 1,
   "id": "c92feb5c-3bc6-430d-8119-6e6d18ee2850",
   "metadata": {
    "execution": {
     "iopub.execute_input": "2024-06-04T12:03:33.217488Z",
     "iopub.status.busy": "2024-06-04T12:03:33.217094Z",
     "iopub.status.idle": "2024-06-04T12:03:34.740576Z",
     "shell.execute_reply": "2024-06-04T12:03:34.740255Z",
     "shell.execute_reply.started": "2024-06-04T12:03:33.217453Z"
    },
    "tags": []
   },
   "outputs": [],
   "source": [
    "from src.encoder import average_pool\n",
    "import json\n",
    "import pandas as pd"
   ]
  },
  {
   "cell_type": "code",
   "execution_count": 2,
   "id": "9c8b132b-0041-4ace-bd2f-fee790f1825f",
   "metadata": {
    "execution": {
     "iopub.execute_input": "2024-06-04T11:39:40.434475Z",
     "iopub.status.busy": "2024-06-04T11:39:40.434311Z",
     "iopub.status.idle": "2024-06-04T11:39:40.477518Z",
     "shell.execute_reply": "2024-06-04T11:39:40.477236Z",
     "shell.execute_reply.started": "2024-06-04T11:39:40.434465Z"
    },
    "tags": []
   },
   "outputs": [],
   "source": [
    "with open(\"./src/data/health.json\", \"r\") as f:\n",
    "    data = json.load(f)"
   ]
  },
  {
   "cell_type": "code",
   "execution_count": 3,
   "id": "80e955e7-a85d-4015-99f7-3f2345bb9431",
   "metadata": {
    "execution": {
     "iopub.execute_input": "2024-06-04T11:39:41.757364Z",
     "iopub.status.busy": "2024-06-04T11:39:41.756555Z",
     "iopub.status.idle": "2024-06-04T11:39:41.776490Z",
     "shell.execute_reply": "2024-06-04T11:39:41.775890Z",
     "shell.execute_reply.started": "2024-06-04T11:39:41.757307Z"
    },
    "tags": []
   },
   "outputs": [
    {
     "data": {
      "text/plain": [
       "[{'title': '백일해',\n",
       "  'text': '보르데텔라 백일해균에 감염되어 발생하는 호흡기 질환. [정의] 백일해는 보르데텔라 백일해균(Bordetella pertussis, 그람 음성균)에 의한 감염으로 발생하는 호흡기 질환으로, ‘흡’ 하는 소리, 발작, 구토 등의 증상이 동반된 14일 이상의 특징적인 기침 양상을 보인다. 연령이 어릴수록 사망률이 높아 1세 미만의 사망률이 가장 높게 나타났지만, 현재는 예방 접종으로 발생이 현저히 감소하였다. [원인] 백일해의 원인균은 보르데텔라 백일해균(Bordetella pertussis, 그람 음성균)으로 인간이 유일한 숙주이다. 직접적인 접촉에 의하여 전파되거나 기침을 할 때 튀어나온 비말을 통하여 호흡기 전파가 이루어진다. 백일해에 감염되었으나 특징적인 백일해 소견이 없는 성인이 주요 감염원 역할을 한다. [증상] 잠복기는 3~12일이며 6~8주에 걸쳐 3단계의 임상 경과를 취한다. 1) 카타르기: 가장 전염력이 강한 시기로 1~2주 지속되며 콧물, 결막염, 눈물, 경미한 기침, 낮은 발열의...',\n",
       "  'url': 'https://terms.naver.com/entry.naver?docId=926652&cid=51007&categoryId=51007'},\n",
       " {'title': '대상포진',\n",
       "  'text': '사람 몸의 신경절에 잠복상태로 있던 수두-대상포진 바이러스가 다시 활성화되면서 발생하는 질병. [정의] 대상포진은 수두-대상포진 바이러스가 몸 속에 잠복상태로 존재하고 있다가 다시 활성화되...',\n",
       "  'url': 'https://terms.naver.com/entry.naver?docId=926581&cid=51007&categoryId=51007'},\n",
       " {'title': '횡문근융해증',\n",
       "  'text': '골격근의 파괴로 인해 발생한 물질에 의해서 여러 문제를 일으키는 질환. [정의] 횡문근융해증은 근육이 괴사되면서 세포 안에 있는 근육 성분이 혈액으로 방출되면서 나타나는 증후군이다. 근육 세...',\n",
       "  'url': 'https://terms.naver.com/entry.naver?docId=6226078&cid=51007&categoryId=51007'}]"
      ]
     },
     "execution_count": 3,
     "metadata": {},
     "output_type": "execute_result"
    }
   ],
   "source": [
    "data[:3]"
   ]
  },
  {
   "cell_type": "code",
   "execution_count": 4,
   "id": "01db01ed-24e2-488a-b413-c58c88f0e2c3",
   "metadata": {
    "execution": {
     "iopub.execute_input": "2024-06-04T11:39:43.590781Z",
     "iopub.status.busy": "2024-06-04T11:39:43.590044Z",
     "iopub.status.idle": "2024-06-04T11:39:43.613663Z",
     "shell.execute_reply": "2024-06-04T11:39:43.613198Z",
     "shell.execute_reply.started": "2024-06-04T11:39:43.590730Z"
    },
    "tags": []
   },
   "outputs": [],
   "source": [
    "pdf = pd.DataFrame(data)"
   ]
  },
  {
   "cell_type": "code",
   "execution_count": 5,
   "id": "41b3315d-0711-419f-a6b6-1da5ee8e02d1",
   "metadata": {
    "execution": {
     "iopub.execute_input": "2024-06-04T11:39:49.545635Z",
     "iopub.status.busy": "2024-06-04T11:39:49.544674Z",
     "iopub.status.idle": "2024-06-04T11:41:04.403423Z",
     "shell.execute_reply": "2024-06-04T11:41:04.403128Z",
     "shell.execute_reply.started": "2024-06-04T11:39:49.545573Z"
    },
    "tags": []
   },
   "outputs": [
    {
     "name": "stderr",
     "output_type": "stream",
     "text": [
      "/var/folders/9v/m6xmlrwd42q8n8bkflvbst0h0000gn/T/ipykernel_97422/1407592936.py:2: SettingWithCopyWarning: \n",
      "A value is trying to be set on a copy of a slice from a DataFrame.\n",
      "Try using .loc[row_indexer,col_indexer] = value instead\n",
      "\n",
      "See the caveats in the documentation: https://pandas.pydata.org/pandas-docs/stable/user_guide/indexing.html#returning-a-view-versus-a-copy\n",
      "  sample['embedding'] = (sample['title'] + \":\" + sample['text']).apply(lambda x: average_pool(x).tolist()[0])\n"
     ]
    }
   ],
   "source": [
    "sample = pdf[:50]\n",
    "sample['embedding'] = (sample['title'] + \":\" + sample['text']).apply(lambda x: average_pool(x).tolist()[0])"
   ]
  },
  {
   "cell_type": "markdown",
   "id": "8ad59ab7-e2ec-47a2-a0a6-5965cb972711",
   "metadata": {},
   "source": [
    "## <span style=\"color: #FFEAD2\"> VectorDB에 넣기 </span>"
   ]
  },
  {
   "cell_type": "code",
   "execution_count": 3,
   "id": "e5594400-e133-4114-bf40-aae2f08afa77",
   "metadata": {
    "execution": {
     "iopub.execute_input": "2024-06-04T12:03:35.265502Z",
     "iopub.status.busy": "2024-06-04T12:03:35.264893Z",
     "iopub.status.idle": "2024-06-04T12:03:35.790234Z",
     "shell.execute_reply": "2024-06-04T12:03:35.789950Z",
     "shell.execute_reply.started": "2024-06-04T12:03:35.265452Z"
    },
    "tags": []
   },
   "outputs": [],
   "source": [
    "from src.chromadb import Chroma"
   ]
  },
  {
   "cell_type": "code",
   "execution_count": 5,
   "id": "3d6a8126-7db0-4ab8-98e6-5655258f530d",
   "metadata": {
    "execution": {
     "iopub.execute_input": "2024-06-04T12:03:51.895484Z",
     "iopub.status.busy": "2024-06-04T12:03:51.895103Z",
     "iopub.status.idle": "2024-06-04T12:03:51.973552Z",
     "shell.execute_reply": "2024-06-04T12:03:51.973146Z",
     "shell.execute_reply.started": "2024-06-04T12:03:51.895458Z"
    },
    "tags": []
   },
   "outputs": [],
   "source": [
    "client = Chroma(collection_name=\"test\")"
   ]
  },
  {
   "cell_type": "code",
   "execution_count": 16,
   "id": "7c378527-36b6-418a-9d85-ce5318b7f254",
   "metadata": {
    "execution": {
     "iopub.execute_input": "2024-06-04T12:08:53.799431Z",
     "iopub.status.busy": "2024-06-04T12:08:53.798312Z",
     "iopub.status.idle": "2024-06-04T12:08:54.027591Z",
     "shell.execute_reply": "2024-06-04T12:08:54.022350Z",
     "shell.execute_reply.started": "2024-06-04T12:08:53.799379Z"
    },
    "tags": []
   },
   "outputs": [
    {
     "name": "stdout",
     "output_type": "stream",
     "text": [
      "Collection None deleted.\n"
     ]
    }
   ],
   "source": [
    "client.delete_collection()"
   ]
  },
  {
   "cell_type": "code",
   "execution_count": 5,
   "id": "77eea2ba-5395-4ec3-90d4-c91c1074645a",
   "metadata": {
    "execution": {
     "iopub.execute_input": "2024-06-04T11:54:42.725763Z",
     "iopub.status.busy": "2024-06-04T11:54:42.725642Z",
     "iopub.status.idle": "2024-06-04T11:54:42.772236Z",
     "shell.execute_reply": "2024-06-04T11:54:42.771304Z",
     "shell.execute_reply.started": "2024-06-04T11:54:42.725753Z"
    },
    "tags": []
   },
   "outputs": [
    {
     "name": "stdout",
     "output_type": "stream",
     "text": [
      "Colection None created.\n"
     ]
    }
   ],
   "source": [
    "client.create_collection()"
   ]
  },
  {
   "cell_type": "code",
   "execution_count": 8,
   "id": "94416f79-4d64-464a-b9fb-9484935d9efa",
   "metadata": {
    "execution": {
     "iopub.execute_input": "2024-06-04T11:54:53.359451Z",
     "iopub.status.busy": "2024-06-04T11:54:53.358872Z",
     "iopub.status.idle": "2024-06-04T11:54:53.618763Z",
     "shell.execute_reply": "2024-06-04T11:54:53.618071Z",
     "shell.execute_reply.started": "2024-06-04T11:54:53.359417Z"
    },
    "tags": []
   },
   "outputs": [
    {
     "name": "stdout",
     "output_type": "stream",
     "text": [
      "Upserted # of 50Documents.\n"
     ]
    }
   ],
   "source": [
    "client.upsert(\n",
    "    ids = sample['title'].tolist(),\n",
    "    documents = sample['text'].tolist(),\n",
    "    embeddings = sample['embedding'].tolist(),\n",
    "    metadatas = [{\"url\": url} for url in sample[:10]['url'].tolist()]\n",
    ")"
   ]
  },
  {
   "cell_type": "code",
   "execution_count": 7,
   "id": "9cf300db-b802-45dd-b6fb-45f23e55a322",
   "metadata": {
    "execution": {
     "iopub.execute_input": "2024-06-04T12:04:02.014121Z",
     "iopub.status.busy": "2024-06-04T12:04:02.013190Z",
     "iopub.status.idle": "2024-06-04T12:04:03.550333Z",
     "shell.execute_reply": "2024-06-04T12:04:03.550052Z",
     "shell.execute_reply.started": "2024-06-04T12:04:02.014083Z"
    },
    "tags": []
   },
   "outputs": [
    {
     "data": {
      "text/plain": [
       "{'ids': [['기흉', '비문증', '통풍', '파상풍', '당뇨병']],\n",
       " 'distances': [[0.1496321548500943,\n",
       "   0.15594934820160677,\n",
       "   0.15792161664519266,\n",
       "   0.15796708730350872,\n",
       "   0.15890912058732531]],\n",
       " 'embeddings': None,\n",
       " 'metadatas': [[None, None, None, None, None]],\n",
       " 'documents': [['공기가 없어야 하는 가슴 안쪽에 공기가 존재하는 상태. [정의] 기흉이란 공기주머니에 해당하는 폐에 구멍이 생겨 공기가 새고 이로 인해 흉막강 내에 공기나 가스가 고이게 되는 질환이다. 흉막강은...',\n",
       "   '비문증은 실같은 검은 점, 떠다니는 거미줄, 그림자 또는 검은 구름 등으로 느껴지는 시각적 증상. [정의] 비문증은 실같은 검은 점, 떠다니는 거미줄, 그림자 또는 검은 구름 등으로 다양하게 표현된다. 시신경유두부에 유착되어 있던 신경교조직이나...',\n",
       "   '관절 내 공간과 조직에 요산이 침착되면서 발생하는 다양한 질환. [정의] 통풍은 혈액 내에 요산(음식을 통해 섭취되는 퓨린(purine)이라는 물질을 인체가 대사하고 남은 산물)의 농도가 높아지면서 요...',\n",
       "   '상처 부위에서 자란 파상풍균이 만들어내는 신경 독소에 의해 몸이 쑤시고 아프며 근육수축이 나타나는 감염성 질환. [정의] 파상풍은 상처 부위에서 증식한 파상풍균(Clostridium tetani)이 번식과 함...',\n",
       "   '인슐린의 분비량이 부족하거나 정상적인 기능이 이루어지지 않는 등의 대사질환의 일종으로, 혈중 포도당 농도가 높은 것이 특징인 질환. [정의] 당뇨병은 인슐린의 분비량이 부족하거나 정상적인 기...']],\n",
       " 'uris': None,\n",
       " 'data': None}"
      ]
     },
     "execution_count": 7,
     "metadata": {},
     "output_type": "execute_result"
    }
   ],
   "source": [
    "embed = average_pool(\"복부 비만\").tolist()[0]\n",
    "\n",
    "client.query(query_embeddings=embed)"
   ]
  },
  {
   "cell_type": "code",
   "execution_count": 1,
   "id": "6297b8d9-6721-42c1-9621-f40470f66af6",
   "metadata": {
    "execution": {
     "iopub.execute_input": "2024-06-04T12:24:55.045818Z",
     "iopub.status.busy": "2024-06-04T12:24:55.045524Z",
     "iopub.status.idle": "2024-06-04T12:24:55.141608Z",
     "shell.execute_reply": "2024-06-04T12:24:55.140809Z",
     "shell.execute_reply.started": "2024-06-04T12:24:55.045799Z"
    },
    "tags": []
   },
   "outputs": [
    {
     "ename": "NameError",
     "evalue": "name 'client' is not defined",
     "output_type": "error",
     "traceback": [
      "\u001b[0;31m---------------------------------------------------------------------------\u001b[0m",
      "\u001b[0;31mNameError\u001b[0m                                 Traceback (most recent call last)",
      "Cell \u001b[0;32mIn[1], line 1\u001b[0m\n\u001b[0;32m----> 1\u001b[0m \u001b[44mclient\u001b[49m\u001b[38;5;241m.\u001b[39mquery(query_embeddings\u001b[38;5;241m=\u001b[39membed)[\u001b[38;5;124m'\u001b[39m\u001b[38;5;124mmetadatas\u001b[39m\u001b[38;5;124m'\u001b[39m][\u001b[38;5;241m0\u001b[39m]\n",
      "\u001b[0;31mNameError\u001b[0m: name 'client' is not defined"
     ]
    }
   ],
   "source": [
    "client.query(query_embeddings=embed)['metadatas'][0]"
   ]
  },
  {
   "cell_type": "code",
   "execution_count": null,
   "id": "69dadb10-0e08-4106-9da1-fbaa9beaa4bd",
   "metadata": {},
   "outputs": [],
   "source": []
  }
 ],
 "metadata": {
  "kernelspec": {
   "display_name": "Python 3 (ipykernel)",
   "language": "python",
   "name": "python3"
  },
  "language_info": {
   "codemirror_mode": {
    "name": "ipython",
    "version": 3
   },
   "file_extension": ".py",
   "mimetype": "text/x-python",
   "name": "python",
   "nbconvert_exporter": "python",
   "pygments_lexer": "ipython3",
   "version": "3.10.12"
  }
 },
 "nbformat": 4,
 "nbformat_minor": 5
}

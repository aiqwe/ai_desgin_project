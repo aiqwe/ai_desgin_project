{
 "cells": [
  {
   "cell_type": "markdown",
   "id": "5e8c2c02-96a9-4ec5-a82d-1dca7171368d",
   "metadata": {
    "execution": {
     "iopub.execute_input": "2024-06-04T09:35:38.341718Z",
     "iopub.status.busy": "2024-06-04T09:35:38.337880Z",
     "iopub.status.idle": "2024-06-04T09:35:38.422734Z",
     "shell.execute_reply": "2024-06-04T09:35:38.422386Z",
     "shell.execute_reply.started": "2024-06-04T09:35:38.341430Z"
    },
    "tags": []
   },
   "source": [
    "## <span style=\"color: #FFEAD2\"> 데이터 크롤링 </span>"
   ]
  },
  {
   "cell_type": "code",
   "execution_count": null,
   "id": "84d74442-6daf-4e95-b3d6-f7b50fdadbd1",
   "metadata": {},
   "outputs": [],
   "source": [
    "from src.crawling import parallel_crawling\n",
    "from tqdm import tqdm"
   ]
  },
  {
   "cell_type": "code",
   "execution_count": 2,
   "id": "778ec134-c797-4287-9474-b7c7fad8738b",
   "metadata": {
    "execution": {
     "iopub.execute_input": "2024-06-04T09:35:39.211282Z",
     "iopub.status.busy": "2024-06-04T09:35:39.210736Z",
     "iopub.status.idle": "2024-06-04T10:11:32.500006Z",
     "shell.execute_reply": "2024-06-04T10:11:32.499144Z",
     "shell.execute_reply.started": "2024-06-04T09:35:39.211256Z"
    },
    "tags": []
   },
   "outputs": [
    {
     "name": "stderr",
     "output_type": "stream",
     "text": [
      "1334it [35:53,  1.61s/it]\n"
     ]
    }
   ],
   "source": [
    "indices = list(range(1, 1335))\n",
    "\n",
    "res = parallel_crawling(iterables = indices)"
   ]
  },
  {
   "cell_type": "code",
   "execution_count": 18,
   "id": "90c8d6fc-74f3-4491-a4e6-a4ff8c576399",
   "metadata": {
    "execution": {
     "iopub.execute_input": "2024-06-04T10:14:05.037911Z",
     "iopub.status.busy": "2024-06-04T10:14:05.036232Z",
     "iopub.status.idle": "2024-06-04T10:14:05.059042Z",
     "shell.execute_reply": "2024-06-04T10:14:05.058391Z",
     "shell.execute_reply.started": "2024-06-04T10:14:05.037870Z"
    },
    "tags": []
   },
   "outputs": [],
   "source": [
    "from itertools import chain\n",
    "data = list(chain.from_iterable(res))"
   ]
  },
  {
   "cell_type": "code",
   "execution_count": 19,
   "id": "8cdd101b-871e-494f-b4f7-4d683d76c1b1",
   "metadata": {
    "execution": {
     "iopub.execute_input": "2024-06-04T10:14:07.965745Z",
     "iopub.status.busy": "2024-06-04T10:14:07.965500Z",
     "iopub.status.idle": "2024-06-04T10:14:07.968971Z",
     "shell.execute_reply": "2024-06-04T10:14:07.968397Z",
     "shell.execute_reply.started": "2024-06-04T10:14:07.965722Z"
    },
    "tags": []
   },
   "outputs": [
    {
     "data": {
      "text/plain": [
       "{'title': '백일해',\n",
       " 'text': '보르데텔라 백일해균에 감염되어 발생하는 호흡기 질환. [정의] 백일해는 보르데텔라 백일해균(Bordetella pertussis, 그람 음성균)에 의한 감염으로 발생하는 호흡기 질환으로, ‘흡’ 하는 소리, 발작, 구토 등의 증상이 동반된 14일 이상의 특징적인 기침 양상을 보인다. 연령이 어릴수록 사망률이 높아 1세 미만의 사망률이 가장 높게 나타났지만, 현재는 예방 접종으로 발생이 현저히 감소하였다. [원인] 백일해의 원인균은 보르데텔라 백일해균(Bordetella pertussis, 그람 음성균)으로 인간이 유일한 숙주이다. 직접적인 접촉에 의하여 전파되거나 기침을 할 때 튀어나온 비말을 통하여 호흡기 전파가 이루어진다. 백일해에 감염되었으나 특징적인 백일해 소견이 없는 성인이 주요 감염원 역할을 한다. [증상] 잠복기는 3~12일이며 6~8주에 걸쳐 3단계의 임상 경과를 취한다. 1) 카타르기: 가장 전염력이 강한 시기로 1~2주 지속되며 콧물, 결막염, 눈물, 경미한 기침, 낮은 발열의...',\n",
       " 'url': 'https://terms.naver.com/entry.naver?docId=926652&cid=51007&categoryId=51007'}"
      ]
     },
     "execution_count": 19,
     "metadata": {},
     "output_type": "execute_result"
    }
   ],
   "source": [
    "data[0]"
   ]
  },
  {
   "cell_type": "code",
   "execution_count": 20,
   "id": "df2aee33-7740-4fbe-8ef3-fdb526ed517f",
   "metadata": {
    "execution": {
     "iopub.execute_input": "2024-06-04T10:14:35.187861Z",
     "iopub.status.busy": "2024-06-04T10:14:35.187546Z",
     "iopub.status.idle": "2024-06-04T10:14:35.273330Z",
     "shell.execute_reply": "2024-06-04T10:14:35.272987Z",
     "shell.execute_reply.started": "2024-06-04T10:14:35.187837Z"
    },
    "tags": []
   },
   "outputs": [],
   "source": [
    "import json\n",
    "parsed = json.dumps(data, ensure_ascii=False, indent=4)"
   ]
  },
  {
   "cell_type": "code",
   "execution_count": 24,
   "id": "665a0861-a96f-4dba-99cb-042ee98abcdc",
   "metadata": {
    "execution": {
     "iopub.execute_input": "2024-06-04T10:14:49.076355Z",
     "iopub.status.busy": "2024-06-04T10:14:49.076056Z",
     "iopub.status.idle": "2024-06-04T10:14:49.079498Z",
     "shell.execute_reply": "2024-06-04T10:14:49.078846Z",
     "shell.execute_reply.started": "2024-06-04T10:14:49.076332Z"
    },
    "tags": []
   },
   "outputs": [
    {
     "name": "stdout",
     "output_type": "stream",
     "text": [
      "[\n",
      "    {\n",
      "        \"title\": \"백일해\",\n",
      "        \"text\": \"보르데텔라 백일해균에 감염되어 발생하는 호흡기 질환. [정의] 백일해는 보르데텔라 백일해균(Bordetella pertussis, 그람 음성균)에 의한 감염으로 발생하는 호흡기 질환으로, ‘흡’ 하는 소리, 발작, 구토 등의 증상이 동반된 14일 이상의 특징적인 기침 양상을 보인다. 연령이 어릴수록 사망률이 높아 1세 미만의 사망률이 가장 높게 나타났지만, 현재는 예방 접종으로 발생이 현저히 감소하였다. [원인] 백일해의 원인균은 보르데텔라 백일해균(Bordetella pertussis, 그람 음성균)으로 인간이 유일한 숙주이다. 직접적인 접촉에 의하여 전파되거나 기침을 할 때 튀어나온 비말을 통하여 호흡기 전파가 이루어진다. 백일해에 감염되었으나 특징적인 백일해 소견이 없는 성인이 주요 감염원 역할을 한다. [증상] 잠복기는 3~12일이며 6~8주에 걸쳐 3단계의 임상 경과를 취한다. 1) 카타르기: 가장 전염력이 강한 시기로 1~2주 지속되며 콧물, 결막염, 눈물, 경미한 기침, 낮은 발열의...\",\n",
      "        \"url\": \"https://terms.naver.com/entry.naver?docId=926652&cid=51007&categoryId=51007\"\n",
      "    },\n",
      "    {\n",
      "        \"title\": \"대상포진\",\n",
      "        \"text\": \"사람 몸의 신경절에 잠복상태로 있던 수두-대상포진 바이러스가 다시 활성화되면서 발생하는 질병. [정의] 대상포진은 수두-대상포진 바이러스가 몸 속에 잠복상태로 존재하고 있다가 다시 활성화되...\",\n",
      "        \"url\": \"https://terms.naver.com/entry.naver?docId=926581&cid=51007&categoryId=51007\"\n",
      "    },\n",
      "    {\n",
      "        \"title\": \"횡문근융해증\",\n",
      "        \"text\": \"골격근의 파괴로 인해 발생한 물질에 의해서 여러 문제\n"
     ]
    }
   ],
   "source": [
    "print(parsed[:1000])"
   ]
  },
  {
   "cell_type": "code",
   "execution_count": 25,
   "id": "3c0ff0aa-04fc-4f7d-803c-115e4f22e081",
   "metadata": {
    "execution": {
     "iopub.execute_input": "2024-06-04T10:16:33.652603Z",
     "iopub.status.busy": "2024-06-04T10:16:33.652065Z",
     "iopub.status.idle": "2024-06-04T10:16:33.749053Z",
     "shell.execute_reply": "2024-06-04T10:16:33.748715Z",
     "shell.execute_reply.started": "2024-06-04T10:16:33.652571Z"
    },
    "tags": []
   },
   "outputs": [],
   "source": [
    "with open(\"./src/data/health.json\", \"w\") as f:\n",
    "    json.dump(data, f, ensure_ascii=False, indent=4)"
   ]
  },
  {
   "cell_type": "markdown",
   "id": "56cc39a5-075f-47b6-bb4a-ff6cf5529139",
   "metadata": {},
   "source": [
    "## <span style=\"color: #FFEAD2\"> 임베딩 </span>"
   ]
  },
  {
   "cell_type": "code",
   "execution_count": 1,
   "id": "c92feb5c-3bc6-430d-8119-6e6d18ee2850",
   "metadata": {
    "tags": []
   },
   "outputs": [],
   "source": [
    "from src.inference import average_pool\n",
    "import json\n",
    "import pandas as pd"
   ]
  },
  {
   "cell_type": "code",
   "execution_count": 2,
   "id": "9c8b132b-0041-4ace-bd2f-fee790f1825f",
   "metadata": {
    "tags": []
   },
   "outputs": [],
   "source": [
    "with open(\"./src/data/health.json\", \"r\") as f:\n",
    "    data = json.load(f)"
   ]
  },
  {
   "cell_type": "code",
   "execution_count": 3,
   "id": "80e955e7-a85d-4015-99f7-3f2345bb9431",
   "metadata": {
    "tags": []
   },
   "outputs": [
    {
     "data": {
      "text/plain": [
       "[{'title': '백일해',\n",
       "  'text': '보르데텔라 백일해균에 감염되어 발생하는 호흡기 질환. [정의] 백일해는 보르데텔라 백일해균(Bordetella pertussis, 그람 음성균)에 의한 감염으로 발생하는 호흡기 질환으로, ‘흡’ 하는 소리, 발작, 구토 등의 증상이 동반된 14일 이상의 특징적인 기침 양상을 보인다. 연령이 어릴수록 사망률이 높아 1세 미만의 사망률이 가장 높게 나타났지만, 현재는 예방 접종으로 발생이 현저히 감소하였다. [원인] 백일해의 원인균은 보르데텔라 백일해균(Bordetella pertussis, 그람 음성균)으로 인간이 유일한 숙주이다. 직접적인 접촉에 의하여 전파되거나 기침을 할 때 튀어나온 비말을 통하여 호흡기 전파가 이루어진다. 백일해에 감염되었으나 특징적인 백일해 소견이 없는 성인이 주요 감염원 역할을 한다. [증상] 잠복기는 3~12일이며 6~8주에 걸쳐 3단계의 임상 경과를 취한다. 1) 카타르기: 가장 전염력이 강한 시기로 1~2주 지속되며 콧물, 결막염, 눈물, 경미한 기침, 낮은 발열의...',\n",
       "  'url': 'https://terms.naver.com/entry.naver?docId=926652&cid=51007&categoryId=51007'},\n",
       " {'title': '대상포진',\n",
       "  'text': '사람 몸의 신경절에 잠복상태로 있던 수두-대상포진 바이러스가 다시 활성화되면서 발생하는 질병. [정의] 대상포진은 수두-대상포진 바이러스가 몸 속에 잠복상태로 존재하고 있다가 다시 활성화되...',\n",
       "  'url': 'https://terms.naver.com/entry.naver?docId=926581&cid=51007&categoryId=51007'},\n",
       " {'title': '횡문근융해증',\n",
       "  'text': '골격근의 파괴로 인해 발생한 물질에 의해서 여러 문제를 일으키는 질환. [정의] 횡문근융해증은 근육이 괴사되면서 세포 안에 있는 근육 성분이 혈액으로 방출되면서 나타나는 증후군이다. 근육 세...',\n",
       "  'url': 'https://terms.naver.com/entry.naver?docId=6226078&cid=51007&categoryId=51007'}]"
      ]
     },
     "execution_count": 3,
     "metadata": {},
     "output_type": "execute_result"
    }
   ],
   "source": [
    "data[:3]"
   ]
  },
  {
   "cell_type": "code",
   "execution_count": 9,
   "id": "01db01ed-24e2-488a-b413-c58c88f0e2c3",
   "metadata": {
    "tags": []
   },
   "outputs": [
    {
     "data": {
      "text/plain": [
       "{'title': '백일해',\n",
       " 'text': '보르데텔라 백일해균에 감염되어 발생하는 호흡기 질환. [정의] 백일해는 보르데텔라 백일해균(Bordetella pertussis, 그람 음성균)에 의한 감염으로 발생하는 호흡기 질환으로, ‘흡’ 하는 소리, 발작, 구토 등의 증상이 동반된 14일 이상의 특징적인 기침 양상을 보인다. 연령이 어릴수록 사망률이 높아 1세 미만의 사망률이 가장 높게 나타났지만, 현재는 예방 접종으로 발생이 현저히 감소하였다. [원인] 백일해의 원인균은 보르데텔라 백일해균(Bordetella pertussis, 그람 음성균)으로 인간이 유일한 숙주이다. 직접적인 접촉에 의하여 전파되거나 기침을 할 때 튀어나온 비말을 통하여 호흡기 전파가 이루어진다. 백일해에 감염되었으나 특징적인 백일해 소견이 없는 성인이 주요 감염원 역할을 한다. [증상] 잠복기는 3~12일이며 6~8주에 걸쳐 3단계의 임상 경과를 취한다. 1) 카타르기: 가장 전염력이 강한 시기로 1~2주 지속되며 콧물, 결막염, 눈물, 경미한 기침, 낮은 발열의...',\n",
       " 'url': 'https://terms.naver.com/entry.naver?docId=926652&cid=51007&categoryId=51007'}"
      ]
     },
     "execution_count": 9,
     "metadata": {},
     "output_type": "execute_result"
    }
   ],
   "source": [
    "data[0]"
   ]
  },
  {
   "cell_type": "code",
   "execution_count": 7,
   "id": "ffbe595c-6d97-42d4-82c8-4e1b644b1053",
   "metadata": {},
   "outputs": [],
   "source": [
    "from tqdm import tqdm\n",
    "from tqdm.auto import tqdm  # for notebooks\n",
    "\n",
    "tqdm.pandas()"
   ]
  },
  {
   "cell_type": "code",
   "execution_count": 10,
   "id": "41b3315d-0711-419f-a6b6-1da5ee8e02d1",
   "metadata": {
    "tags": []
   },
   "outputs": [],
   "source": [
    "# pdf['embedding'] = (pdf['title'] + \":\" + pdf['text']).progress_apply(lambda x: average_pool(x).tolist()[0])"
   ]
  },
  {
   "cell_type": "markdown",
   "id": "8ad59ab7-e2ec-47a2-a0a6-5965cb972711",
   "metadata": {},
   "source": [
    "## <span style=\"color: #FFEAD2\"> VectorDB에 넣기 </span>"
   ]
  },
  {
   "cell_type": "code",
   "execution_count": null,
   "id": "e5594400-e133-4114-bf40-aae2f08afa77",
   "metadata": {
    "tags": []
   },
   "outputs": [],
   "source": [
    "from src.chromadb import Chroma"
   ]
  },
  {
   "cell_type": "code",
   "execution_count": null,
   "id": "3d6a8126-7db0-4ab8-98e6-5655258f530d",
   "metadata": {
    "tags": []
   },
   "outputs": [],
   "source": [
    "client = Chroma(collection_name=\"test\")"
   ]
  },
  {
   "cell_type": "code",
   "execution_count": null,
   "id": "77eea2ba-5395-4ec3-90d4-c91c1074645a",
   "metadata": {
    "tags": []
   },
   "outputs": [],
   "source": [
    "client.create_collection()"
   ]
  },
  {
   "cell_type": "code",
   "execution_count": null,
   "id": "94416f79-4d64-464a-b9fb-9484935d9efa",
   "metadata": {
    "tags": []
   },
   "outputs": [],
   "source": [
    "client.upsert(\n",
    "    ids = sample['title'].tolist(),\n",
    "    documents = sample['text'].tolist(),\n",
    "    embeddings = sample['embedding'].tolist(),\n",
    "    metadatas = [{\"url\": url} for url in sample[:10]['url'].tolist()]\n",
    ")"
   ]
  },
  {
   "cell_type": "code",
   "execution_count": null,
   "id": "9cf300db-b802-45dd-b6fb-45f23e55a322",
   "metadata": {
    "tags": []
   },
   "outputs": [],
   "source": [
    "embed = average_pool(\"복부 비만\").tolist()[0]\n",
    "\n",
    "client.query(query_embeddings=embed)"
   ]
  },
  {
   "cell_type": "code",
   "execution_count": null,
   "id": "6297b8d9-6721-42c1-9621-f40470f66af6",
   "metadata": {
    "tags": []
   },
   "outputs": [],
   "source": [
    "client.query(query_embeddings=embed)['metadatas'][0]"
   ]
  },
  {
   "cell_type": "code",
   "execution_count": null,
   "id": "69dadb10-0e08-4106-9da1-fbaa9beaa4bd",
   "metadata": {},
   "outputs": [],
   "source": []
  }
 ],
 "metadata": {
  "kernelspec": {
   "display_name": "Python 3 (ipykernel)",
   "language": "python",
   "name": "python3"
  },
  "language_info": {
   "codemirror_mode": {
    "name": "ipython",
    "version": 3
   },
   "file_extension": ".py",
   "mimetype": "text/x-python",
   "name": "python",
   "nbconvert_exporter": "python",
   "pygments_lexer": "ipython3",
   "version": "3.10.12"
  }
 },
 "nbformat": 4,
 "nbformat_minor": 5
}

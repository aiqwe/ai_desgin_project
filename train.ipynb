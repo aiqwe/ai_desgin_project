{
 "cells": [
  {
   "cell_type": "code",
   "execution_count": 1,
   "id": "9c02218c-fd8c-469c-ac7f-7e1400221745",
   "metadata": {},
   "outputs": [
    {
     "name": "stderr",
     "output_type": "stream",
     "text": [
      "No CUDA runtime is found, using CUDA_HOME='/usr/local/cuda'\n"
     ]
    }
   ],
   "source": [
    "from typing import Optional, Literal\n",
    "from dataclasses import dataclass, field\n",
    "from copy import deepcopy\n",
    "from pathlib import Path\n",
    "import logging\n",
    "import json\n",
    "import os\n",
    "import sys\n",
    "\n",
    "import wandb\n",
    "import datasets\n",
    "from datasets import Dataset\n",
    "import torch\n",
    "from sentence_transformers import (\n",
    "    SentenceTransformer,\n",
    "    SentenceTransformerTrainer\n",
    ")\n",
    "from sentence_transformers.losses import TripletLoss\n",
    "from sentence_transformers.evaluation import TripletEvaluator\n",
    "from transformers import HfArgumentParser"
   ]
  },
  {
   "cell_type": "code",
   "execution_count": 3,
   "id": "82339b39-7dfd-4ef0-9842-f5033a9ba156",
   "metadata": {},
   "outputs": [
    {
     "name": "stdout",
     "output_type": "stream",
     "text": [
      "/bin/bash: line 1: nvidia-smi: command not found\n"
     ]
    }
   ],
   "source": [
    "!nvidia-smi"
   ]
  },
  {
   "cell_type": "code",
   "execution_count": null,
   "id": "657ce18f-8439-4124-97e9-30151b210d82",
   "metadata": {},
   "outputs": [],
   "source": []
  }
 ],
 "metadata": {
  "kernelspec": {
   "display_name": "Python 3 (ipykernel)",
   "language": "python",
   "name": "python3"
  },
  "language_info": {
   "codemirror_mode": {
    "name": "ipython",
    "version": 3
   },
   "file_extension": ".py",
   "mimetype": "text/x-python",
   "name": "python",
   "nbconvert_exporter": "python",
   "pygments_lexer": "ipython3",
   "version": "3.10.12"
  }
 },
 "nbformat": 4,
 "nbformat_minor": 5
}

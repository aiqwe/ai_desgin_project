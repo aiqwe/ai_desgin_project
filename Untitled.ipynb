{
 "cells": [
  {
   "cell_type": "code",
   "execution_count": 52,
   "id": "a025dcce-4c77-489c-b4ef-7dd76d6257dc",
   "metadata": {
    "execution": {
     "iopub.execute_input": "2024-06-05T11:19:15.483642Z",
     "iopub.status.busy": "2024-06-05T11:19:15.480951Z",
     "iopub.status.idle": "2024-06-05T11:19:15.535269Z",
     "shell.execute_reply": "2024-06-05T11:19:15.534815Z",
     "shell.execute_reply.started": "2024-06-05T11:19:15.483152Z"
    },
    "tags": []
   },
   "outputs": [],
   "source": [
    "import chromadb\n",
    "client = chromadb.HttpClient(host=\"localhost\", port=8000)"
   ]
  },
  {
   "cell_type": "code",
   "execution_count": 2,
   "id": "f8d13e42-6f50-4906-8281-a439b404ef2f",
   "metadata": {
    "execution": {
     "iopub.execute_input": "2024-06-04T12:12:32.193588Z",
     "iopub.status.busy": "2024-06-04T12:12:32.193501Z",
     "iopub.status.idle": "2024-06-04T12:12:33.245718Z",
     "shell.execute_reply": "2024-06-04T12:12:33.245396Z",
     "shell.execute_reply.started": "2024-06-04T12:12:32.193578Z"
    },
    "tags": []
   },
   "outputs": [],
   "source": [
    "from chromadb import Documents, EmbeddingFunction, Embeddings\n",
    "from src.encoder import average_pool\n",
    "\n",
    "class embed_func(EmbeddingFunction):        \n",
    "    def __call__(self, input: Documents) -> Embeddings:\n",
    "        embeddings = average_pool(input)\n",
    "        return [embeddings]\n"
   ]
  },
  {
   "cell_type": "code",
   "execution_count": 21,
   "id": "6799b1fd-4e9a-43b3-b591-1c306d94aefb",
   "metadata": {
    "execution": {
     "iopub.execute_input": "2024-06-04T12:16:37.843708Z",
     "iopub.status.busy": "2024-06-04T12:16:37.842030Z",
     "iopub.status.idle": "2024-06-04T12:16:37.871634Z",
     "shell.execute_reply": "2024-06-04T12:16:37.871260Z",
     "shell.execute_reply.started": "2024-06-04T12:16:37.843670Z"
    },
    "tags": []
   },
   "outputs": [],
   "source": [
    "client = chromadb.PersistentClient(path=\"./src/chromadb\")"
   ]
  },
  {
   "cell_type": "code",
   "execution_count": 64,
   "id": "7abffde7-2b80-4be0-853c-fead11626a4e",
   "metadata": {
    "execution": {
     "iopub.execute_input": "2024-06-05T11:23:34.491636Z",
     "iopub.status.busy": "2024-06-05T11:23:34.490517Z",
     "iopub.status.idle": "2024-06-05T11:23:34.638688Z",
     "shell.execute_reply": "2024-06-05T11:23:34.637467Z",
     "shell.execute_reply.started": "2024-06-05T11:23:34.491551Z"
    },
    "tags": []
   },
   "outputs": [],
   "source": [
    "client.delete_collection(\"test\")"
   ]
  },
  {
   "cell_type": "code",
   "execution_count": 65,
   "id": "76941374-30db-4556-baf6-4c0ad1033479",
   "metadata": {
    "execution": {
     "iopub.execute_input": "2024-06-05T11:23:36.536543Z",
     "iopub.status.busy": "2024-06-05T11:23:36.535794Z",
     "iopub.status.idle": "2024-06-05T11:23:36.629133Z",
     "shell.execute_reply": "2024-06-05T11:23:36.627949Z",
     "shell.execute_reply.started": "2024-06-05T11:23:36.536493Z"
    },
    "tags": []
   },
   "outputs": [
    {
     "data": {
      "text/plain": [
       "Collection(name=test)"
      ]
     },
     "execution_count": 65,
     "metadata": {},
     "output_type": "execute_result"
    }
   ],
   "source": [
    "client.create_collection(\n",
    "    name=\"test\",\n",
    "    metadata={\"hnsw:space\": \"cosine\"})"
   ]
  },
  {
   "cell_type": "code",
   "execution_count": 18,
   "id": "8b660390-7854-483a-ad2e-12ae7e9b90ee",
   "metadata": {
    "execution": {
     "iopub.execute_input": "2024-06-04T12:15:52.355033Z",
     "iopub.status.busy": "2024-06-04T12:15:52.354424Z",
     "iopub.status.idle": "2024-06-04T12:15:52.407147Z",
     "shell.execute_reply": "2024-06-04T12:15:52.406793Z",
     "shell.execute_reply.started": "2024-06-04T12:15:52.354975Z"
    },
    "tags": []
   },
   "outputs": [],
   "source": [
    "client = chromadb.PersistentClient(path=\"./src/chromadb\")"
   ]
  },
  {
   "cell_type": "code",
   "execution_count": 66,
   "id": "0a516b5c-612e-463d-a611-e4734040ab6c",
   "metadata": {
    "execution": {
     "iopub.execute_input": "2024-06-05T11:23:38.512002Z",
     "iopub.status.busy": "2024-06-05T11:23:38.511288Z",
     "iopub.status.idle": "2024-06-05T11:23:38.542961Z",
     "shell.execute_reply": "2024-06-05T11:23:38.542452Z",
     "shell.execute_reply.started": "2024-06-05T11:23:38.511969Z"
    },
    "tags": []
   },
   "outputs": [],
   "source": [
    "test = client.get_collection(\"test\")"
   ]
  },
  {
   "cell_type": "code",
   "execution_count": 67,
   "id": "200c8591-672e-463f-bfa4-1543109890ac",
   "metadata": {
    "execution": {
     "iopub.execute_input": "2024-06-05T11:23:38.816370Z",
     "iopub.status.busy": "2024-06-05T11:23:38.816022Z",
     "iopub.status.idle": "2024-06-05T11:23:38.825842Z",
     "shell.execute_reply": "2024-06-05T11:23:38.824776Z",
     "shell.execute_reply.started": "2024-06-05T11:23:38.816342Z"
    },
    "tags": []
   },
   "outputs": [],
   "source": [
    "import json"
   ]
  },
  {
   "cell_type": "code",
   "execution_count": 68,
   "id": "0d35a571-112e-4898-80c0-a171222a528f",
   "metadata": {
    "execution": {
     "iopub.execute_input": "2024-06-05T11:23:38.973010Z",
     "iopub.status.busy": "2024-06-05T11:23:38.972448Z",
     "iopub.status.idle": "2024-06-05T11:23:39.037220Z",
     "shell.execute_reply": "2024-06-05T11:23:39.036895Z",
     "shell.execute_reply.started": "2024-06-05T11:23:38.972902Z"
    },
    "tags": []
   },
   "outputs": [],
   "source": [
    "with open(\"./src/data/health.json\", \"r\") as f:\n",
    "    d = json.load(f)"
   ]
  },
  {
   "cell_type": "code",
   "execution_count": 69,
   "id": "a90edcc7-e1ff-4781-bb5c-6dde282a7cdc",
   "metadata": {
    "execution": {
     "iopub.execute_input": "2024-06-05T11:23:40.116192Z",
     "iopub.status.busy": "2024-06-05T11:23:40.115697Z",
     "iopub.status.idle": "2024-06-05T11:23:40.145368Z",
     "shell.execute_reply": "2024-06-05T11:23:40.144865Z",
     "shell.execute_reply.started": "2024-06-05T11:23:40.116165Z"
    },
    "tags": []
   },
   "outputs": [],
   "source": [
    "import pandas as pd\n",
    "\n",
    "df = pd.DataFrame(d)"
   ]
  },
  {
   "cell_type": "code",
   "execution_count": 70,
   "id": "c38ab6bb-3000-4e36-8d76-9f67cd305a83",
   "metadata": {
    "execution": {
     "iopub.execute_input": "2024-06-05T11:23:41.166497Z",
     "iopub.status.busy": "2024-06-05T11:23:41.165394Z",
     "iopub.status.idle": "2024-06-05T11:23:41.183991Z",
     "shell.execute_reply": "2024-06-05T11:23:41.183285Z",
     "shell.execute_reply.started": "2024-06-05T11:23:41.166352Z"
    },
    "tags": []
   },
   "outputs": [],
   "source": [
    "sample = df[:10]"
   ]
  },
  {
   "cell_type": "code",
   "execution_count": 71,
   "id": "b3feca13-9eb7-4aab-a73d-1aac1eca0b3d",
   "metadata": {
    "execution": {
     "iopub.execute_input": "2024-06-05T11:23:41.499003Z",
     "iopub.status.busy": "2024-06-05T11:23:41.498767Z",
     "iopub.status.idle": "2024-06-05T11:23:56.663289Z",
     "shell.execute_reply": "2024-06-05T11:23:56.662893Z",
     "shell.execute_reply.started": "2024-06-05T11:23:41.498983Z"
    },
    "tags": []
   },
   "outputs": [
    {
     "name": "stderr",
     "output_type": "stream",
     "text": [
      "/var/folders/9v/m6xmlrwd42q8n8bkflvbst0h0000gn/T/ipykernel_10421/303394245.py:1: SettingWithCopyWarning: \n",
      "A value is trying to be set on a copy of a slice from a DataFrame.\n",
      "Try using .loc[row_indexer,col_indexer] = value instead\n",
      "\n",
      "See the caveats in the documentation: https://pandas.pydata.org/pandas-docs/stable/user_guide/indexing.html#returning-a-view-versus-a-copy\n",
      "  sample['embedding'] = (sample['title'] + \":\" + sample['text']).apply(lambda x: average_pool(x).tolist()[0])\n"
     ]
    }
   ],
   "source": [
    "sample['embedding'] = (sample['title'] + \":\" + sample['text']).apply(lambda x: average_pool(x).tolist()[0])"
   ]
  },
  {
   "cell_type": "code",
   "execution_count": 61,
   "id": "144c0087-ec60-44f0-b6df-859f21a5d43c",
   "metadata": {
    "execution": {
     "iopub.execute_input": "2024-06-05T11:19:51.435450Z",
     "iopub.status.busy": "2024-06-05T11:19:51.435365Z",
     "iopub.status.idle": "2024-06-05T11:19:51.438166Z",
     "shell.execute_reply": "2024-06-05T11:19:51.437645Z",
     "shell.execute_reply.started": "2024-06-05T11:19:51.435442Z"
    },
    "tags": []
   },
   "outputs": [
    {
     "name": "stderr",
     "output_type": "stream",
     "text": [
      "/var/folders/9v/m6xmlrwd42q8n8bkflvbst0h0000gn/T/ipykernel_10421/372242415.py:1: SettingWithCopyWarning: \n",
      "A value is trying to be set on a copy of a slice from a DataFrame.\n",
      "Try using .loc[row_indexer,col_indexer] = value instead\n",
      "\n",
      "See the caveats in the documentation: https://pandas.pydata.org/pandas-docs/stable/user_guide/indexing.html#returning-a-view-versus-a-copy\n",
      "  sample['text'] = (sample['title'] + \":\" + sample['text'])\n"
     ]
    }
   ],
   "source": [
    "sample['text'] = (sample['title'] + \":\" + sample['text'])"
   ]
  },
  {
   "cell_type": "code",
   "execution_count": 76,
   "id": "831f964a-fecb-45cf-a49f-29c4af90dee6",
   "metadata": {
    "execution": {
     "iopub.execute_input": "2024-06-05T11:25:56.954108Z",
     "iopub.status.busy": "2024-06-05T11:25:56.953909Z",
     "iopub.status.idle": "2024-06-05T11:25:56.957676Z",
     "shell.execute_reply": "2024-06-05T11:25:56.957212Z",
     "shell.execute_reply.started": "2024-06-05T11:25:56.954092Z"
    },
    "tags": []
   },
   "outputs": [
    {
     "data": {
      "text/plain": [
       "[{'url': 'https://terms.naver.com/entry.naver?docId=926652&cid=51007&categoryId=51007'},\n",
       " {'url': 'https://terms.naver.com/entry.naver?docId=926581&cid=51007&categoryId=51007'},\n",
       " {'url': 'https://terms.naver.com/entry.naver?docId=6226078&cid=51007&categoryId=51007'},\n",
       " {'url': 'https://terms.naver.com/entry.naver?docId=926835&cid=51007&categoryId=51007'},\n",
       " {'url': 'https://terms.naver.com/entry.naver?docId=926659&cid=51007&categoryId=51007'},\n",
       " {'url': 'https://terms.naver.com/entry.naver?docId=926702&cid=51007&categoryId=51007'},\n",
       " {'url': 'https://terms.naver.com/entry.naver?docId=5646470&cid=60406&categoryId=60406'},\n",
       " {'url': 'https://terms.naver.com/entry.naver?docId=926919&cid=51007&categoryId=51007'},\n",
       " {'url': 'https://terms.naver.com/entry.naver?docId=926829&cid=51007&categoryId=51007'},\n",
       " {'url': 'https://terms.naver.com/entry.naver?docId=926619&cid=51007&categoryId=51007'}]"
      ]
     },
     "execution_count": 76,
     "metadata": {},
     "output_type": "execute_result"
    }
   ],
   "source": [
    "[{\"url\": v} for v in sample[:10]['url'].values]"
   ]
  },
  {
   "cell_type": "code",
   "execution_count": 78,
   "id": "956189d3-6614-42a2-b8e2-0bac8a955e6b",
   "metadata": {
    "execution": {
     "iopub.execute_input": "2024-06-05T11:26:07.367206Z",
     "iopub.status.busy": "2024-06-05T11:26:07.365599Z",
     "iopub.status.idle": "2024-06-05T11:26:07.675471Z",
     "shell.execute_reply": "2024-06-05T11:26:07.675173Z",
     "shell.execute_reply.started": "2024-06-05T11:26:07.367155Z"
    },
    "tags": []
   },
   "outputs": [],
   "source": [
    "test.upsert(documents = sample[:10]['text'].tolist(),\n",
    "            ids = sample[:10]['title'].tolist(),\n",
    "            metadatas = [{\"url\": v} for v in sample[:10]['url'].values])"
   ]
  },
  {
   "cell_type": "code",
   "execution_count": 87,
   "id": "6dcb2c76-9728-45b1-bb1b-fd51ac40883a",
   "metadata": {
    "execution": {
     "iopub.execute_input": "2024-06-05T11:26:45.557693Z",
     "iopub.status.busy": "2024-06-05T11:26:45.557246Z",
     "iopub.status.idle": "2024-06-05T11:26:45.619871Z",
     "shell.execute_reply": "2024-06-05T11:26:45.619452Z",
     "shell.execute_reply.started": "2024-06-05T11:26:45.557663Z"
    },
    "tags": []
   },
   "outputs": [],
   "source": [
    "res = test.query(query_texts=\"백일해\", n_results=1)"
   ]
  },
  {
   "cell_type": "code",
   "execution_count": 88,
   "id": "187f5f6c-3592-4b27-b7ef-785eb437deae",
   "metadata": {
    "execution": {
     "iopub.execute_input": "2024-06-05T11:26:46.840140Z",
     "iopub.status.busy": "2024-06-05T11:26:46.838942Z",
     "iopub.status.idle": "2024-06-05T11:26:46.859129Z",
     "shell.execute_reply": "2024-06-05T11:26:46.858626Z",
     "shell.execute_reply.started": "2024-06-05T11:26:46.840076Z"
    },
    "tags": []
   },
   "outputs": [
    {
     "data": {
      "text/plain": [
       "[{'url': 'https://terms.naver.com/entry.naver?docId=6226078&cid=51007&categoryId=51007'}]"
      ]
     },
     "execution_count": 88,
     "metadata": {},
     "output_type": "execute_result"
    }
   ],
   "source": [
    "res['metadatas'][0][0]['url']"
   ]
  },
  {
   "cell_type": "code",
   "execution_count": null,
   "id": "4f298564-576e-4a67-865e-72f6adbb2498",
   "metadata": {},
   "outputs": [],
   "source": []
  },
  {
   "cell_type": "code",
   "execution_count": 71,
   "id": "ef802305-7540-431e-b78e-e9d84720b5cb",
   "metadata": {
    "execution": {
     "iopub.execute_input": "2024-06-04T11:28:51.033928Z",
     "iopub.status.busy": "2024-06-04T11:28:51.033746Z",
     "iopub.status.idle": "2024-06-04T11:28:51.088835Z",
     "shell.execute_reply": "2024-06-04T11:28:51.088544Z",
     "shell.execute_reply.started": "2024-06-04T11:28:51.033910Z"
    },
    "tags": []
   },
   "outputs": [
    {
     "data": {
      "text/plain": [
       "[Collection(name=test)]"
      ]
     },
     "execution_count": 71,
     "metadata": {},
     "output_type": "execute_result"
    }
   ],
   "source": [
    "client.delete_collection"
   ]
  },
  {
   "cell_type": "code",
   "execution_count": 73,
   "id": "8cab7bc9-72d4-42bf-924d-a24b2f3c4da4",
   "metadata": {
    "execution": {
     "iopub.execute_input": "2024-06-04T11:29:00.730498Z",
     "iopub.status.busy": "2024-06-04T11:29:00.730254Z",
     "iopub.status.idle": "2024-06-04T11:29:00.970609Z",
     "shell.execute_reply": "2024-06-04T11:29:00.970318Z",
     "shell.execute_reply.started": "2024-06-04T11:29:00.730478Z"
    },
    "tags": []
   },
   "outputs": [],
   "source": [
    "client.delete_collection(\"test\")"
   ]
  },
  {
   "cell_type": "code",
   "execution_count": null,
   "id": "a23d8704-96c6-4e9d-a2a4-57bc816fbd53",
   "metadata": {},
   "outputs": [],
   "source": [
    " collection = client.create_collection(\n",
    "        name=\"collection_name\",\n",
    "        metadata={\"hnsw:space\": \"cosine\"} # l2 is the default\n",
    "    )"
   ]
  },
  {
   "cell_type": "code",
   "execution_count": 29,
   "id": "8cee311b-36d8-4fe1-8840-6acd4c52c877",
   "metadata": {
    "execution": {
     "iopub.execute_input": "2024-06-05T09:38:35.491493Z",
     "iopub.status.busy": "2024-06-05T09:38:35.490480Z",
     "iopub.status.idle": "2024-06-05T09:38:35.502182Z",
     "shell.execute_reply": "2024-06-05T09:38:35.501497Z",
     "shell.execute_reply.started": "2024-06-05T09:38:35.491447Z"
    },
    "tags": []
   },
   "outputs": [],
   "source": [
    "test = \"first : {hi}, second: {hello}\""
   ]
  },
  {
   "cell_type": "code",
   "execution_count": 31,
   "id": "03d423c6-662b-467d-97e1-498cab20bb66",
   "metadata": {
    "execution": {
     "iopub.execute_input": "2024-06-05T09:38:53.164095Z",
     "iopub.status.busy": "2024-06-05T09:38:53.163131Z",
     "iopub.status.idle": "2024-06-05T09:38:53.180494Z",
     "shell.execute_reply": "2024-06-05T09:38:53.179634Z",
     "shell.execute_reply.started": "2024-06-05T09:38:53.164038Z"
    },
    "tags": []
   },
   "outputs": [
    {
     "data": {
      "text/plain": [
       "'first : hihihi, second: hellohello'"
      ]
     },
     "execution_count": 31,
     "metadata": {},
     "output_type": "execute_result"
    }
   ],
   "source": [
    "test.format(hi=\"hihihi\", hello=\"hellohello\", url=\"url\")"
   ]
  },
  {
   "cell_type": "code",
   "execution_count": 45,
   "id": "9883c3eb-c3ab-467f-90c0-5a4beb60e874",
   "metadata": {
    "execution": {
     "iopub.execute_input": "2024-06-05T09:46:06.726197Z",
     "iopub.status.busy": "2024-06-05T09:46:06.725621Z",
     "iopub.status.idle": "2024-06-05T09:46:06.743493Z",
     "shell.execute_reply": "2024-06-05T09:46:06.742860Z",
     "shell.execute_reply.started": "2024-06-05T09:46:06.726166Z"
    },
    "tags": []
   },
   "outputs": [],
   "source": [
    "def test(config):\n",
    "    test = \"first : {hi}, second: {hello}\"\n",
    "    test = test.format(**config)\n",
    "    return test"
   ]
  },
  {
   "cell_type": "code",
   "execution_count": 46,
   "id": "c4736464-4d1c-4559-81b6-29e7b05343f6",
   "metadata": {
    "execution": {
     "iopub.execute_input": "2024-06-05T09:46:09.225402Z",
     "iopub.status.busy": "2024-06-05T09:46:09.224964Z",
     "iopub.status.idle": "2024-06-05T09:46:09.237732Z",
     "shell.execute_reply": "2024-06-05T09:46:09.237008Z",
     "shell.execute_reply.started": "2024-06-05T09:46:09.225374Z"
    },
    "tags": []
   },
   "outputs": [
    {
     "data": {
      "text/plain": [
       "'first : hihihihi, second: hellohello'"
      ]
     },
     "execution_count": 46,
     "metadata": {},
     "output_type": "execute_result"
    }
   ],
   "source": [
    "test({'hi': 'hihihihi', 'hello': 'hellohello'})"
   ]
  },
  {
   "cell_type": "code",
   "execution_count": 47,
   "id": "ac45b1f6-fbfd-4953-885b-bc247ad626f4",
   "metadata": {
    "execution": {
     "iopub.execute_input": "2024-06-05T10:45:35.327948Z",
     "iopub.status.busy": "2024-06-05T10:45:35.327745Z",
     "iopub.status.idle": "2024-06-05T10:45:35.330314Z",
     "shell.execute_reply": "2024-06-05T10:45:35.329775Z",
     "shell.execute_reply.started": "2024-06-05T10:45:35.327934Z"
    }
   },
   "outputs": [],
   "source": [
    "test = [[1], [2]]"
   ]
  },
  {
   "cell_type": "code",
   "execution_count": 48,
   "id": "4bed2594-1e42-4420-b8a4-59972dac46d2",
   "metadata": {
    "execution": {
     "iopub.execute_input": "2024-06-05T10:45:47.785599Z",
     "iopub.status.busy": "2024-06-05T10:45:47.784420Z",
     "iopub.status.idle": "2024-06-05T10:45:47.797575Z",
     "shell.execute_reply": "2024-06-05T10:45:47.795511Z",
     "shell.execute_reply.started": "2024-06-05T10:45:47.785549Z"
    },
    "tags": []
   },
   "outputs": [
    {
     "data": {
      "text/plain": [
       "[2, 3]"
      ]
     },
     "execution_count": 48,
     "metadata": {},
     "output_type": "execute_result"
    }
   ],
   "source": [
    "[t[0]+1 for t in test]"
   ]
  },
  {
   "cell_type": "code",
   "execution_count": 49,
   "id": "ca4a84e5-f0bb-48f1-aa3f-e6c451e4b95a",
   "metadata": {
    "execution": {
     "iopub.execute_input": "2024-06-05T10:49:26.073474Z",
     "iopub.status.busy": "2024-06-05T10:49:26.073297Z",
     "iopub.status.idle": "2024-06-05T10:49:26.077172Z",
     "shell.execute_reply": "2024-06-05T10:49:26.075326Z",
     "shell.execute_reply.started": "2024-06-05T10:49:26.073458Z"
    },
    "tags": []
   },
   "outputs": [],
   "source": [
    "import json\n",
    "r = json.dumps([2, 3])"
   ]
  },
  {
   "cell_type": "code",
   "execution_count": 51,
   "id": "b50d6539-2639-4476-a23c-2425a1e41af7",
   "metadata": {
    "execution": {
     "iopub.execute_input": "2024-06-05T10:49:32.619917Z",
     "iopub.status.busy": "2024-06-05T10:49:32.619440Z",
     "iopub.status.idle": "2024-06-05T10:49:32.633932Z",
     "shell.execute_reply": "2024-06-05T10:49:32.632858Z",
     "shell.execute_reply.started": "2024-06-05T10:49:32.619892Z"
    },
    "tags": []
   },
   "outputs": [
    {
     "data": {
      "text/plain": [
       "True"
      ]
     },
     "execution_count": 51,
     "metadata": {},
     "output_type": "execute_result"
    }
   ],
   "source": [
    "isinstance(r, str)"
   ]
  },
  {
   "cell_type": "code",
   "execution_count": null,
   "id": "c000165a-4da4-4d1b-a6bd-89666dec65a8",
   "metadata": {},
   "outputs": [],
   "source": []
  }
 ],
 "metadata": {
  "kernelspec": {
   "display_name": "Python 3 (ipykernel)",
   "language": "python",
   "name": "python3"
  },
  "language_info": {
   "codemirror_mode": {
    "name": "ipython",
    "version": 3
   },
   "file_extension": ".py",
   "mimetype": "text/x-python",
   "name": "python",
   "nbconvert_exporter": "python",
   "pygments_lexer": "ipython3",
   "version": "3.11.5"
  }
 },
 "nbformat": 4,
 "nbformat_minor": 5
}

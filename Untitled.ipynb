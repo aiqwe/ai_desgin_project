{
 "cells": [
  {
   "cell_type": "code",
   "execution_count": 1,
   "id": "e6a503cf-cd38-4c61-8e45-c0801c775c5e",
   "metadata": {
    "execution": {
     "iopub.execute_input": "2024-05-28T10:33:31.558060Z",
     "iopub.status.busy": "2024-05-28T10:33:31.557628Z",
     "iopub.status.idle": "2024-05-28T10:33:32.464197Z",
     "shell.execute_reply": "2024-05-28T10:33:32.463822Z",
     "shell.execute_reply.started": "2024-05-28T10:33:31.558037Z"
    },
    "tags": []
   },
   "outputs": [],
   "source": [
    "import streamlit as st\n",
    "import pandas as pd\n",
    "from typing import Literal\n",
    "from src import process\n",
    "from src import api\n",
    "from src import prompts\n",
    "import json"
   ]
  },
  {
   "cell_type": "code",
   "execution_count": 2,
   "id": "316b11c0-d3de-43d6-9288-b3ccdc1d932b",
   "metadata": {
    "execution": {
     "iopub.execute_input": "2024-05-28T10:33:32.465217Z",
     "iopub.status.busy": "2024-05-28T10:33:32.464976Z",
     "iopub.status.idle": "2024-05-28T10:33:32.468481Z",
     "shell.execute_reply": "2024-05-28T10:33:32.468209Z",
     "shell.execute_reply.started": "2024-05-28T10:33:32.465204Z"
    },
    "tags": []
   },
   "outputs": [
    {
     "data": {
      "text/plain": [
       "'당신은 의학적 지식을 기반으로 건강검진 검사 결과를 해석하고, 건강 나이를 측정하여 설명해야합니다.\\n건강 검진 검사 결과 아래의 방법으로 해석하세요:\\n- 건강검진 결과는 과거 데이터와 현재 데이터가 주어지며, 과거 데이터를 기반으로 현재 데이터가 어떻게 변화하였는지 설명합니다.\\n- 같은 그룹의 과거 집계 데이터와 비교하여 해석합니다.\\n- 검사 결과 수치를 WebPilot을 이용하여 검색한 뒤 결과를 해석합니다.\\n\\n건강 나이는 아래의 방법으로 해석하세요:\\n- 현재 데이터, 같은 그룹의 과거 집계 데이터, WebPilot을 통한 검색 결과를 기반으로 건강 나이를 측정합니다.\\n- 건강 나이가 측정된 이유를 의학적 지식을 바탕으로 설명합니다.\\n\\n결과값은 JSON 형식으로 출력되어야 하며, 아래 양식을 반드시 지켜야합니다.\\n{\"health_age\": \"{측정한 건강 나이}\", \"reason\": \"{건강 나이를 측정한 이유 설명}\"} \\n\\n### 현재데이터\\n-혈압: 150\\n\\n### 같은 그룹의 과거 집계 데이터\\n-혈압:100\\n'"
      ]
     },
     "execution_count": 2,
     "metadata": {},
     "output_type": "execute_result"
    }
   ],
   "source": [
    "prompts.HEALTH_AGE_PROMPT.format(current=\"-혈압: 150\", group=\"-혈압:100\")"
   ]
  },
  {
   "cell_type": "code",
   "execution_count": 3,
   "id": "8a4420a8-ffb0-49ba-81c9-5454bc24db42",
   "metadata": {
    "execution": {
     "iopub.execute_input": "2024-05-28T10:33:33.287774Z",
     "iopub.status.busy": "2024-05-28T10:33:33.287519Z",
     "iopub.status.idle": "2024-05-28T10:33:33.291234Z",
     "shell.execute_reply": "2024-05-28T10:33:33.290741Z",
     "shell.execute_reply.started": "2024-05-28T10:33:33.287757Z"
    },
    "tags": []
   },
   "outputs": [
    {
     "data": {
      "text/plain": [
       "'당신은 의학적 지식을 기반으로 건강검진 검사 결과를 해석하고, 건강 나이를 측정하여 설명해야합니다.\\n건강 검진 검사 결과 아래의 방법으로 해석하세요:\\n- 건강검진 결과는 과거 데이터와 현재 데이터가 주어지며, 과거 데이터를 기반으로 현재 데이터가 어떻게 변화하였는지 설명합니다.\\n- 같은 그룹의 과거 집계 데이터와 비교하여 해석합니다.\\n- 검사 결과 수치를 WebPilot을 이용하여 검색한 뒤 결과를 해석합니다.\\n\\n건강 나이는 아래의 방법으로 해석하세요:\\n- 현재 데이터, 같은 그룹의 과거 집계 데이터, WebPilot을 통한 검색 결과를 기반으로 건강 나이를 측정합니다.\\n- 건강 나이가 측정된 이유를 의학적 지식을 바탕으로 설명합니다.\\n\\n결과값은 JSON 형식으로 출력되어야 하며, 아래 양식을 반드시 지켜야합니다.\\n{{\"health_age\": \"{{측정한 건강 나이}}\", \"reason\": \"{{건강 나이를 측정한 이유 설명}}\"}} \\n\\n### 현재데이터\\n{current}\\n\\n### 같은 그룹의 과거 집계 데이터\\n{group}\\n'"
      ]
     },
     "execution_count": 3,
     "metadata": {},
     "output_type": "execute_result"
    }
   ],
   "source": [
    "prompts.HEALTH_AGE_PROMPT"
   ]
  },
  {
   "cell_type": "code",
   "execution_count": 4,
   "id": "d605afda-2af9-461d-b3e5-210648032a1c",
   "metadata": {
    "execution": {
     "iopub.execute_input": "2024-05-28T10:37:43.040871Z",
     "iopub.status.busy": "2024-05-28T10:37:43.040291Z",
     "iopub.status.idle": "2024-05-28T10:37:43.050600Z",
     "shell.execute_reply": "2024-05-28T10:37:43.048292Z",
     "shell.execute_reply.started": "2024-05-28T10:37:43.040840Z"
    },
    "tags": []
   },
   "outputs": [],
   "source": [
    "import json"
   ]
  },
  {
   "cell_type": "code",
   "execution_count": 7,
   "id": "30d7691c-46b1-4109-85bf-05dd5b0d3357",
   "metadata": {
    "execution": {
     "iopub.execute_input": "2024-05-28T10:38:05.947709Z",
     "iopub.status.busy": "2024-05-28T10:38:05.947091Z",
     "iopub.status.idle": "2024-05-28T10:38:05.953025Z",
     "shell.execute_reply": "2024-05-28T10:38:05.952453Z",
     "shell.execute_reply.started": "2024-05-28T10:38:05.947686Z"
    },
    "tags": []
   },
   "outputs": [],
   "source": [
    "data = \"\"\"{\n",
    "  \"health_age\": \"35\",\n",
    "  \"reason\": \"현재 데이터와 같은 그룹의 과거 집계 데이터를 비교한 결과, 수축기혈압과 이완기혈압이 크게 차이가 납니다. 현재 데이터의 수축기혈압은 150mmHg로, 같은 그룹의 평균 수축기혈압인 120.69mmHg보다 높으며, 이완기혈압은 50mmHg로 평균 이완기혈압인 72.98mmHg보다 낮습니다. 이는 고혈압과 저혈압이 동시에 나타나는 상태로, 심혈관계 질환의 위험이 증가할 수 있습니다. 이러한 혈압 수치는 일반적으로 나이가 많은 사람들에게서 더 흔히 나타나는 경향이 있습니다. 따라서, 혈압 수치를 고려할 때, 건강 나이는 실제 나이보다 더 높은 35세로 측정됩니다.\"\n",
    "}\"\"\""
   ]
  },
  {
   "cell_type": "code",
   "execution_count": 9,
   "id": "c4d21633-bcc3-403d-88cf-eb653085264f",
   "metadata": {
    "execution": {
     "iopub.execute_input": "2024-05-28T10:38:11.370382Z",
     "iopub.status.busy": "2024-05-28T10:38:11.369776Z",
     "iopub.status.idle": "2024-05-28T10:38:11.384674Z",
     "shell.execute_reply": "2024-05-28T10:38:11.383143Z",
     "shell.execute_reply.started": "2024-05-28T10:38:11.370356Z"
    },
    "tags": []
   },
   "outputs": [
    {
     "data": {
      "text/plain": [
       "'35'"
      ]
     },
     "execution_count": 9,
     "metadata": {},
     "output_type": "execute_result"
    }
   ],
   "source": [
    "json.loads(data)['health_age']"
   ]
  },
  {
   "cell_type": "code",
   "execution_count": 10,
   "id": "b6e1d9c6-905b-4cbc-87b4-5b245674f06c",
   "metadata": {
    "execution": {
     "iopub.execute_input": "2024-05-28T11:41:29.235490Z",
     "iopub.status.busy": "2024-05-28T11:41:29.234736Z",
     "iopub.status.idle": "2024-05-28T11:41:29.250752Z",
     "shell.execute_reply": "2024-05-28T11:41:29.244614Z",
     "shell.execute_reply.started": "2024-05-28T11:41:29.235437Z"
    }
   },
   "outputs": [],
   "source": [
    "text = \"\"\"health_age:35\n",
    "reason: 수축기혈압이 그룹 평균값보다 높고 체중이 그룹 평균보다 많이 나가며, 이완기혈압이 그룹 평균보다 낮습니다.\n",
    "이러한 요인들은 심혈관 건강에 부정적인 영향을 미칠 수 있어 건강 나이가 실제 나이보다 더 높게 측정되었습니다.\n",
    "\"\"\""
   ]
  },
  {
   "cell_type": "code",
   "execution_count": 13,
   "id": "d67f5700-52e3-4b05-9cec-7a2d63de0323",
   "metadata": {
    "execution": {
     "iopub.execute_input": "2024-05-28T11:42:02.271067Z",
     "iopub.status.busy": "2024-05-28T11:42:02.269808Z",
     "iopub.status.idle": "2024-05-28T11:42:02.285438Z",
     "shell.execute_reply": "2024-05-28T11:42:02.284943Z",
     "shell.execute_reply.started": "2024-05-28T11:42:02.271016Z"
    },
    "tags": []
   },
   "outputs": [
    {
     "data": {
      "text/plain": [
       "['35',\n",
       " ' 수축기혈압이 그룹 평균값보다 높고 체중이 그룹 평균보다 많이 나가며, 이완기혈압이 그룹 평균보다 낮습니다.',\n",
       " '이러한 요인들은 심혈관 건강에 부정적인 영향을 미칠 수 있어 건강 나이가 실제 나이보다 더 높게 측정되었습니다.',\n",
       " '']"
      ]
     },
     "execution_count": 13,
     "metadata": {},
     "output_type": "execute_result"
    }
   ],
   "source": [
    "[line.split(\":\")[-1] for line in text.split(\"\\n\")]"
   ]
  },
  {
   "cell_type": "code",
   "execution_count": null,
   "id": "436cac62-0b3b-4977-9539-5405e2a643a5",
   "metadata": {},
   "outputs": [],
   "source": []
  }
 ],
 "metadata": {
  "kernelspec": {
   "display_name": "nlp",
   "language": "python",
   "name": ".nlp"
  },
  "language_info": {
   "codemirror_mode": {
    "name": "ipython",
    "version": 3
   },
   "file_extension": ".py",
   "mimetype": "text/x-python",
   "name": "python",
   "nbconvert_exporter": "python",
   "pygments_lexer": "ipython3",
   "version": "3.11.5"
  }
 },
 "nbformat": 4,
 "nbformat_minor": 5
}

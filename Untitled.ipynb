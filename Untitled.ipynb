{
 "cells": [
  {
   "cell_type": "code",
   "execution_count": 1,
   "id": "3449b935-e1f9-4637-841c-923e6941aae1",
   "metadata": {
    "execution": {
     "iopub.execute_input": "2024-05-27T12:54:33.167963Z",
     "iopub.status.busy": "2024-05-27T12:54:33.167753Z",
     "iopub.status.idle": "2024-05-27T12:54:33.496965Z",
     "shell.execute_reply": "2024-05-27T12:54:33.496676Z",
     "shell.execute_reply.started": "2024-05-27T12:54:33.167942Z"
    },
    "tags": []
   },
   "outputs": [],
   "source": [
    "import pandas as pd\n",
    "from src import process"
   ]
  },
  {
   "cell_type": "code",
   "execution_count": 2,
   "id": "a16c4098-7311-464e-948d-56f92a1d307e",
   "metadata": {
    "execution": {
     "iopub.execute_input": "2024-05-27T12:54:33.498263Z",
     "iopub.status.busy": "2024-05-27T12:54:33.498095Z",
     "iopub.status.idle": "2024-05-27T12:54:33.500253Z",
     "shell.execute_reply": "2024-05-27T12:54:33.499863Z",
     "shell.execute_reply.started": "2024-05-27T12:54:33.498253Z"
    },
    "tags": []
   },
   "outputs": [],
   "source": [
    "pd.set_option(\"display.max_columns\", None)"
   ]
  },
  {
   "cell_type": "code",
   "execution_count": 4,
   "id": "b829e7d2-d2ff-4811-8bc1-064dae384cb2",
   "metadata": {
    "execution": {
     "iopub.execute_input": "2024-05-27T12:54:39.848417Z",
     "iopub.status.busy": "2024-05-27T12:54:39.847642Z",
     "iopub.status.idle": "2024-05-27T12:54:39.863824Z",
     "shell.execute_reply": "2024-05-27T12:54:39.863024Z",
     "shell.execute_reply.started": "2024-05-27T12:54:39.848357Z"
    },
    "tags": []
   },
   "outputs": [],
   "source": [
    "my = process.get_personal_info(user_id = 2)"
   ]
  },
  {
   "cell_type": "code",
   "execution_count": 5,
   "id": "698ed58f-40cb-4105-b618-66c780bd14eb",
   "metadata": {
    "execution": {
     "iopub.execute_input": "2024-05-27T12:54:42.808011Z",
     "iopub.status.busy": "2024-05-27T12:54:42.807128Z",
     "iopub.status.idle": "2024-05-27T12:54:42.824160Z",
     "shell.execute_reply": "2024-05-27T12:54:42.823650Z",
     "shell.execute_reply.started": "2024-05-27T12:54:42.807963Z"
    },
    "tags": []
   },
   "outputs": [
    {
     "data": {
      "text/plain": [
       "{'기준년도': 2022,\n",
       " '가입자일련번호': 2,\n",
       " '시도코드': '경기',\n",
       " '성별': '여',\n",
       " '나이': 65,\n",
       " '키': 150,\n",
       " '체중': 60,\n",
       " '허리둘레': 78.8,\n",
       " '시력_좌': 1.0,\n",
       " '시력_우': 1.0,\n",
       " '청력_좌': 1.0,\n",
       " '청력_우': 1.0,\n",
       " '수축기혈압': 135.0,\n",
       " '이완기혈압': 81.0,\n",
       " '식전혈당': 105.0,\n",
       " '총콜레스테롤': nan,\n",
       " '트리글리세라이드': nan,\n",
       " 'HDL콜레스테롤': nan,\n",
       " 'LDL콜레스테롤': nan,\n",
       " '혈색소': 13.0,\n",
       " '요단백': 1.0,\n",
       " '혈청크레아티닌': 0.8,\n",
       " '혈청지오티': 17.0,\n",
       " '혈청지피티': 15.0,\n",
       " '감마지티피': 15.0,\n",
       " '흡연상태': 1.0,\n",
       " '음주여부': 1.0,\n",
       " '구강검진수검여부': 0,\n",
       " '치아우식증유무': nan,\n",
       " '치석': nan}"
      ]
     },
     "execution_count": 5,
     "metadata": {},
     "output_type": "execute_result"
    }
   ],
   "source": [
    "my"
   ]
  },
  {
   "cell_type": "code",
   "execution_count": 7,
   "id": "1f9a0df1-adc6-4efe-b6aa-a46a8fcbd917",
   "metadata": {
    "execution": {
     "iopub.execute_input": "2024-05-27T12:52:25.252096Z",
     "iopub.status.busy": "2024-05-27T12:52:25.251513Z",
     "iopub.status.idle": "2024-05-27T12:52:25.320751Z",
     "shell.execute_reply": "2024-05-27T12:52:25.320440Z",
     "shell.execute_reply.started": "2024-05-27T12:52:25.252055Z"
    },
    "tags": []
   },
   "outputs": [],
   "source": [
    "group = process.get_group_info(user_id = 2)"
   ]
  },
  {
   "cell_type": "code",
   "execution_count": 8,
   "id": "cffce37d-426f-4a44-8be2-f62fe2451863",
   "metadata": {
    "execution": {
     "iopub.execute_input": "2024-05-27T12:52:27.483113Z",
     "iopub.status.busy": "2024-05-27T12:52:27.482543Z",
     "iopub.status.idle": "2024-05-27T12:52:27.504434Z",
     "shell.execute_reply": "2024-05-27T12:52:27.503762Z",
     "shell.execute_reply.started": "2024-05-27T12:52:27.483073Z"
    },
    "tags": []
   },
   "outputs": [
    {
     "data": {
      "text/html": [
       "<div>\n",
       "<style scoped>\n",
       "    .dataframe tbody tr th:only-of-type {\n",
       "        vertical-align: middle;\n",
       "    }\n",
       "\n",
       "    .dataframe tbody tr th {\n",
       "        vertical-align: top;\n",
       "    }\n",
       "\n",
       "    .dataframe thead th {\n",
       "        text-align: right;\n",
       "    }\n",
       "</style>\n",
       "<table border=\"1\" class=\"dataframe\">\n",
       "  <thead>\n",
       "    <tr style=\"text-align: right;\">\n",
       "      <th></th>\n",
       "      <th>기준년도</th>\n",
       "      <th>가입자일련번호</th>\n",
       "      <th>나이</th>\n",
       "      <th>성별</th>\n",
       "      <th>키</th>\n",
       "      <th>체중</th>\n",
       "      <th>허리둘레</th>\n",
       "      <th>시력_좌</th>\n",
       "      <th>시력_우</th>\n",
       "      <th>청력_좌</th>\n",
       "      <th>청력_우</th>\n",
       "      <th>수축기혈압</th>\n",
       "      <th>이완기혈압</th>\n",
       "      <th>식전혈당</th>\n",
       "      <th>총콜레스테롤</th>\n",
       "      <th>트리글리세라이드</th>\n",
       "      <th>HDL콜레스테롤</th>\n",
       "      <th>LDL콜레스테롤</th>\n",
       "      <th>혈색소</th>\n",
       "      <th>요단백</th>\n",
       "      <th>혈청크레아티닌</th>\n",
       "      <th>혈청지오티</th>\n",
       "      <th>혈청지피티</th>\n",
       "      <th>감마지티피</th>\n",
       "      <th>흡연상태</th>\n",
       "      <th>음주여부</th>\n",
       "    </tr>\n",
       "  </thead>\n",
       "  <tbody>\n",
       "    <tr>\n",
       "      <th>0</th>\n",
       "      <td>2022</td>\n",
       "      <td>2</td>\n",
       "      <td>65</td>\n",
       "      <td>여</td>\n",
       "      <td>150.0</td>\n",
       "      <td>60.00</td>\n",
       "      <td>78.8</td>\n",
       "      <td>1.00</td>\n",
       "      <td>1.00</td>\n",
       "      <td>1.00</td>\n",
       "      <td>1.00</td>\n",
       "      <td>135.0</td>\n",
       "      <td>81.00</td>\n",
       "      <td>105.00</td>\n",
       "      <td>NaN</td>\n",
       "      <td>NaN</td>\n",
       "      <td>NaN</td>\n",
       "      <td>NaN</td>\n",
       "      <td>13.00</td>\n",
       "      <td>1.0</td>\n",
       "      <td>0.80</td>\n",
       "      <td>17.00</td>\n",
       "      <td>15.00</td>\n",
       "      <td>15.00</td>\n",
       "      <td>1.0</td>\n",
       "      <td>1.0</td>\n",
       "    </tr>\n",
       "    <tr>\n",
       "      <th>1</th>\n",
       "      <td>TOTAL</td>\n",
       "      <td>GROUP</td>\n",
       "      <td>65</td>\n",
       "      <td>여</td>\n",
       "      <td>153.4</td>\n",
       "      <td>55.88</td>\n",
       "      <td>78.8</td>\n",
       "      <td>0.83</td>\n",
       "      <td>0.84</td>\n",
       "      <td>1.04</td>\n",
       "      <td>1.04</td>\n",
       "      <td>125.0</td>\n",
       "      <td>75.29</td>\n",
       "      <td>102.36</td>\n",
       "      <td>202.7</td>\n",
       "      <td>115.15</td>\n",
       "      <td>60.71</td>\n",
       "      <td>119.03</td>\n",
       "      <td>13.41</td>\n",
       "      <td>1.1</td>\n",
       "      <td>0.71</td>\n",
       "      <td>28.39</td>\n",
       "      <td>24.87</td>\n",
       "      <td>26.46</td>\n",
       "      <td>1.0</td>\n",
       "      <td>0.0</td>\n",
       "    </tr>\n",
       "  </tbody>\n",
       "</table>\n",
       "</div>"
      ],
      "text/plain": [
       "    기준년도 가입자일련번호  나이 성별      키     체중  허리둘레  시력_좌  시력_우  청력_좌  청력_우  수축기혈압  \\\n",
       "0   2022       2  65  여  150.0  60.00  78.8  1.00  1.00  1.00  1.00  135.0   \n",
       "1  TOTAL   GROUP  65  여  153.4  55.88  78.8  0.83  0.84  1.04  1.04  125.0   \n",
       "\n",
       "   이완기혈압    식전혈당  총콜레스테롤  트리글리세라이드  HDL콜레스테롤  LDL콜레스테롤    혈색소  요단백  혈청크레아티닌  \\\n",
       "0  81.00  105.00     NaN       NaN       NaN       NaN  13.00  1.0     0.80   \n",
       "1  75.29  102.36   202.7    115.15     60.71    119.03  13.41  1.1     0.71   \n",
       "\n",
       "   혈청지오티  혈청지피티  감마지티피  흡연상태  음주여부  \n",
       "0  17.00  15.00  15.00   1.0   1.0  \n",
       "1  28.39  24.87  26.46   1.0   0.0  "
      ]
     },
     "execution_count": 8,
     "metadata": {},
     "output_type": "execute_result"
    }
   ],
   "source": [
    "pd.DataFrame(data = [my, group], columns = group.keys())"
   ]
  },
  {
   "cell_type": "code",
   "execution_count": null,
   "id": "36ddf984-c28a-4651-85ac-1db4e1267b44",
   "metadata": {},
   "outputs": [],
   "source": [
    "import math"
   ]
  },
  {
   "cell_type": "code",
   "execution_count": 10,
   "id": "41fa6eea-81e7-44af-a565-a5c2fb1d604b",
   "metadata": {
    "execution": {
     "iopub.execute_input": "2024-05-27T11:49:46.136689Z",
     "iopub.status.busy": "2024-05-27T11:49:46.135991Z",
     "iopub.status.idle": "2024-05-27T11:49:46.153260Z",
     "shell.execute_reply": "2024-05-27T11:49:46.152410Z",
     "shell.execute_reply.started": "2024-05-27T11:49:46.136638Z"
    },
    "tags": []
   },
   "outputs": [
    {
     "data": {
      "text/plain": [
       "40"
      ]
     },
     "execution_count": 10,
     "metadata": {},
     "output_type": "execute_result"
    }
   ],
   "source": [
    "age = 42\n",
    "round(age, -1)"
   ]
  },
  {
   "cell_type": "code",
   "execution_count": 8,
   "id": "c589d0ed-aade-4020-89a4-6ced27b6058d",
   "metadata": {
    "execution": {
     "iopub.execute_input": "2024-05-27T11:47:10.232698Z",
     "iopub.status.busy": "2024-05-27T11:47:10.232064Z",
     "iopub.status.idle": "2024-05-27T11:47:10.255656Z",
     "shell.execute_reply": "2024-05-27T11:47:10.254350Z",
     "shell.execute_reply.started": "2024-05-27T11:47:10.232638Z"
    },
    "tags": []
   },
   "outputs": [
    {
     "data": {
      "text/plain": [
       "{'기준년도': 'TOTAL',\n",
       " '가입자일련번호': 'GROUP',\n",
       " '나이': 45,\n",
       " '성별': '여',\n",
       " '키': 158.74,\n",
       " '체중': 57.64,\n",
       " '허리둘레': 74.85,\n",
       " '시력_좌': 1.01,\n",
       " '시력_우': 1.01,\n",
       " '청력_좌': 1.01,\n",
       " '청력_우': 1.01,\n",
       " '수축기혈압': 116.31,\n",
       " '이완기혈압': 72.81,\n",
       " '식전혈당': 94.59,\n",
       " '총콜레스테롤': 200.04,\n",
       " '트리글리세라이드': 99.29,\n",
       " 'HDL콜레스테롤': 64.91,\n",
       " 'LDL콜레스테롤': 115.56,\n",
       " '혈색소': 12.97,\n",
       " '요단백': 1.14,\n",
       " '혈청크레아티닌': 0.69,\n",
       " '혈청지오티': 22.12,\n",
       " '혈청지피티': 18.56,\n",
       " '감마지티피': 22.97,\n",
       " '흡연상태': 1.0,\n",
       " '음주여부': 1.0,\n",
       " '구강검진수검여부': 0,\n",
       " '치아우식증유무': 0.0,\n",
       " '치석': 1.0}"
      ]
     },
     "execution_count": 8,
     "metadata": {},
     "output_type": "execute_result"
    }
   ],
   "source": [
    "age = 42"
   ]
  },
  {
   "cell_type": "code",
   "execution_count": null,
   "id": "d3dde89f-b95b-4139-a219-392c40a84b3b",
   "metadata": {},
   "outputs": [],
   "source": []
  }
 ],
 "metadata": {
  "kernelspec": {
   "display_name": "base",
   "language": "python",
   "name": ".base"
  },
  "language_info": {
   "codemirror_mode": {
    "name": "ipython",
    "version": 3
   },
   "file_extension": ".py",
   "mimetype": "text/x-python",
   "name": "python",
   "nbconvert_exporter": "python",
   "pygments_lexer": "ipython3",
   "version": "3.11.5"
  }
 },
 "nbformat": 4,
 "nbformat_minor": 5
}

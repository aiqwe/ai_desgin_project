{
 "cells": [
  {
   "cell_type": "code",
   "execution_count": 1,
   "id": "a025dcce-4c77-489c-b4ef-7dd76d6257dc",
   "metadata": {
    "execution": {
     "iopub.execute_input": "2024-06-04T12:12:31.516532Z",
     "iopub.status.busy": "2024-06-04T12:12:31.516375Z",
     "iopub.status.idle": "2024-06-04T12:12:32.189516Z",
     "shell.execute_reply": "2024-06-04T12:12:32.189192Z",
     "shell.execute_reply.started": "2024-06-04T12:12:31.516515Z"
    },
    "tags": []
   },
   "outputs": [],
   "source": [
    "import chromadb\n",
    "client = chromadb.HttpClient(host=\"localhost\", port=8000)"
   ]
  },
  {
   "cell_type": "code",
   "execution_count": 2,
   "id": "f8d13e42-6f50-4906-8281-a439b404ef2f",
   "metadata": {
    "execution": {
     "iopub.execute_input": "2024-06-04T12:12:32.193588Z",
     "iopub.status.busy": "2024-06-04T12:12:32.193501Z",
     "iopub.status.idle": "2024-06-04T12:12:33.245718Z",
     "shell.execute_reply": "2024-06-04T12:12:33.245396Z",
     "shell.execute_reply.started": "2024-06-04T12:12:32.193578Z"
    },
    "tags": []
   },
   "outputs": [],
   "source": [
    "from chromadb import Documents, EmbeddingFunction, Embeddings\n",
    "from src.encoder import average_pool\n",
    "\n",
    "class embed_func(EmbeddingFunction):        \n",
    "    def __call__(self, input: Documents) -> Embeddings:\n",
    "        embeddings = average_pool(input)\n",
    "        return [embeddings]\n"
   ]
  },
  {
   "cell_type": "code",
   "execution_count": 21,
   "id": "6799b1fd-4e9a-43b3-b591-1c306d94aefb",
   "metadata": {
    "execution": {
     "iopub.execute_input": "2024-06-04T12:16:37.843708Z",
     "iopub.status.busy": "2024-06-04T12:16:37.842030Z",
     "iopub.status.idle": "2024-06-04T12:16:37.871634Z",
     "shell.execute_reply": "2024-06-04T12:16:37.871260Z",
     "shell.execute_reply.started": "2024-06-04T12:16:37.843670Z"
    },
    "tags": []
   },
   "outputs": [],
   "source": [
    "client = chromadb.PersistentClient(path=\"./src/chromadb\")"
   ]
  },
  {
   "cell_type": "code",
   "execution_count": 20,
   "id": "7abffde7-2b80-4be0-853c-fead11626a4e",
   "metadata": {
    "execution": {
     "iopub.execute_input": "2024-06-04T12:16:03.917932Z",
     "iopub.status.busy": "2024-06-04T12:16:03.916568Z",
     "iopub.status.idle": "2024-06-04T12:16:03.948813Z",
     "shell.execute_reply": "2024-06-04T12:16:03.948297Z",
     "shell.execute_reply.started": "2024-06-04T12:16:03.917876Z"
    },
    "tags": []
   },
   "outputs": [
    {
     "ename": "ValueError",
     "evalue": "Collection test does not exist.",
     "output_type": "error",
     "traceback": [
      "\u001b[0;31m---------------------------------------------------------------------------\u001b[0m",
      "\u001b[0;31mValueError\u001b[0m                                Traceback (most recent call last)",
      "Cell \u001b[0;32mIn[20], line 1\u001b[0m\n\u001b[0;32m----> 1\u001b[0m \u001b[44mclient\u001b[49m\u001b[38;5;241;44m.\u001b[39;49m\u001b[44mdelete_collection\u001b[49m\u001b[44m(\u001b[49m\u001b[38;5;124;44m\"\u001b[39;49m\u001b[38;5;124;44mtest\u001b[39;49m\u001b[38;5;124;44m\"\u001b[39;49m\u001b[44m)\u001b[49m\n",
      "File \u001b[0;32m~/.base/lib/python3.11/site-packages/chromadb/api/client.py:264\u001b[0m, in \u001b[0;36mClient.delete_collection\u001b[0;34m(self, name)\u001b[0m\n\u001b[1;32m    259\u001b[0m \u001b[38;5;129m@override\u001b[39m\n\u001b[1;32m    260\u001b[0m \u001b[38;5;28;01mdef\u001b[39;00m \u001b[38;5;21mdelete_collection\u001b[39m(\n\u001b[1;32m    261\u001b[0m     \u001b[38;5;28mself\u001b[39m,\n\u001b[1;32m    262\u001b[0m     name: \u001b[38;5;28mstr\u001b[39m,\n\u001b[1;32m    263\u001b[0m ) \u001b[38;5;241m-\u001b[39m\u001b[38;5;241m>\u001b[39m \u001b[38;5;28;01mNone\u001b[39;00m:\n\u001b[0;32m--> 264\u001b[0m     \u001b[38;5;28;01mreturn\u001b[39;00m \u001b[38;5;28;44mself\u001b[39;49m\u001b[38;5;241;44m.\u001b[39;49m\u001b[44m_server\u001b[49m\u001b[38;5;241;44m.\u001b[39;49m\u001b[44mdelete_collection\u001b[49m\u001b[44m(\u001b[49m\n\u001b[1;32m    265\u001b[0m \u001b[44m        \u001b[49m\u001b[44mname\u001b[49m\u001b[38;5;241;44m=\u001b[39;49m\u001b[44mname\u001b[49m\u001b[44m,\u001b[49m\n\u001b[1;32m    266\u001b[0m \u001b[44m        \u001b[49m\u001b[44mtenant\u001b[49m\u001b[38;5;241;44m=\u001b[39;49m\u001b[38;5;28;44mself\u001b[39;49m\u001b[38;5;241;44m.\u001b[39;49m\u001b[44mtenant\u001b[49m\u001b[44m,\u001b[49m\n\u001b[1;32m    267\u001b[0m \u001b[44m        \u001b[49m\u001b[44mdatabase\u001b[49m\u001b[38;5;241;44m=\u001b[39;49m\u001b[38;5;28;44mself\u001b[39;49m\u001b[38;5;241;44m.\u001b[39;49m\u001b[44mdatabase\u001b[49m\u001b[44m,\u001b[49m\n\u001b[1;32m    268\u001b[0m \u001b[44m    \u001b[49m\u001b[44m)\u001b[49m\n",
      "File \u001b[0;32m~/.base/lib/python3.11/site-packages/chromadb/telemetry/opentelemetry/__init__.py:127\u001b[0m, in \u001b[0;36mtrace_method.<locals>.decorator.<locals>.wrapper\u001b[0;34m(*args, **kwargs)\u001b[0m\n\u001b[1;32m    125\u001b[0m \u001b[38;5;28;01mglobal\u001b[39;00m tracer, granularity\n\u001b[1;32m    126\u001b[0m \u001b[38;5;28;01mif\u001b[39;00m trace_granularity \u001b[38;5;241m<\u001b[39m granularity:\n\u001b[0;32m--> 127\u001b[0m     \u001b[38;5;28;01mreturn\u001b[39;00m \u001b[44mf\u001b[49m\u001b[44m(\u001b[49m\u001b[38;5;241;44m*\u001b[39;49m\u001b[44margs\u001b[49m\u001b[44m,\u001b[49m\u001b[44m \u001b[49m\u001b[38;5;241;44m*\u001b[39;49m\u001b[38;5;241;44m*\u001b[39;49m\u001b[44mkwargs\u001b[49m\u001b[44m)\u001b[49m\n\u001b[1;32m    128\u001b[0m \u001b[38;5;28;01mif\u001b[39;00m \u001b[38;5;129;01mnot\u001b[39;00m tracer:\n\u001b[1;32m    129\u001b[0m     \u001b[38;5;28;01mreturn\u001b[39;00m f(\u001b[38;5;241m*\u001b[39margs, \u001b[38;5;241m*\u001b[39m\u001b[38;5;241m*\u001b[39mkwargs)\n",
      "File \u001b[0;32m~/.base/lib/python3.11/site-packages/chromadb/api/segment.py:346\u001b[0m, in \u001b[0;36mSegmentAPI.delete_collection\u001b[0;34m(self, name, tenant, database)\u001b[0m\n\u001b[1;32m    344\u001b[0m         \u001b[38;5;28;01mdel\u001b[39;00m \u001b[38;5;28mself\u001b[39m\u001b[38;5;241m.\u001b[39m_collection_cache[existing[\u001b[38;5;241m0\u001b[39m][\u001b[38;5;124m\"\u001b[39m\u001b[38;5;124mid\u001b[39m\u001b[38;5;124m\"\u001b[39m]]\n\u001b[1;32m    345\u001b[0m \u001b[38;5;28;01melse\u001b[39;00m:\n\u001b[0;32m--> 346\u001b[0m     \u001b[38;5;28;01mraise\u001b[39;00m \u001b[38;5;167;01mValueError\u001b[39;00m(\u001b[38;5;124mf\u001b[39m\u001b[38;5;124m\"\u001b[39m\u001b[38;5;124mCollection \u001b[39m\u001b[38;5;132;01m{\u001b[39;00mname\u001b[38;5;132;01m}\u001b[39;00m\u001b[38;5;124m does not exist.\u001b[39m\u001b[38;5;124m\"\u001b[39m)\n",
      "\u001b[0;31mValueError\u001b[0m: Collection test does not exist."
     ]
    }
   ],
   "source": [
    "client.delete_collection(\"test\")"
   ]
  },
  {
   "cell_type": "code",
   "execution_count": 22,
   "id": "76941374-30db-4556-baf6-4c0ad1033479",
   "metadata": {
    "execution": {
     "iopub.execute_input": "2024-06-04T12:16:40.754167Z",
     "iopub.status.busy": "2024-06-04T12:16:40.752384Z",
     "iopub.status.idle": "2024-06-04T12:16:40.836626Z",
     "shell.execute_reply": "2024-06-04T12:16:40.836103Z",
     "shell.execute_reply.started": "2024-06-04T12:16:40.754117Z"
    },
    "tags": []
   },
   "outputs": [
    {
     "ename": "OperationalError",
     "evalue": "no such column: collections.topic",
     "output_type": "error",
     "traceback": [
      "\u001b[0;31m---------------------------------------------------------------------------\u001b[0m",
      "\u001b[0;31mOperationalError\u001b[0m                          Traceback (most recent call last)",
      "Cell \u001b[0;32mIn[22], line 1\u001b[0m\n\u001b[0;32m----> 1\u001b[0m \u001b[44mclient\u001b[49m\u001b[38;5;241;44m.\u001b[39;49m\u001b[44mcreate_collection\u001b[49m\u001b[44m(\u001b[49m\n\u001b[1;32m      2\u001b[0m \u001b[44m    \u001b[49m\u001b[44mname\u001b[49m\u001b[38;5;241;44m=\u001b[39;49m\u001b[38;5;124;44m\"\u001b[39;49m\u001b[38;5;124;44mtest\u001b[39;49m\u001b[38;5;124;44m\"\u001b[39;49m\u001b[44m,\u001b[49m\n\u001b[1;32m      3\u001b[0m \u001b[44m    \u001b[49m\u001b[44membedding_function\u001b[49m\u001b[38;5;241;44m=\u001b[39;49m\u001b[44membed_func\u001b[49m\u001b[44m(\u001b[49m\u001b[44m)\u001b[49m\u001b[44m,\u001b[49m\n\u001b[1;32m      4\u001b[0m \u001b[44m    \u001b[49m\u001b[44mmetadata\u001b[49m\u001b[38;5;241;44m=\u001b[39;49m\u001b[44m{\u001b[49m\u001b[38;5;124;44m\"\u001b[39;49m\u001b[38;5;124;44mhnsw:space\u001b[39;49m\u001b[38;5;124;44m\"\u001b[39;49m\u001b[44m:\u001b[49m\u001b[44m \u001b[49m\u001b[38;5;124;44m\"\u001b[39;49m\u001b[38;5;124;44mcosine\u001b[39;49m\u001b[38;5;124;44m\"\u001b[39;49m\u001b[44m}\u001b[49m\u001b[44m)\u001b[49m\n",
      "File \u001b[0;32m~/.base/lib/python3.11/site-packages/chromadb/api/client.py:198\u001b[0m, in \u001b[0;36mClient.create_collection\u001b[0;34m(self, name, metadata, embedding_function, data_loader, get_or_create)\u001b[0m\n\u001b[1;32m    187\u001b[0m \u001b[38;5;129m@override\u001b[39m\n\u001b[1;32m    188\u001b[0m \u001b[38;5;28;01mdef\u001b[39;00m \u001b[38;5;21mcreate_collection\u001b[39m(\n\u001b[1;32m    189\u001b[0m     \u001b[38;5;28mself\u001b[39m,\n\u001b[0;32m   (...)\u001b[0m\n\u001b[1;32m    196\u001b[0m     get_or_create: \u001b[38;5;28mbool\u001b[39m \u001b[38;5;241m=\u001b[39m \u001b[38;5;28;01mFalse\u001b[39;00m,\n\u001b[1;32m    197\u001b[0m ) \u001b[38;5;241m-\u001b[39m\u001b[38;5;241m>\u001b[39m Collection:\n\u001b[0;32m--> 198\u001b[0m     \u001b[38;5;28;01mreturn\u001b[39;00m \u001b[38;5;28;44mself\u001b[39;49m\u001b[38;5;241;44m.\u001b[39;49m\u001b[44m_server\u001b[49m\u001b[38;5;241;44m.\u001b[39;49m\u001b[44mcreate_collection\u001b[49m\u001b[44m(\u001b[49m\n\u001b[1;32m    199\u001b[0m \u001b[44m        \u001b[49m\u001b[44mname\u001b[49m\u001b[38;5;241;44m=\u001b[39;49m\u001b[44mname\u001b[49m\u001b[44m,\u001b[49m\n\u001b[1;32m    200\u001b[0m \u001b[44m        \u001b[49m\u001b[44mmetadata\u001b[49m\u001b[38;5;241;44m=\u001b[39;49m\u001b[44mmetadata\u001b[49m\u001b[44m,\u001b[49m\n\u001b[1;32m    201\u001b[0m \u001b[44m        \u001b[49m\u001b[44membedding_function\u001b[49m\u001b[38;5;241;44m=\u001b[39;49m\u001b[44membedding_function\u001b[49m\u001b[44m,\u001b[49m\n\u001b[1;32m    202\u001b[0m \u001b[44m        \u001b[49m\u001b[44mdata_loader\u001b[49m\u001b[38;5;241;44m=\u001b[39;49m\u001b[44mdata_loader\u001b[49m\u001b[44m,\u001b[49m\n\u001b[1;32m    203\u001b[0m \u001b[44m        \u001b[49m\u001b[44mtenant\u001b[49m\u001b[38;5;241;44m=\u001b[39;49m\u001b[38;5;28;44mself\u001b[39;49m\u001b[38;5;241;44m.\u001b[39;49m\u001b[44mtenant\u001b[49m\u001b[44m,\u001b[49m\n\u001b[1;32m    204\u001b[0m \u001b[44m        \u001b[49m\u001b[44mdatabase\u001b[49m\u001b[38;5;241;44m=\u001b[39;49m\u001b[38;5;28;44mself\u001b[39;49m\u001b[38;5;241;44m.\u001b[39;49m\u001b[44mdatabase\u001b[49m\u001b[44m,\u001b[49m\n\u001b[1;32m    205\u001b[0m \u001b[44m        \u001b[49m\u001b[44mget_or_create\u001b[49m\u001b[38;5;241;44m=\u001b[39;49m\u001b[44mget_or_create\u001b[49m\u001b[44m,\u001b[49m\n\u001b[1;32m    206\u001b[0m \u001b[44m    \u001b[49m\u001b[44m)\u001b[49m\n",
      "File \u001b[0;32m~/.base/lib/python3.11/site-packages/chromadb/telemetry/opentelemetry/__init__.py:127\u001b[0m, in \u001b[0;36mtrace_method.<locals>.decorator.<locals>.wrapper\u001b[0;34m(*args, **kwargs)\u001b[0m\n\u001b[1;32m    125\u001b[0m \u001b[38;5;28;01mglobal\u001b[39;00m tracer, granularity\n\u001b[1;32m    126\u001b[0m \u001b[38;5;28;01mif\u001b[39;00m trace_granularity \u001b[38;5;241m<\u001b[39m granularity:\n\u001b[0;32m--> 127\u001b[0m     \u001b[38;5;28;01mreturn\u001b[39;00m \u001b[44mf\u001b[49m\u001b[44m(\u001b[49m\u001b[38;5;241;44m*\u001b[39;49m\u001b[44margs\u001b[49m\u001b[44m,\u001b[49m\u001b[44m \u001b[49m\u001b[38;5;241;44m*\u001b[39;49m\u001b[38;5;241;44m*\u001b[39;49m\u001b[44mkwargs\u001b[49m\u001b[44m)\u001b[49m\n\u001b[1;32m    128\u001b[0m \u001b[38;5;28;01mif\u001b[39;00m \u001b[38;5;129;01mnot\u001b[39;00m tracer:\n\u001b[1;32m    129\u001b[0m     \u001b[38;5;28;01mreturn\u001b[39;00m f(\u001b[38;5;241m*\u001b[39margs, \u001b[38;5;241m*\u001b[39m\u001b[38;5;241m*\u001b[39mkwargs)\n",
      "File \u001b[0;32m~/.base/lib/python3.11/site-packages/chromadb/api/segment.py:166\u001b[0m, in \u001b[0;36mSegmentAPI.create_collection\u001b[0;34m(self, name, metadata, embedding_function, data_loader, get_or_create, tenant, database)\u001b[0m\n\u001b[1;32m    162\u001b[0m check_index_name(name)\n\u001b[1;32m    164\u001b[0m \u001b[38;5;28mid\u001b[39m \u001b[38;5;241m=\u001b[39m uuid4()\n\u001b[0;32m--> 166\u001b[0m coll, created \u001b[38;5;241m=\u001b[39m \u001b[38;5;28;44mself\u001b[39;49m\u001b[38;5;241;44m.\u001b[39;49m\u001b[44m_sysdb\u001b[49m\u001b[38;5;241;44m.\u001b[39;49m\u001b[44mcreate_collection\u001b[49m\u001b[44m(\u001b[49m\n\u001b[1;32m    167\u001b[0m \u001b[44m    \u001b[49m\u001b[38;5;28;44mid\u001b[39;49m\u001b[38;5;241;44m=\u001b[39;49m\u001b[38;5;28;44mid\u001b[39;49m\u001b[44m,\u001b[49m\n\u001b[1;32m    168\u001b[0m \u001b[44m    \u001b[49m\u001b[44mname\u001b[49m\u001b[38;5;241;44m=\u001b[39;49m\u001b[44mname\u001b[49m\u001b[44m,\u001b[49m\n\u001b[1;32m    169\u001b[0m \u001b[44m    \u001b[49m\u001b[44mmetadata\u001b[49m\u001b[38;5;241;44m=\u001b[39;49m\u001b[44mmetadata\u001b[49m\u001b[44m,\u001b[49m\n\u001b[1;32m    170\u001b[0m \u001b[44m    \u001b[49m\u001b[44mdimension\u001b[49m\u001b[38;5;241;44m=\u001b[39;49m\u001b[38;5;28;44;01mNone\u001b[39;49;00m\u001b[44m,\u001b[49m\n\u001b[1;32m    171\u001b[0m \u001b[44m    \u001b[49m\u001b[44mget_or_create\u001b[49m\u001b[38;5;241;44m=\u001b[39;49m\u001b[44mget_or_create\u001b[49m\u001b[44m,\u001b[49m\n\u001b[1;32m    172\u001b[0m \u001b[44m    \u001b[49m\u001b[44mtenant\u001b[49m\u001b[38;5;241;44m=\u001b[39;49m\u001b[44mtenant\u001b[49m\u001b[44m,\u001b[49m\n\u001b[1;32m    173\u001b[0m \u001b[44m    \u001b[49m\u001b[44mdatabase\u001b[49m\u001b[38;5;241;44m=\u001b[39;49m\u001b[44mdatabase\u001b[49m\u001b[44m,\u001b[49m\n\u001b[1;32m    174\u001b[0m \u001b[44m\u001b[49m\u001b[44m)\u001b[49m\n\u001b[1;32m    176\u001b[0m \u001b[38;5;28;01mif\u001b[39;00m created:\n\u001b[1;32m    177\u001b[0m     segments \u001b[38;5;241m=\u001b[39m \u001b[38;5;28mself\u001b[39m\u001b[38;5;241m.\u001b[39m_manager\u001b[38;5;241m.\u001b[39mcreate_segments(coll)\n",
      "File \u001b[0;32m~/.base/lib/python3.11/site-packages/chromadb/telemetry/opentelemetry/__init__.py:127\u001b[0m, in \u001b[0;36mtrace_method.<locals>.decorator.<locals>.wrapper\u001b[0;34m(*args, **kwargs)\u001b[0m\n\u001b[1;32m    125\u001b[0m \u001b[38;5;28;01mglobal\u001b[39;00m tracer, granularity\n\u001b[1;32m    126\u001b[0m \u001b[38;5;28;01mif\u001b[39;00m trace_granularity \u001b[38;5;241m<\u001b[39m granularity:\n\u001b[0;32m--> 127\u001b[0m     \u001b[38;5;28;01mreturn\u001b[39;00m \u001b[44mf\u001b[49m\u001b[44m(\u001b[49m\u001b[38;5;241;44m*\u001b[39;49m\u001b[44margs\u001b[49m\u001b[44m,\u001b[49m\u001b[44m \u001b[49m\u001b[38;5;241;44m*\u001b[39;49m\u001b[38;5;241;44m*\u001b[39;49m\u001b[44mkwargs\u001b[49m\u001b[44m)\u001b[49m\n\u001b[1;32m    128\u001b[0m \u001b[38;5;28;01mif\u001b[39;00m \u001b[38;5;129;01mnot\u001b[39;00m tracer:\n\u001b[1;32m    129\u001b[0m     \u001b[38;5;28;01mreturn\u001b[39;00m f(\u001b[38;5;241m*\u001b[39margs, \u001b[38;5;241m*\u001b[39m\u001b[38;5;241m*\u001b[39mkwargs)\n",
      "File \u001b[0;32m~/.base/lib/python3.11/site-packages/chromadb/db/mixins/sysdb.py:209\u001b[0m, in \u001b[0;36mSqlSysDB.create_collection\u001b[0;34m(self, id, name, metadata, dimension, get_or_create, tenant, database)\u001b[0m\n\u001b[1;32m    200\u001b[0m     \u001b[38;5;28;01mraise\u001b[39;00m \u001b[38;5;167;01mValueError\u001b[39;00m(\u001b[38;5;124m\"\u001b[39m\u001b[38;5;124mid must be specified if get_or_create is False\u001b[39m\u001b[38;5;124m\"\u001b[39m)\n\u001b[1;32m    202\u001b[0m add_attributes_to_current_span(\n\u001b[1;32m    203\u001b[0m     {\n\u001b[1;32m    204\u001b[0m         \u001b[38;5;124m\"\u001b[39m\u001b[38;5;124mcollection_id\u001b[39m\u001b[38;5;124m\"\u001b[39m: \u001b[38;5;28mstr\u001b[39m(\u001b[38;5;28mid\u001b[39m),\n\u001b[1;32m    205\u001b[0m         \u001b[38;5;124m\"\u001b[39m\u001b[38;5;124mcollection_name\u001b[39m\u001b[38;5;124m\"\u001b[39m: name,\n\u001b[1;32m    206\u001b[0m     }\n\u001b[1;32m    207\u001b[0m )\n\u001b[0;32m--> 209\u001b[0m existing \u001b[38;5;241m=\u001b[39m \u001b[38;5;28;44mself\u001b[39;49m\u001b[38;5;241;44m.\u001b[39;49m\u001b[44mget_collections\u001b[49m\u001b[44m(\u001b[49m\u001b[44mname\u001b[49m\u001b[38;5;241;44m=\u001b[39;49m\u001b[44mname\u001b[49m\u001b[44m,\u001b[49m\u001b[44m \u001b[49m\u001b[44mtenant\u001b[49m\u001b[38;5;241;44m=\u001b[39;49m\u001b[44mtenant\u001b[49m\u001b[44m,\u001b[49m\u001b[44m \u001b[49m\u001b[44mdatabase\u001b[49m\u001b[38;5;241;44m=\u001b[39;49m\u001b[44mdatabase\u001b[49m\u001b[44m)\u001b[49m\n\u001b[1;32m    210\u001b[0m \u001b[38;5;28;01mif\u001b[39;00m existing:\n\u001b[1;32m    211\u001b[0m     \u001b[38;5;28;01mif\u001b[39;00m get_or_create:\n",
      "File \u001b[0;32m~/.base/lib/python3.11/site-packages/chromadb/telemetry/opentelemetry/__init__.py:127\u001b[0m, in \u001b[0;36mtrace_method.<locals>.decorator.<locals>.wrapper\u001b[0;34m(*args, **kwargs)\u001b[0m\n\u001b[1;32m    125\u001b[0m \u001b[38;5;28;01mglobal\u001b[39;00m tracer, granularity\n\u001b[1;32m    126\u001b[0m \u001b[38;5;28;01mif\u001b[39;00m trace_granularity \u001b[38;5;241m<\u001b[39m granularity:\n\u001b[0;32m--> 127\u001b[0m     \u001b[38;5;28;01mreturn\u001b[39;00m \u001b[44mf\u001b[49m\u001b[44m(\u001b[49m\u001b[38;5;241;44m*\u001b[39;49m\u001b[44margs\u001b[49m\u001b[44m,\u001b[49m\u001b[44m \u001b[49m\u001b[38;5;241;44m*\u001b[39;49m\u001b[38;5;241;44m*\u001b[39;49m\u001b[44mkwargs\u001b[49m\u001b[44m)\u001b[49m\n\u001b[1;32m    128\u001b[0m \u001b[38;5;28;01mif\u001b[39;00m \u001b[38;5;129;01mnot\u001b[39;00m tracer:\n\u001b[1;32m    129\u001b[0m     \u001b[38;5;28;01mreturn\u001b[39;00m f(\u001b[38;5;241m*\u001b[39margs, \u001b[38;5;241m*\u001b[39m\u001b[38;5;241m*\u001b[39mkwargs)\n",
      "File \u001b[0;32m~/.base/lib/python3.11/site-packages/chromadb/db/mixins/sysdb.py:435\u001b[0m, in \u001b[0;36mSqlSysDB.get_collections\u001b[0;34m(self, id, topic, name, tenant, database, limit, offset)\u001b[0m\n\u001b[1;32m    433\u001b[0m \u001b[38;5;28;01mwith\u001b[39;00m \u001b[38;5;28mself\u001b[39m\u001b[38;5;241m.\u001b[39mtx() \u001b[38;5;28;01mas\u001b[39;00m cur:\n\u001b[1;32m    434\u001b[0m     sql, params \u001b[38;5;241m=\u001b[39m get_sql(q, \u001b[38;5;28mself\u001b[39m\u001b[38;5;241m.\u001b[39mparameter_format())\n\u001b[0;32m--> 435\u001b[0m     rows \u001b[38;5;241m=\u001b[39m \u001b[44mcur\u001b[49m\u001b[38;5;241;44m.\u001b[39;49m\u001b[44mexecute\u001b[49m\u001b[44m(\u001b[49m\u001b[44msql\u001b[49m\u001b[44m,\u001b[49m\u001b[44m \u001b[49m\u001b[44mparams\u001b[49m\u001b[44m)\u001b[49m\u001b[38;5;241m.\u001b[39mfetchall()\n\u001b[1;32m    436\u001b[0m     by_collection \u001b[38;5;241m=\u001b[39m groupby(rows, \u001b[38;5;28;01mlambda\u001b[39;00m r: cast(\u001b[38;5;28mobject\u001b[39m, r[\u001b[38;5;241m0\u001b[39m]))\n\u001b[1;32m    437\u001b[0m     collections \u001b[38;5;241m=\u001b[39m []\n",
      "\u001b[0;31mOperationalError\u001b[0m: no such column: collections.topic"
     ]
    }
   ],
   "source": [
    "client.create_collection(\n",
    "    name=\"test\",\n",
    "    embedding_function=embed_func(),\n",
    "    metadata={\"hnsw:space\": \"cosine\"})"
   ]
  },
  {
   "cell_type": "code",
   "execution_count": 18,
   "id": "8b660390-7854-483a-ad2e-12ae7e9b90ee",
   "metadata": {
    "execution": {
     "iopub.execute_input": "2024-06-04T12:15:52.355033Z",
     "iopub.status.busy": "2024-06-04T12:15:52.354424Z",
     "iopub.status.idle": "2024-06-04T12:15:52.407147Z",
     "shell.execute_reply": "2024-06-04T12:15:52.406793Z",
     "shell.execute_reply.started": "2024-06-04T12:15:52.354975Z"
    },
    "tags": []
   },
   "outputs": [],
   "source": [
    "client = chromadb.PersistentClient(path=\"./src/chromadb\")"
   ]
  },
  {
   "cell_type": "code",
   "execution_count": 19,
   "id": "0a516b5c-612e-463d-a611-e4734040ab6c",
   "metadata": {
    "execution": {
     "iopub.execute_input": "2024-06-04T12:15:55.445310Z",
     "iopub.status.busy": "2024-06-04T12:15:55.445096Z",
     "iopub.status.idle": "2024-06-04T12:15:55.468338Z",
     "shell.execute_reply": "2024-06-04T12:15:55.467838Z",
     "shell.execute_reply.started": "2024-06-04T12:15:55.445287Z"
    },
    "tags": []
   },
   "outputs": [
    {
     "ename": "ValueError",
     "evalue": "Collection test does not exist.",
     "output_type": "error",
     "traceback": [
      "\u001b[0;31m---------------------------------------------------------------------------\u001b[0m",
      "\u001b[0;31mValueError\u001b[0m                                Traceback (most recent call last)",
      "Cell \u001b[0;32mIn[19], line 1\u001b[0m\n\u001b[0;32m----> 1\u001b[0m test \u001b[38;5;241m=\u001b[39m \u001b[44mclient\u001b[49m\u001b[38;5;241;44m.\u001b[39;49m\u001b[44mget_collection\u001b[49m\u001b[44m(\u001b[49m\u001b[38;5;124;44m\"\u001b[39;49m\u001b[38;5;124;44mtest\u001b[39;49m\u001b[38;5;124;44m\"\u001b[39;49m\u001b[44m)\u001b[49m\n",
      "File \u001b[0;32m~/.base/lib/python3.11/site-packages/chromadb/api/client.py:218\u001b[0m, in \u001b[0;36mClient.get_collection\u001b[0;34m(self, name, id, embedding_function, data_loader)\u001b[0m\n\u001b[1;32m    208\u001b[0m \u001b[38;5;129m@override\u001b[39m\n\u001b[1;32m    209\u001b[0m \u001b[38;5;28;01mdef\u001b[39;00m \u001b[38;5;21mget_collection\u001b[39m(\n\u001b[1;32m    210\u001b[0m     \u001b[38;5;28mself\u001b[39m,\n\u001b[0;32m   (...)\u001b[0m\n\u001b[1;32m    216\u001b[0m     data_loader: Optional[DataLoader[Loadable]] \u001b[38;5;241m=\u001b[39m \u001b[38;5;28;01mNone\u001b[39;00m,\n\u001b[1;32m    217\u001b[0m ) \u001b[38;5;241m-\u001b[39m\u001b[38;5;241m>\u001b[39m Collection:\n\u001b[0;32m--> 218\u001b[0m     \u001b[38;5;28;01mreturn\u001b[39;00m \u001b[38;5;28;44mself\u001b[39;49m\u001b[38;5;241;44m.\u001b[39;49m\u001b[44m_server\u001b[49m\u001b[38;5;241;44m.\u001b[39;49m\u001b[44mget_collection\u001b[49m\u001b[44m(\u001b[49m\n\u001b[1;32m    219\u001b[0m \u001b[44m        \u001b[49m\u001b[38;5;28;44mid\u001b[39;49m\u001b[38;5;241;44m=\u001b[39;49m\u001b[38;5;28;44mid\u001b[39;49m\u001b[44m,\u001b[49m\n\u001b[1;32m    220\u001b[0m \u001b[44m        \u001b[49m\u001b[44mname\u001b[49m\u001b[38;5;241;44m=\u001b[39;49m\u001b[44mname\u001b[49m\u001b[44m,\u001b[49m\n\u001b[1;32m    221\u001b[0m \u001b[44m        \u001b[49m\u001b[44membedding_function\u001b[49m\u001b[38;5;241;44m=\u001b[39;49m\u001b[44membedding_function\u001b[49m\u001b[44m,\u001b[49m\n\u001b[1;32m    222\u001b[0m \u001b[44m        \u001b[49m\u001b[44mdata_loader\u001b[49m\u001b[38;5;241;44m=\u001b[39;49m\u001b[44mdata_loader\u001b[49m\u001b[44m,\u001b[49m\n\u001b[1;32m    223\u001b[0m \u001b[44m        \u001b[49m\u001b[44mtenant\u001b[49m\u001b[38;5;241;44m=\u001b[39;49m\u001b[38;5;28;44mself\u001b[39;49m\u001b[38;5;241;44m.\u001b[39;49m\u001b[44mtenant\u001b[49m\u001b[44m,\u001b[49m\n\u001b[1;32m    224\u001b[0m \u001b[44m        \u001b[49m\u001b[44mdatabase\u001b[49m\u001b[38;5;241;44m=\u001b[39;49m\u001b[38;5;28;44mself\u001b[39;49m\u001b[38;5;241;44m.\u001b[39;49m\u001b[44mdatabase\u001b[49m\u001b[44m,\u001b[49m\n\u001b[1;32m    225\u001b[0m \u001b[44m    \u001b[49m\u001b[44m)\u001b[49m\n",
      "File \u001b[0;32m~/.base/lib/python3.11/site-packages/chromadb/telemetry/opentelemetry/__init__.py:127\u001b[0m, in \u001b[0;36mtrace_method.<locals>.decorator.<locals>.wrapper\u001b[0;34m(*args, **kwargs)\u001b[0m\n\u001b[1;32m    125\u001b[0m \u001b[38;5;28;01mglobal\u001b[39;00m tracer, granularity\n\u001b[1;32m    126\u001b[0m \u001b[38;5;28;01mif\u001b[39;00m trace_granularity \u001b[38;5;241m<\u001b[39m granularity:\n\u001b[0;32m--> 127\u001b[0m     \u001b[38;5;28;01mreturn\u001b[39;00m \u001b[44mf\u001b[49m\u001b[44m(\u001b[49m\u001b[38;5;241;44m*\u001b[39;49m\u001b[44margs\u001b[49m\u001b[44m,\u001b[49m\u001b[44m \u001b[49m\u001b[38;5;241;44m*\u001b[39;49m\u001b[38;5;241;44m*\u001b[39;49m\u001b[44mkwargs\u001b[49m\u001b[44m)\u001b[49m\n\u001b[1;32m    128\u001b[0m \u001b[38;5;28;01mif\u001b[39;00m \u001b[38;5;129;01mnot\u001b[39;00m tracer:\n\u001b[1;32m    129\u001b[0m     \u001b[38;5;28;01mreturn\u001b[39;00m f(\u001b[38;5;241m*\u001b[39margs, \u001b[38;5;241m*\u001b[39m\u001b[38;5;241m*\u001b[39mkwargs)\n",
      "File \u001b[0;32m~/.base/lib/python3.11/site-packages/chromadb/api/segment.py:260\u001b[0m, in \u001b[0;36mSegmentAPI.get_collection\u001b[0;34m(self, name, id, embedding_function, data_loader, tenant, database)\u001b[0m\n\u001b[1;32m    249\u001b[0m     \u001b[38;5;28;01mreturn\u001b[39;00m Collection(\n\u001b[1;32m    250\u001b[0m         client\u001b[38;5;241m=\u001b[39m\u001b[38;5;28mself\u001b[39m,\n\u001b[1;32m    251\u001b[0m         \u001b[38;5;28mid\u001b[39m\u001b[38;5;241m=\u001b[39mexisting[\u001b[38;5;241m0\u001b[39m][\u001b[38;5;124m\"\u001b[39m\u001b[38;5;124mid\u001b[39m\u001b[38;5;124m\"\u001b[39m],\n\u001b[0;32m   (...)\u001b[0m\n\u001b[1;32m    257\u001b[0m         database\u001b[38;5;241m=\u001b[39mexisting[\u001b[38;5;241m0\u001b[39m][\u001b[38;5;124m\"\u001b[39m\u001b[38;5;124mdatabase\u001b[39m\u001b[38;5;124m\"\u001b[39m],\n\u001b[1;32m    258\u001b[0m     )\n\u001b[1;32m    259\u001b[0m \u001b[38;5;28;01melse\u001b[39;00m:\n\u001b[0;32m--> 260\u001b[0m     \u001b[38;5;28;01mraise\u001b[39;00m \u001b[38;5;167;01mValueError\u001b[39;00m(\u001b[38;5;124mf\u001b[39m\u001b[38;5;124m\"\u001b[39m\u001b[38;5;124mCollection \u001b[39m\u001b[38;5;132;01m{\u001b[39;00mname\u001b[38;5;132;01m}\u001b[39;00m\u001b[38;5;124m does not exist.\u001b[39m\u001b[38;5;124m\"\u001b[39m)\n",
      "\u001b[0;31mValueError\u001b[0m: Collection test does not exist."
     ]
    }
   ],
   "source": [
    "test = client.get_collection(\"test\")"
   ]
  },
  {
   "cell_type": "code",
   "execution_count": 6,
   "id": "200c8591-672e-463f-bfa4-1543109890ac",
   "metadata": {
    "execution": {
     "iopub.execute_input": "2024-06-04T12:12:33.471811Z",
     "iopub.status.busy": "2024-06-04T12:12:33.471731Z",
     "iopub.status.idle": "2024-06-04T12:12:33.473579Z",
     "shell.execute_reply": "2024-06-04T12:12:33.473198Z",
     "shell.execute_reply.started": "2024-06-04T12:12:33.471802Z"
    },
    "tags": []
   },
   "outputs": [],
   "source": [
    "import json"
   ]
  },
  {
   "cell_type": "code",
   "execution_count": 7,
   "id": "0d35a571-112e-4898-80c0-a171222a528f",
   "metadata": {
    "execution": {
     "iopub.execute_input": "2024-06-04T12:12:33.475126Z",
     "iopub.status.busy": "2024-06-04T12:12:33.475038Z",
     "iopub.status.idle": "2024-06-04T12:12:33.529181Z",
     "shell.execute_reply": "2024-06-04T12:12:33.528783Z",
     "shell.execute_reply.started": "2024-06-04T12:12:33.475117Z"
    },
    "tags": []
   },
   "outputs": [],
   "source": [
    "with open(\"./src/data/health.json\", \"r\") as f:\n",
    "    d = json.load(f)"
   ]
  },
  {
   "cell_type": "code",
   "execution_count": 8,
   "id": "a90edcc7-e1ff-4781-bb5c-6dde282a7cdc",
   "metadata": {
    "execution": {
     "iopub.execute_input": "2024-06-04T12:12:33.529669Z",
     "iopub.status.busy": "2024-06-04T12:12:33.529576Z",
     "iopub.status.idle": "2024-06-04T12:12:33.688632Z",
     "shell.execute_reply": "2024-06-04T12:12:33.688240Z",
     "shell.execute_reply.started": "2024-06-04T12:12:33.529658Z"
    },
    "tags": []
   },
   "outputs": [],
   "source": [
    "import pandas as pd\n",
    "\n",
    "df = pd.DataFrame(d)"
   ]
  },
  {
   "cell_type": "code",
   "execution_count": 9,
   "id": "c38ab6bb-3000-4e36-8d76-9f67cd305a83",
   "metadata": {
    "execution": {
     "iopub.execute_input": "2024-06-04T12:12:33.689290Z",
     "iopub.status.busy": "2024-06-04T12:12:33.689106Z",
     "iopub.status.idle": "2024-06-04T12:12:33.691643Z",
     "shell.execute_reply": "2024-06-04T12:12:33.691271Z",
     "shell.execute_reply.started": "2024-06-04T12:12:33.689280Z"
    },
    "tags": []
   },
   "outputs": [],
   "source": [
    "sample = df[:10]"
   ]
  },
  {
   "cell_type": "code",
   "execution_count": 30,
   "id": "b3feca13-9eb7-4aab-a73d-1aac1eca0b3d",
   "metadata": {
    "execution": {
     "iopub.execute_input": "2024-06-04T12:11:37.151565Z",
     "iopub.status.busy": "2024-06-04T12:11:37.150932Z",
     "iopub.status.idle": "2024-06-04T12:11:51.293593Z",
     "shell.execute_reply": "2024-06-04T12:11:51.293223Z",
     "shell.execute_reply.started": "2024-06-04T12:11:37.151530Z"
    },
    "tags": []
   },
   "outputs": [
    {
     "name": "stderr",
     "output_type": "stream",
     "text": [
      "/var/folders/9v/m6xmlrwd42q8n8bkflvbst0h0000gn/T/ipykernel_7524/2748255108.py:1: SettingWithCopyWarning: \n",
      "A value is trying to be set on a copy of a slice from a DataFrame.\n",
      "Try using .loc[row_indexer,col_indexer] = value instead\n",
      "\n",
      "See the caveats in the documentation: https://pandas.pydata.org/pandas-docs/stable/user_guide/indexing.html#returning-a-view-versus-a-copy\n",
      "  sample['text'] = (sample['title'] + \":\" + sample['text']).apply(lambda x: average_pool(x).tolist()[0])\n"
     ]
    }
   ],
   "source": [
    "sample['embedding'] = (sample['title'] + \":\" + sample['text']).apply(lambda x: average_pool(x).tolist()[0])"
   ]
  },
  {
   "cell_type": "code",
   "execution_count": 10,
   "id": "144c0087-ec60-44f0-b6df-859f21a5d43c",
   "metadata": {
    "execution": {
     "iopub.execute_input": "2024-06-04T12:12:33.693894Z",
     "iopub.status.busy": "2024-06-04T12:12:33.693790Z",
     "iopub.status.idle": "2024-06-04T12:12:33.696603Z",
     "shell.execute_reply": "2024-06-04T12:12:33.696173Z",
     "shell.execute_reply.started": "2024-06-04T12:12:33.693885Z"
    },
    "tags": []
   },
   "outputs": [
    {
     "name": "stderr",
     "output_type": "stream",
     "text": [
      "/var/folders/9v/m6xmlrwd42q8n8bkflvbst0h0000gn/T/ipykernel_8542/372242415.py:1: SettingWithCopyWarning: \n",
      "A value is trying to be set on a copy of a slice from a DataFrame.\n",
      "Try using .loc[row_indexer,col_indexer] = value instead\n",
      "\n",
      "See the caveats in the documentation: https://pandas.pydata.org/pandas-docs/stable/user_guide/indexing.html#returning-a-view-versus-a-copy\n",
      "  sample['text'] = (sample['title'] + \":\" + sample['text'])\n"
     ]
    }
   ],
   "source": [
    "sample['text'] = (sample['title'] + \":\" + sample['text'])"
   ]
  },
  {
   "cell_type": "code",
   "execution_count": 13,
   "id": "956189d3-6614-42a2-b8e2-0bac8a955e6b",
   "metadata": {
    "execution": {
     "iopub.execute_input": "2024-06-04T12:13:02.351179Z",
     "iopub.status.busy": "2024-06-04T12:13:02.350454Z",
     "iopub.status.idle": "2024-06-04T12:13:02.747186Z",
     "shell.execute_reply": "2024-06-04T12:13:02.746630Z",
     "shell.execute_reply.started": "2024-06-04T12:13:02.351145Z"
    },
    "tags": []
   },
   "outputs": [
    {
     "ename": "TypeError",
     "evalue": "Object of type Series is not JSON serializable",
     "output_type": "error",
     "traceback": [
      "\u001b[0;31m---------------------------------------------------------------------------\u001b[0m",
      "\u001b[0;31mTypeError\u001b[0m                                 Traceback (most recent call last)",
      "Cell \u001b[0;32mIn[13], line 1\u001b[0m\n\u001b[0;32m----> 1\u001b[0m \u001b[44mtest\u001b[49m\u001b[38;5;241;44m.\u001b[39;49m\u001b[44mupsert\u001b[49m\u001b[44m(\u001b[49m\u001b[44mdocuments\u001b[49m\u001b[44m \u001b[49m\u001b[38;5;241;44m=\u001b[39;49m\u001b[44m \u001b[49m\u001b[44msample\u001b[49m\u001b[44m[\u001b[49m\u001b[44m:\u001b[49m\u001b[38;5;241;44m10\u001b[39;49m\u001b[44m]\u001b[49m\u001b[44m[\u001b[49m\u001b[38;5;124;44m'\u001b[39;49m\u001b[38;5;124;44mtext\u001b[39;49m\u001b[38;5;124;44m'\u001b[39;49m\u001b[44m]\u001b[49m\u001b[38;5;241;44m.\u001b[39;49m\u001b[44mtolist\u001b[49m\u001b[44m(\u001b[49m\u001b[44m)\u001b[49m\u001b[44m,\u001b[49m\n\u001b[1;32m      2\u001b[0m \u001b[44m            \u001b[49m\u001b[44mids\u001b[49m\u001b[44m \u001b[49m\u001b[38;5;241;44m=\u001b[39;49m\u001b[44m \u001b[49m\u001b[44msample\u001b[49m\u001b[44m[\u001b[49m\u001b[44m:\u001b[49m\u001b[38;5;241;44m10\u001b[39;49m\u001b[44m]\u001b[49m\u001b[44m[\u001b[49m\u001b[38;5;124;44m'\u001b[39;49m\u001b[38;5;124;44mtitle\u001b[39;49m\u001b[38;5;124;44m'\u001b[39;49m\u001b[44m]\u001b[49m\u001b[38;5;241;44m.\u001b[39;49m\u001b[44mtolist\u001b[49m\u001b[44m(\u001b[49m\u001b[44m)\u001b[49m\u001b[44m,\u001b[49m\n\u001b[1;32m      3\u001b[0m \u001b[44m            \u001b[49m\u001b[44muris\u001b[49m\u001b[44m \u001b[49m\u001b[38;5;241;44m=\u001b[39;49m\u001b[44m \u001b[49m\u001b[44msample\u001b[49m\u001b[44m[\u001b[49m\u001b[44m:\u001b[49m\u001b[38;5;241;44m10\u001b[39;49m\u001b[44m]\u001b[49m\u001b[44m[\u001b[49m\u001b[38;5;124;44m'\u001b[39;49m\u001b[38;5;124;44murl\u001b[39;49m\u001b[38;5;124;44m'\u001b[39;49m\u001b[44m]\u001b[49m\u001b[44m)\u001b[49m\n",
      "File \u001b[0;32m~/.base/lib/python3.11/site-packages/chromadb/api/models/Collection.py:484\u001b[0m, in \u001b[0;36mCollection.upsert\u001b[0;34m(self, ids, embeddings, metadatas, documents, images, uris)\u001b[0m\n\u001b[1;32m    481\u001b[0m     \u001b[38;5;28;01melse\u001b[39;00m:\n\u001b[1;32m    482\u001b[0m         embeddings \u001b[38;5;241m=\u001b[39m \u001b[38;5;28mself\u001b[39m\u001b[38;5;241m.\u001b[39m_embed(\u001b[38;5;28minput\u001b[39m\u001b[38;5;241m=\u001b[39mimages)\n\u001b[0;32m--> 484\u001b[0m \u001b[38;5;28;44mself\u001b[39;49m\u001b[38;5;241;44m.\u001b[39;49m\u001b[44m_client\u001b[49m\u001b[38;5;241;44m.\u001b[39;49m\u001b[44m_upsert\u001b[49m\u001b[44m(\u001b[49m\n\u001b[1;32m    485\u001b[0m \u001b[44m    \u001b[49m\u001b[44mcollection_id\u001b[49m\u001b[38;5;241;44m=\u001b[39;49m\u001b[38;5;28;44mself\u001b[39;49m\u001b[38;5;241;44m.\u001b[39;49m\u001b[44mid\u001b[49m\u001b[44m,\u001b[49m\n\u001b[1;32m    486\u001b[0m \u001b[44m    \u001b[49m\u001b[44mids\u001b[49m\u001b[38;5;241;44m=\u001b[39;49m\u001b[44mids\u001b[49m\u001b[44m,\u001b[49m\n\u001b[1;32m    487\u001b[0m \u001b[44m    \u001b[49m\u001b[44membeddings\u001b[49m\u001b[38;5;241;44m=\u001b[39;49m\u001b[44membeddings\u001b[49m\u001b[44m,\u001b[49m\n\u001b[1;32m    488\u001b[0m \u001b[44m    \u001b[49m\u001b[44mmetadatas\u001b[49m\u001b[38;5;241;44m=\u001b[39;49m\u001b[44mmetadatas\u001b[49m\u001b[44m,\u001b[49m\n\u001b[1;32m    489\u001b[0m \u001b[44m    \u001b[49m\u001b[44mdocuments\u001b[49m\u001b[38;5;241;44m=\u001b[39;49m\u001b[44mdocuments\u001b[49m\u001b[44m,\u001b[49m\n\u001b[1;32m    490\u001b[0m \u001b[44m    \u001b[49m\u001b[44muris\u001b[49m\u001b[38;5;241;44m=\u001b[39;49m\u001b[44muris\u001b[49m\u001b[44m,\u001b[49m\n\u001b[1;32m    491\u001b[0m \u001b[44m\u001b[49m\u001b[44m)\u001b[49m\n",
      "File \u001b[0;32m~/.base/lib/python3.11/site-packages/chromadb/telemetry/opentelemetry/__init__.py:127\u001b[0m, in \u001b[0;36mtrace_method.<locals>.decorator.<locals>.wrapper\u001b[0;34m(*args, **kwargs)\u001b[0m\n\u001b[1;32m    125\u001b[0m \u001b[38;5;28;01mglobal\u001b[39;00m tracer, granularity\n\u001b[1;32m    126\u001b[0m \u001b[38;5;28;01mif\u001b[39;00m trace_granularity \u001b[38;5;241m<\u001b[39m granularity:\n\u001b[0;32m--> 127\u001b[0m     \u001b[38;5;28;01mreturn\u001b[39;00m \u001b[44mf\u001b[49m\u001b[44m(\u001b[49m\u001b[38;5;241;44m*\u001b[39;49m\u001b[44margs\u001b[49m\u001b[44m,\u001b[49m\u001b[44m \u001b[49m\u001b[38;5;241;44m*\u001b[39;49m\u001b[38;5;241;44m*\u001b[39;49m\u001b[44mkwargs\u001b[49m\u001b[44m)\u001b[49m\n\u001b[1;32m    128\u001b[0m \u001b[38;5;28;01mif\u001b[39;00m \u001b[38;5;129;01mnot\u001b[39;00m tracer:\n\u001b[1;32m    129\u001b[0m     \u001b[38;5;28;01mreturn\u001b[39;00m f(\u001b[38;5;241m*\u001b[39margs, \u001b[38;5;241m*\u001b[39m\u001b[38;5;241m*\u001b[39mkwargs)\n",
      "File \u001b[0;32m~/.base/lib/python3.11/site-packages/chromadb/api/fastapi.py:555\u001b[0m, in \u001b[0;36mFastAPI._upsert\u001b[0;34m(self, collection_id, ids, embeddings, metadatas, documents, uris)\u001b[0m\n\u001b[1;32m    553\u001b[0m batch \u001b[38;5;241m=\u001b[39m (ids, embeddings, metadatas, documents, uris)\n\u001b[1;32m    554\u001b[0m validate_batch(batch, {\u001b[38;5;124m\"\u001b[39m\u001b[38;5;124mmax_batch_size\u001b[39m\u001b[38;5;124m\"\u001b[39m: \u001b[38;5;28mself\u001b[39m\u001b[38;5;241m.\u001b[39mmax_batch_size})\n\u001b[0;32m--> 555\u001b[0m resp \u001b[38;5;241m=\u001b[39m \u001b[38;5;28;44mself\u001b[39;49m\u001b[38;5;241;44m.\u001b[39;49m\u001b[44m_submit_batch\u001b[49m\u001b[44m(\u001b[49m\n\u001b[1;32m    556\u001b[0m \u001b[44m    \u001b[49m\u001b[44mbatch\u001b[49m\u001b[44m,\u001b[49m\u001b[44m \u001b[49m\u001b[38;5;124;44m\"\u001b[39;49m\u001b[38;5;124;44m/collections/\u001b[39;49m\u001b[38;5;124;44m\"\u001b[39;49m\u001b[44m \u001b[49m\u001b[38;5;241;44m+\u001b[39;49m\u001b[44m \u001b[49m\u001b[38;5;28;44mstr\u001b[39;49m\u001b[44m(\u001b[49m\u001b[44mcollection_id\u001b[49m\u001b[44m)\u001b[49m\u001b[44m \u001b[49m\u001b[38;5;241;44m+\u001b[39;49m\u001b[44m \u001b[49m\u001b[38;5;124;44m\"\u001b[39;49m\u001b[38;5;124;44m/upsert\u001b[39;49m\u001b[38;5;124;44m\"\u001b[39;49m\n\u001b[1;32m    557\u001b[0m \u001b[44m\u001b[49m\u001b[44m)\u001b[49m\n\u001b[1;32m    558\u001b[0m raise_chroma_error(resp)\n\u001b[1;32m    559\u001b[0m \u001b[38;5;28;01mreturn\u001b[39;00m \u001b[38;5;28;01mTrue\u001b[39;00m\n",
      "File \u001b[0;32m~/.base/lib/python3.11/site-packages/chromadb/telemetry/opentelemetry/__init__.py:127\u001b[0m, in \u001b[0;36mtrace_method.<locals>.decorator.<locals>.wrapper\u001b[0;34m(*args, **kwargs)\u001b[0m\n\u001b[1;32m    125\u001b[0m \u001b[38;5;28;01mglobal\u001b[39;00m tracer, granularity\n\u001b[1;32m    126\u001b[0m \u001b[38;5;28;01mif\u001b[39;00m trace_granularity \u001b[38;5;241m<\u001b[39m granularity:\n\u001b[0;32m--> 127\u001b[0m     \u001b[38;5;28;01mreturn\u001b[39;00m \u001b[44mf\u001b[49m\u001b[44m(\u001b[49m\u001b[38;5;241;44m*\u001b[39;49m\u001b[44margs\u001b[49m\u001b[44m,\u001b[49m\u001b[44m \u001b[49m\u001b[38;5;241;44m*\u001b[39;49m\u001b[38;5;241;44m*\u001b[39;49m\u001b[44mkwargs\u001b[49m\u001b[44m)\u001b[49m\n\u001b[1;32m    128\u001b[0m \u001b[38;5;28;01mif\u001b[39;00m \u001b[38;5;129;01mnot\u001b[39;00m tracer:\n\u001b[1;32m    129\u001b[0m     \u001b[38;5;28;01mreturn\u001b[39;00m f(\u001b[38;5;241m*\u001b[39margs, \u001b[38;5;241m*\u001b[39m\u001b[38;5;241m*\u001b[39mkwargs)\n",
      "File \u001b[0;32m~/.base/lib/python3.11/site-packages/chromadb/api/fastapi.py:482\u001b[0m, in \u001b[0;36mFastAPI._submit_batch\u001b[0;34m(self, batch, url)\u001b[0m\n\u001b[1;32m    465\u001b[0m \u001b[38;5;129m@trace_method\u001b[39m(\u001b[38;5;124m\"\u001b[39m\u001b[38;5;124mFastAPI._submit_batch\u001b[39m\u001b[38;5;124m\"\u001b[39m, OpenTelemetryGranularity\u001b[38;5;241m.\u001b[39mALL)\n\u001b[1;32m    466\u001b[0m \u001b[38;5;28;01mdef\u001b[39;00m \u001b[38;5;21m_submit_batch\u001b[39m(\n\u001b[1;32m    467\u001b[0m     \u001b[38;5;28mself\u001b[39m,\n\u001b[0;32m   (...)\u001b[0m\n\u001b[1;32m    475\u001b[0m     url: \u001b[38;5;28mstr\u001b[39m,\n\u001b[1;32m    476\u001b[0m ) \u001b[38;5;241m-\u001b[39m\u001b[38;5;241m>\u001b[39m requests\u001b[38;5;241m.\u001b[39mResponse:\n\u001b[1;32m    477\u001b[0m \u001b[38;5;250m    \u001b[39m\u001b[38;5;124;03m\"\"\"\u001b[39;00m\n\u001b[1;32m    478\u001b[0m \u001b[38;5;124;03m    Submits a batch of embeddings to the database\u001b[39;00m\n\u001b[1;32m    479\u001b[0m \u001b[38;5;124;03m    \"\"\"\u001b[39;00m\n\u001b[1;32m    480\u001b[0m     resp \u001b[38;5;241m=\u001b[39m \u001b[38;5;28mself\u001b[39m\u001b[38;5;241m.\u001b[39m_session\u001b[38;5;241m.\u001b[39mpost(\n\u001b[1;32m    481\u001b[0m         \u001b[38;5;28mself\u001b[39m\u001b[38;5;241m.\u001b[39m_api_url \u001b[38;5;241m+\u001b[39m url,\n\u001b[0;32m--> 482\u001b[0m         data\u001b[38;5;241m=\u001b[39m\u001b[44mjson\u001b[49m\u001b[38;5;241;44m.\u001b[39;49m\u001b[44mdumps\u001b[49m\u001b[44m(\u001b[49m\n\u001b[1;32m    483\u001b[0m \u001b[44m            \u001b[49m\u001b[44m{\u001b[49m\n\u001b[1;32m    484\u001b[0m \u001b[44m                \u001b[49m\u001b[38;5;124;44m\"\u001b[39;49m\u001b[38;5;124;44mids\u001b[39;49m\u001b[38;5;124;44m\"\u001b[39;49m\u001b[44m:\u001b[49m\u001b[44m \u001b[49m\u001b[44mbatch\u001b[49m\u001b[44m[\u001b[49m\u001b[38;5;241;44m0\u001b[39;49m\u001b[44m]\u001b[49m\u001b[44m,\u001b[49m\n\u001b[1;32m    485\u001b[0m \u001b[44m                \u001b[49m\u001b[38;5;124;44m\"\u001b[39;49m\u001b[38;5;124;44membeddings\u001b[39;49m\u001b[38;5;124;44m\"\u001b[39;49m\u001b[44m:\u001b[49m\u001b[44m \u001b[49m\u001b[44mbatch\u001b[49m\u001b[44m[\u001b[49m\u001b[38;5;241;44m1\u001b[39;49m\u001b[44m]\u001b[49m\u001b[44m,\u001b[49m\n\u001b[1;32m    486\u001b[0m \u001b[44m                \u001b[49m\u001b[38;5;124;44m\"\u001b[39;49m\u001b[38;5;124;44mmetadatas\u001b[39;49m\u001b[38;5;124;44m\"\u001b[39;49m\u001b[44m:\u001b[49m\u001b[44m \u001b[49m\u001b[44mbatch\u001b[49m\u001b[44m[\u001b[49m\u001b[38;5;241;44m2\u001b[39;49m\u001b[44m]\u001b[49m\u001b[44m,\u001b[49m\n\u001b[1;32m    487\u001b[0m \u001b[44m                \u001b[49m\u001b[38;5;124;44m\"\u001b[39;49m\u001b[38;5;124;44mdocuments\u001b[39;49m\u001b[38;5;124;44m\"\u001b[39;49m\u001b[44m:\u001b[49m\u001b[44m \u001b[49m\u001b[44mbatch\u001b[49m\u001b[44m[\u001b[49m\u001b[38;5;241;44m3\u001b[39;49m\u001b[44m]\u001b[49m\u001b[44m,\u001b[49m\n\u001b[1;32m    488\u001b[0m \u001b[44m                \u001b[49m\u001b[38;5;124;44m\"\u001b[39;49m\u001b[38;5;124;44muris\u001b[39;49m\u001b[38;5;124;44m\"\u001b[39;49m\u001b[44m:\u001b[49m\u001b[44m \u001b[49m\u001b[44mbatch\u001b[49m\u001b[44m[\u001b[49m\u001b[38;5;241;44m4\u001b[39;49m\u001b[44m]\u001b[49m\u001b[44m,\u001b[49m\n\u001b[1;32m    489\u001b[0m \u001b[44m            \u001b[49m\u001b[44m}\u001b[49m\n\u001b[1;32m    490\u001b[0m \u001b[44m        \u001b[49m\u001b[44m)\u001b[49m,\n\u001b[1;32m    491\u001b[0m     )\n\u001b[1;32m    492\u001b[0m     \u001b[38;5;28;01mreturn\u001b[39;00m resp\n",
      "File \u001b[0;32m/opt/homebrew/Cellar/python@3.11/3.11.5/Frameworks/Python.framework/Versions/3.11/lib/python3.11/json/__init__.py:231\u001b[0m, in \u001b[0;36mdumps\u001b[0;34m(obj, skipkeys, ensure_ascii, check_circular, allow_nan, cls, indent, separators, default, sort_keys, **kw)\u001b[0m\n\u001b[1;32m    226\u001b[0m \u001b[38;5;66;03m# cached encoder\u001b[39;00m\n\u001b[1;32m    227\u001b[0m \u001b[38;5;28;01mif\u001b[39;00m (\u001b[38;5;129;01mnot\u001b[39;00m skipkeys \u001b[38;5;129;01mand\u001b[39;00m ensure_ascii \u001b[38;5;129;01mand\u001b[39;00m\n\u001b[1;32m    228\u001b[0m     check_circular \u001b[38;5;129;01mand\u001b[39;00m allow_nan \u001b[38;5;129;01mand\u001b[39;00m\n\u001b[1;32m    229\u001b[0m     \u001b[38;5;28mcls\u001b[39m \u001b[38;5;129;01mis\u001b[39;00m \u001b[38;5;28;01mNone\u001b[39;00m \u001b[38;5;129;01mand\u001b[39;00m indent \u001b[38;5;129;01mis\u001b[39;00m \u001b[38;5;28;01mNone\u001b[39;00m \u001b[38;5;129;01mand\u001b[39;00m separators \u001b[38;5;129;01mis\u001b[39;00m \u001b[38;5;28;01mNone\u001b[39;00m \u001b[38;5;129;01mand\u001b[39;00m\n\u001b[1;32m    230\u001b[0m     default \u001b[38;5;129;01mis\u001b[39;00m \u001b[38;5;28;01mNone\u001b[39;00m \u001b[38;5;129;01mand\u001b[39;00m \u001b[38;5;129;01mnot\u001b[39;00m sort_keys \u001b[38;5;129;01mand\u001b[39;00m \u001b[38;5;129;01mnot\u001b[39;00m kw):\n\u001b[0;32m--> 231\u001b[0m     \u001b[38;5;28;01mreturn\u001b[39;00m \u001b[44m_default_encoder\u001b[49m\u001b[38;5;241;44m.\u001b[39;49m\u001b[44mencode\u001b[49m\u001b[44m(\u001b[49m\u001b[44mobj\u001b[49m\u001b[44m)\u001b[49m\n\u001b[1;32m    232\u001b[0m \u001b[38;5;28;01mif\u001b[39;00m \u001b[38;5;28mcls\u001b[39m \u001b[38;5;129;01mis\u001b[39;00m \u001b[38;5;28;01mNone\u001b[39;00m:\n\u001b[1;32m    233\u001b[0m     \u001b[38;5;28mcls\u001b[39m \u001b[38;5;241m=\u001b[39m JSONEncoder\n",
      "File \u001b[0;32m/opt/homebrew/Cellar/python@3.11/3.11.5/Frameworks/Python.framework/Versions/3.11/lib/python3.11/json/encoder.py:200\u001b[0m, in \u001b[0;36mJSONEncoder.encode\u001b[0;34m(self, o)\u001b[0m\n\u001b[1;32m    196\u001b[0m         \u001b[38;5;28;01mreturn\u001b[39;00m encode_basestring(o)\n\u001b[1;32m    197\u001b[0m \u001b[38;5;66;03m# This doesn't pass the iterator directly to ''.join() because the\u001b[39;00m\n\u001b[1;32m    198\u001b[0m \u001b[38;5;66;03m# exceptions aren't as detailed.  The list call should be roughly\u001b[39;00m\n\u001b[1;32m    199\u001b[0m \u001b[38;5;66;03m# equivalent to the PySequence_Fast that ''.join() would do.\u001b[39;00m\n\u001b[0;32m--> 200\u001b[0m chunks \u001b[38;5;241m=\u001b[39m \u001b[38;5;28;44mself\u001b[39;49m\u001b[38;5;241;44m.\u001b[39;49m\u001b[44miterencode\u001b[49m\u001b[44m(\u001b[49m\u001b[44mo\u001b[49m\u001b[44m,\u001b[49m\u001b[44m \u001b[49m\u001b[44m_one_shot\u001b[49m\u001b[38;5;241;44m=\u001b[39;49m\u001b[38;5;28;44;01mTrue\u001b[39;49;00m\u001b[44m)\u001b[49m\n\u001b[1;32m    201\u001b[0m \u001b[38;5;28;01mif\u001b[39;00m \u001b[38;5;129;01mnot\u001b[39;00m \u001b[38;5;28misinstance\u001b[39m(chunks, (\u001b[38;5;28mlist\u001b[39m, \u001b[38;5;28mtuple\u001b[39m)):\n\u001b[1;32m    202\u001b[0m     chunks \u001b[38;5;241m=\u001b[39m \u001b[38;5;28mlist\u001b[39m(chunks)\n",
      "File \u001b[0;32m/opt/homebrew/Cellar/python@3.11/3.11.5/Frameworks/Python.framework/Versions/3.11/lib/python3.11/json/encoder.py:258\u001b[0m, in \u001b[0;36mJSONEncoder.iterencode\u001b[0;34m(self, o, _one_shot)\u001b[0m\n\u001b[1;32m    253\u001b[0m \u001b[38;5;28;01melse\u001b[39;00m:\n\u001b[1;32m    254\u001b[0m     _iterencode \u001b[38;5;241m=\u001b[39m _make_iterencode(\n\u001b[1;32m    255\u001b[0m         markers, \u001b[38;5;28mself\u001b[39m\u001b[38;5;241m.\u001b[39mdefault, _encoder, \u001b[38;5;28mself\u001b[39m\u001b[38;5;241m.\u001b[39mindent, floatstr,\n\u001b[1;32m    256\u001b[0m         \u001b[38;5;28mself\u001b[39m\u001b[38;5;241m.\u001b[39mkey_separator, \u001b[38;5;28mself\u001b[39m\u001b[38;5;241m.\u001b[39mitem_separator, \u001b[38;5;28mself\u001b[39m\u001b[38;5;241m.\u001b[39msort_keys,\n\u001b[1;32m    257\u001b[0m         \u001b[38;5;28mself\u001b[39m\u001b[38;5;241m.\u001b[39mskipkeys, _one_shot)\n\u001b[0;32m--> 258\u001b[0m \u001b[38;5;28;01mreturn\u001b[39;00m \u001b[44m_iterencode\u001b[49m\u001b[44m(\u001b[49m\u001b[44mo\u001b[49m\u001b[44m,\u001b[49m\u001b[44m \u001b[49m\u001b[38;5;241;44m0\u001b[39;49m\u001b[44m)\u001b[49m\n",
      "File \u001b[0;32m/opt/homebrew/Cellar/python@3.11/3.11.5/Frameworks/Python.framework/Versions/3.11/lib/python3.11/json/encoder.py:180\u001b[0m, in \u001b[0;36mJSONEncoder.default\u001b[0;34m(self, o)\u001b[0m\n\u001b[1;32m    161\u001b[0m \u001b[38;5;28;01mdef\u001b[39;00m \u001b[38;5;21mdefault\u001b[39m(\u001b[38;5;28mself\u001b[39m, o):\n\u001b[1;32m    162\u001b[0m \u001b[38;5;250m    \u001b[39m\u001b[38;5;124;03m\"\"\"Implement this method in a subclass such that it returns\u001b[39;00m\n\u001b[1;32m    163\u001b[0m \u001b[38;5;124;03m    a serializable object for ``o``, or calls the base implementation\u001b[39;00m\n\u001b[1;32m    164\u001b[0m \u001b[38;5;124;03m    (to raise a ``TypeError``).\u001b[39;00m\n\u001b[0;32m   (...)\u001b[0m\n\u001b[1;32m    178\u001b[0m \n\u001b[1;32m    179\u001b[0m \u001b[38;5;124;03m    \"\"\"\u001b[39;00m\n\u001b[0;32m--> 180\u001b[0m     \u001b[38;5;28;01mraise\u001b[39;00m \u001b[38;5;167;01mTypeError\u001b[39;00m(\u001b[38;5;124mf\u001b[39m\u001b[38;5;124m'\u001b[39m\u001b[38;5;124mObject of type \u001b[39m\u001b[38;5;132;01m{\u001b[39;00mo\u001b[38;5;241m.\u001b[39m\u001b[38;5;18m__class__\u001b[39m\u001b[38;5;241m.\u001b[39m\u001b[38;5;18m__name__\u001b[39m\u001b[38;5;132;01m}\u001b[39;00m\u001b[38;5;124m \u001b[39m\u001b[38;5;124m'\u001b[39m\n\u001b[1;32m    181\u001b[0m                     \u001b[38;5;124mf\u001b[39m\u001b[38;5;124m'\u001b[39m\u001b[38;5;124mis not JSON serializable\u001b[39m\u001b[38;5;124m'\u001b[39m)\n",
      "\u001b[0;31mTypeError\u001b[0m: Object of type Series is not JSON serializable"
     ]
    }
   ],
   "source": [
    "test.upsert(documents = sample[:10]['text'].tolist(),\n",
    "            ids = sample[:10]['title'].tolist(),\n",
    "            uris = sample[:10]['url'].tolist())"
   ]
  },
  {
   "cell_type": "code",
   "execution_count": 12,
   "id": "6dcb2c76-9728-45b1-bb1b-fd51ac40883a",
   "metadata": {
    "execution": {
     "iopub.execute_input": "2024-06-04T12:12:37.195748Z",
     "iopub.status.busy": "2024-06-04T12:12:37.195567Z",
     "iopub.status.idle": "2024-06-04T12:12:37.264932Z",
     "shell.execute_reply": "2024-06-04T12:12:37.264441Z",
     "shell.execute_reply.started": "2024-06-04T12:12:37.195735Z"
    },
    "tags": []
   },
   "outputs": [
    {
     "data": {
      "text/plain": [
       "{'ids': [['횡문근융해증', '폐렴', '대상포진', '당뇨병', '파킨슨병']],\n",
       " 'distances': [[0.4543536780555344,\n",
       "   0.5732430704274138,\n",
       "   0.5928768754317595,\n",
       "   0.5947646348252371,\n",
       "   0.6341632249245817]],\n",
       " 'embeddings': None,\n",
       " 'metadatas': [[None, None, None, None, None]],\n",
       " 'documents': [['횡문근융해증:골격근의 파괴로 인해 발생한 물질에 의해서 여러 문제를 일으키는 질환. [정의] 횡문근융해증은 근육이 괴사되면서 세포 안에 있는 근육 성분이 혈액으로 방출되면서 나타나는 증후군이다. 근육 세...',\n",
       "   '폐렴:미생물 감염에 의해 발생하는 폐의 염증. [정의] 폐렴은 폐(허파)의 세기관지 이하 부위 특히, 폐포(공기주머니)에 발생한 염증이다. [원인] 가장 흔한 원인은 미생물로 인한 감염이 원인으로, 세균이나...',\n",
       "   '대상포진:사람 몸의 신경절에 잠복상태로 있던 수두-대상포진 바이러스가 다시 활성화되면서 발생하는 질병. [정의] 대상포진은 수두-대상포진 바이러스가 몸 속에 잠복상태로 존재하고 있다가 다시 활성화되...',\n",
       "   '당뇨병:인슐린의 분비량이 부족하거나 정상적인 기능이 이루어지지 않는 등의 대사질환의 일종으로, 혈중 포도당 농도가 높은 것이 특징인 질환. [정의] 당뇨병은 인슐린의 분비량이 부족하거나 정상적인 기...',\n",
       "   '파킨슨병:도파민 신경세포의 소실로 인해 발생하는 신경계의 만성 진행성 퇴행성 질환. [정의] 파킨슨병은 치매 다음으로 흔한 대표적인 퇴행성 뇌 질환입니다. 우리 뇌 속에는 여러 가지 신경 전달 물질이 있...']],\n",
       " 'uris': None,\n",
       " 'data': None}"
      ]
     },
     "execution_count": 12,
     "metadata": {},
     "output_type": "execute_result"
    }
   ],
   "source": [
    "test.query(query_texts=\"백일해\", n_results=5)"
   ]
  },
  {
   "cell_type": "code",
   "execution_count": 71,
   "id": "ef802305-7540-431e-b78e-e9d84720b5cb",
   "metadata": {
    "execution": {
     "iopub.execute_input": "2024-06-04T11:28:51.033928Z",
     "iopub.status.busy": "2024-06-04T11:28:51.033746Z",
     "iopub.status.idle": "2024-06-04T11:28:51.088835Z",
     "shell.execute_reply": "2024-06-04T11:28:51.088544Z",
     "shell.execute_reply.started": "2024-06-04T11:28:51.033910Z"
    },
    "tags": []
   },
   "outputs": [
    {
     "data": {
      "text/plain": [
       "[Collection(name=test)]"
      ]
     },
     "execution_count": 71,
     "metadata": {},
     "output_type": "execute_result"
    }
   ],
   "source": [
    "client.delete_collection"
   ]
  },
  {
   "cell_type": "code",
   "execution_count": 73,
   "id": "8cab7bc9-72d4-42bf-924d-a24b2f3c4da4",
   "metadata": {
    "execution": {
     "iopub.execute_input": "2024-06-04T11:29:00.730498Z",
     "iopub.status.busy": "2024-06-04T11:29:00.730254Z",
     "iopub.status.idle": "2024-06-04T11:29:00.970609Z",
     "shell.execute_reply": "2024-06-04T11:29:00.970318Z",
     "shell.execute_reply.started": "2024-06-04T11:29:00.730478Z"
    },
    "tags": []
   },
   "outputs": [],
   "source": [
    "client.delete_collection(\"test\")"
   ]
  },
  {
   "cell_type": "code",
   "execution_count": null,
   "id": "a23d8704-96c6-4e9d-a2a4-57bc816fbd53",
   "metadata": {},
   "outputs": [],
   "source": [
    " collection = client.create_collection(\n",
    "        name=\"collection_name\",\n",
    "        metadata={\"hnsw:space\": \"cosine\"} # l2 is the default\n",
    "    )"
   ]
  }
 ],
 "metadata": {
  "kernelspec": {
   "display_name": "Python 3 (ipykernel)",
   "language": "python",
   "name": "python3"
  },
  "language_info": {
   "codemirror_mode": {
    "name": "ipython",
    "version": 3
   },
   "file_extension": ".py",
   "mimetype": "text/x-python",
   "name": "python",
   "nbconvert_exporter": "python",
   "pygments_lexer": "ipython3",
   "version": "3.11.5"
  }
 },
 "nbformat": 4,
 "nbformat_minor": 5
}

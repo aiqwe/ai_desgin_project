{
 "cells": [
  {
   "cell_type": "code",
   "execution_count": 4,
   "id": "3449b935-e1f9-4637-841c-923e6941aae1",
   "metadata": {
    "execution": {
     "iopub.execute_input": "2024-05-24T11:21:36.763030Z",
     "iopub.status.busy": "2024-05-24T11:21:36.762166Z",
     "iopub.status.idle": "2024-05-24T11:21:36.770661Z",
     "shell.execute_reply": "2024-05-24T11:21:36.769871Z",
     "shell.execute_reply.started": "2024-05-24T11:21:36.762993Z"
    },
    "tags": []
   },
   "outputs": [],
   "source": [
    "import pandas as pd\n",
    "from src import utils"
   ]
  },
  {
   "cell_type": "code",
   "execution_count": 5,
   "id": "a16c4098-7311-464e-948d-56f92a1d307e",
   "metadata": {
    "execution": {
     "iopub.execute_input": "2024-05-24T11:21:37.265613Z",
     "iopub.status.busy": "2024-05-24T11:21:37.265134Z",
     "iopub.status.idle": "2024-05-24T11:21:37.276067Z",
     "shell.execute_reply": "2024-05-24T11:21:37.275366Z",
     "shell.execute_reply.started": "2024-05-24T11:21:37.265583Z"
    },
    "tags": []
   },
   "outputs": [],
   "source": [
    "pd.set_option(\"display.max_columns\", None)"
   ]
  },
  {
   "cell_type": "code",
   "execution_count": 6,
   "id": "b829e7d2-d2ff-4811-8bc1-064dae384cb2",
   "metadata": {
    "execution": {
     "iopub.execute_input": "2024-05-24T11:21:37.334724Z",
     "iopub.status.busy": "2024-05-24T11:21:37.334220Z",
     "iopub.status.idle": "2024-05-24T11:21:38.490932Z",
     "shell.execute_reply": "2024-05-24T11:21:38.490661Z",
     "shell.execute_reply.started": "2024-05-24T11:21:37.334697Z"
    },
    "tags": []
   },
   "outputs": [],
   "source": [
    "df = utils.get_dataframe()"
   ]
  },
  {
   "cell_type": "code",
   "execution_count": 7,
   "id": "1f9a0df1-adc6-4efe-b6aa-a46a8fcbd917",
   "metadata": {
    "execution": {
     "iopub.execute_input": "2024-05-24T11:21:38.491663Z",
     "iopub.status.busy": "2024-05-24T11:21:38.491564Z",
     "iopub.status.idle": "2024-05-24T11:21:38.608659Z",
     "shell.execute_reply": "2024-05-24T11:21:38.608352Z",
     "shell.execute_reply.started": "2024-05-24T11:21:38.491653Z"
    },
    "tags": []
   },
   "outputs": [],
   "source": [
    "df['가입자일련번호'] = [i for i in range(1000000)]"
   ]
  },
  {
   "cell_type": "code",
   "execution_count": 8,
   "id": "926870a3-2906-4a32-b610-86c0e9d39048",
   "metadata": {
    "execution": {
     "iopub.execute_input": "2024-05-24T11:21:38.609321Z",
     "iopub.status.busy": "2024-05-24T11:21:38.609219Z",
     "iopub.status.idle": "2024-05-24T11:21:38.672083Z",
     "shell.execute_reply": "2024-05-24T11:21:38.671699Z",
     "shell.execute_reply.started": "2024-05-24T11:21:38.609311Z"
    },
    "tags": []
   },
   "outputs": [],
   "source": [
    "column_mapper = {\n",
    "    \"연령대코드(5세단위)\": \"나이\",\n",
    "    \"신장(5cm단위)\": \"키\",\n",
    "    \"체중(5kg단위)\": \"체중\",\n",
    "    \"시력(좌)\": \"시력_좌\",\n",
    "    \"시력(우)\": \"시력_우\",\n",
    "    \"청력(좌)\": \"청력_좌\",\n",
    "    \"청력(우)\": \"청력_우\",\n",
    "    \"식전혈당(공복혈당)\": \"식전혈당\",\n",
    "    \"혈청지오티(AST)\": \"혈청지오티\",\n",
    "    \"혈청지피티(ALT)\": \"혈청지피티\"\n",
    "}\n",
    "\n",
    "df = df.rename(column_mapper, axis=1)"
   ]
  },
  {
   "cell_type": "code",
   "execution_count": 9,
   "id": "184e6dae-bb06-4a7d-b7de-65af5a49806f",
   "metadata": {
    "execution": {
     "iopub.execute_input": "2024-05-24T11:21:38.673493Z",
     "iopub.status.busy": "2024-05-24T11:21:38.673274Z",
     "iopub.status.idle": "2024-05-24T11:21:38.857799Z",
     "shell.execute_reply": "2024-05-24T11:21:38.857270Z",
     "shell.execute_reply.started": "2024-05-24T11:21:38.673459Z"
    },
    "tags": []
   },
   "outputs": [
    {
     "ename": "KeyError",
     "evalue": "'경기'",
     "output_type": "error",
     "traceback": [
      "\u001b[0;31m---------------------------------------------------------------------------\u001b[0m",
      "\u001b[0;31mKeyError\u001b[0m                                  Traceback (most recent call last)",
      "Cell \u001b[0;32mIn[9], line 21\u001b[0m\n\u001b[1;32m      1\u001b[0m region_mapper \u001b[38;5;241m=\u001b[39m {\n\u001b[1;32m      2\u001b[0m     \u001b[38;5;241m11\u001b[39m: \u001b[38;5;124m\"\u001b[39m\u001b[38;5;124m서울\u001b[39m\u001b[38;5;124m\"\u001b[39m,\n\u001b[1;32m      3\u001b[0m     \u001b[38;5;241m26\u001b[39m: \u001b[38;5;124m\"\u001b[39m\u001b[38;5;124m부산\u001b[39m\u001b[38;5;124m\"\u001b[39m,\n\u001b[0;32m   (...)\u001b[0m\n\u001b[1;32m     19\u001b[0m     \n\u001b[1;32m     20\u001b[0m }\n\u001b[0;32m---> 21\u001b[0m df[\u001b[38;5;124m\"\u001b[39m\u001b[38;5;124m시도코드\u001b[39m\u001b[38;5;124m\"\u001b[39m] \u001b[38;5;241m=\u001b[39m \u001b[44mdf\u001b[49m\u001b[44m[\u001b[49m\u001b[38;5;124;44m\"\u001b[39;49m\u001b[38;5;124;44m시도코드\u001b[39;49m\u001b[38;5;124;44m\"\u001b[39;49m\u001b[44m]\u001b[49m\u001b[38;5;241;44m.\u001b[39;49m\u001b[44mapply\u001b[49m\u001b[44m(\u001b[49m\u001b[38;5;28;44;01mlambda\u001b[39;49;00m\u001b[44m \u001b[49m\u001b[44mx\u001b[49m\u001b[44m:\u001b[49m\u001b[44m \u001b[49m\u001b[44mregion_mapper\u001b[49m\u001b[44m[\u001b[49m\u001b[44mx\u001b[49m\u001b[44m]\u001b[49m\u001b[44m)\u001b[49m\n",
      "File \u001b[0;32m~/.base/lib/python3.11/site-packages/pandas/core/series.py:4764\u001b[0m, in \u001b[0;36mSeries.apply\u001b[0;34m(self, func, convert_dtype, args, by_row, **kwargs)\u001b[0m\n\u001b[1;32m   4629\u001b[0m \u001b[38;5;28;01mdef\u001b[39;00m \u001b[38;5;21mapply\u001b[39m(\n\u001b[1;32m   4630\u001b[0m     \u001b[38;5;28mself\u001b[39m,\n\u001b[1;32m   4631\u001b[0m     func: AggFuncType,\n\u001b[0;32m   (...)\u001b[0m\n\u001b[1;32m   4636\u001b[0m     \u001b[38;5;241m*\u001b[39m\u001b[38;5;241m*\u001b[39mkwargs,\n\u001b[1;32m   4637\u001b[0m ) \u001b[38;5;241m-\u001b[39m\u001b[38;5;241m>\u001b[39m DataFrame \u001b[38;5;241m|\u001b[39m Series:\n\u001b[1;32m   4638\u001b[0m \u001b[38;5;250m    \u001b[39m\u001b[38;5;124;03m\"\"\"\u001b[39;00m\n\u001b[1;32m   4639\u001b[0m \u001b[38;5;124;03m    Invoke function on values of Series.\u001b[39;00m\n\u001b[1;32m   4640\u001b[0m \n\u001b[0;32m   (...)\u001b[0m\n\u001b[1;32m   4755\u001b[0m \u001b[38;5;124;03m    dtype: float64\u001b[39;00m\n\u001b[1;32m   4756\u001b[0m \u001b[38;5;124;03m    \"\"\"\u001b[39;00m\n\u001b[1;32m   4757\u001b[0m     \u001b[38;5;28;01mreturn\u001b[39;00m \u001b[44mSeriesApply\u001b[49m\u001b[44m(\u001b[49m\n\u001b[1;32m   4758\u001b[0m \u001b[44m        \u001b[49m\u001b[38;5;28;44mself\u001b[39;49m\u001b[44m,\u001b[49m\n\u001b[1;32m   4759\u001b[0m \u001b[44m        \u001b[49m\u001b[44mfunc\u001b[49m\u001b[44m,\u001b[49m\n\u001b[1;32m   4760\u001b[0m \u001b[44m        \u001b[49m\u001b[44mconvert_dtype\u001b[49m\u001b[38;5;241;44m=\u001b[39;49m\u001b[44mconvert_dtype\u001b[49m\u001b[44m,\u001b[49m\n\u001b[1;32m   4761\u001b[0m \u001b[44m        \u001b[49m\u001b[44mby_row\u001b[49m\u001b[38;5;241;44m=\u001b[39;49m\u001b[44mby_row\u001b[49m\u001b[44m,\u001b[49m\n\u001b[1;32m   4762\u001b[0m \u001b[44m        \u001b[49m\u001b[44margs\u001b[49m\u001b[38;5;241;44m=\u001b[39;49m\u001b[44margs\u001b[49m\u001b[44m,\u001b[49m\n\u001b[1;32m   4763\u001b[0m \u001b[44m        \u001b[49m\u001b[44mkwargs\u001b[49m\u001b[38;5;241;44m=\u001b[39;49m\u001b[44mkwargs\u001b[49m\u001b[44m,\u001b[49m\n\u001b[0;32m-> 4764\u001b[0m \u001b[44m    \u001b[49m\u001b[44m)\u001b[49m\u001b[38;5;241;44m.\u001b[39;49m\u001b[44mapply\u001b[49m\u001b[44m(\u001b[49m\u001b[44m)\u001b[49m\n",
      "File \u001b[0;32m~/.base/lib/python3.11/site-packages/pandas/core/apply.py:1209\u001b[0m, in \u001b[0;36mSeriesApply.apply\u001b[0;34m(self)\u001b[0m\n\u001b[1;32m   1206\u001b[0m     \u001b[38;5;28;01mreturn\u001b[39;00m \u001b[38;5;28mself\u001b[39m\u001b[38;5;241m.\u001b[39mapply_compat()\n\u001b[1;32m   1208\u001b[0m \u001b[38;5;66;03m# self.func is Callable\u001b[39;00m\n\u001b[0;32m-> 1209\u001b[0m \u001b[38;5;28;01mreturn\u001b[39;00m \u001b[38;5;28;44mself\u001b[39;49m\u001b[38;5;241;44m.\u001b[39;49m\u001b[44mapply_standard\u001b[49m\u001b[44m(\u001b[49m\u001b[44m)\u001b[49m\n",
      "File \u001b[0;32m~/.base/lib/python3.11/site-packages/pandas/core/apply.py:1289\u001b[0m, in \u001b[0;36mSeriesApply.apply_standard\u001b[0;34m(self)\u001b[0m\n\u001b[1;32m   1283\u001b[0m \u001b[38;5;66;03m# row-wise access\u001b[39;00m\n\u001b[1;32m   1284\u001b[0m \u001b[38;5;66;03m# apply doesn't have a `na_action` keyword and for backward compat reasons\u001b[39;00m\n\u001b[1;32m   1285\u001b[0m \u001b[38;5;66;03m# we need to give `na_action=\"ignore\"` for categorical data.\u001b[39;00m\n\u001b[1;32m   1286\u001b[0m \u001b[38;5;66;03m# TODO: remove the `na_action=\"ignore\"` when that default has been changed in\u001b[39;00m\n\u001b[1;32m   1287\u001b[0m \u001b[38;5;66;03m#  Categorical (GH51645).\u001b[39;00m\n\u001b[1;32m   1288\u001b[0m action \u001b[38;5;241m=\u001b[39m \u001b[38;5;124m\"\u001b[39m\u001b[38;5;124mignore\u001b[39m\u001b[38;5;124m\"\u001b[39m \u001b[38;5;28;01mif\u001b[39;00m \u001b[38;5;28misinstance\u001b[39m(obj\u001b[38;5;241m.\u001b[39mdtype, CategoricalDtype) \u001b[38;5;28;01melse\u001b[39;00m \u001b[38;5;28;01mNone\u001b[39;00m\n\u001b[0;32m-> 1289\u001b[0m mapped \u001b[38;5;241m=\u001b[39m \u001b[44mobj\u001b[49m\u001b[38;5;241;44m.\u001b[39;49m\u001b[44m_map_values\u001b[49m\u001b[44m(\u001b[49m\n\u001b[1;32m   1290\u001b[0m \u001b[44m    \u001b[49m\u001b[44mmapper\u001b[49m\u001b[38;5;241;44m=\u001b[39;49m\u001b[44mcurried\u001b[49m\u001b[44m,\u001b[49m\u001b[44m \u001b[49m\u001b[44mna_action\u001b[49m\u001b[38;5;241;44m=\u001b[39;49m\u001b[44maction\u001b[49m\u001b[44m,\u001b[49m\u001b[44m \u001b[49m\u001b[44mconvert\u001b[49m\u001b[38;5;241;44m=\u001b[39;49m\u001b[38;5;28;44mself\u001b[39;49m\u001b[38;5;241;44m.\u001b[39;49m\u001b[44mconvert_dtype\u001b[49m\n\u001b[1;32m   1291\u001b[0m \u001b[44m\u001b[49m\u001b[44m)\u001b[49m\n\u001b[1;32m   1293\u001b[0m \u001b[38;5;28;01mif\u001b[39;00m \u001b[38;5;28mlen\u001b[39m(mapped) \u001b[38;5;129;01mand\u001b[39;00m \u001b[38;5;28misinstance\u001b[39m(mapped[\u001b[38;5;241m0\u001b[39m], ABCSeries):\n\u001b[1;32m   1294\u001b[0m     \u001b[38;5;66;03m# GH#43986 Need to do list(mapped) in order to get treated as nested\u001b[39;00m\n\u001b[1;32m   1295\u001b[0m     \u001b[38;5;66;03m#  See also GH#25959 regarding EA support\u001b[39;00m\n\u001b[1;32m   1296\u001b[0m     \u001b[38;5;28;01mreturn\u001b[39;00m obj\u001b[38;5;241m.\u001b[39m_constructor_expanddim(\u001b[38;5;28mlist\u001b[39m(mapped), index\u001b[38;5;241m=\u001b[39mobj\u001b[38;5;241m.\u001b[39mindex)\n",
      "File \u001b[0;32m~/.base/lib/python3.11/site-packages/pandas/core/base.py:921\u001b[0m, in \u001b[0;36mIndexOpsMixin._map_values\u001b[0;34m(self, mapper, na_action, convert)\u001b[0m\n\u001b[1;32m    918\u001b[0m \u001b[38;5;28;01mif\u001b[39;00m \u001b[38;5;28misinstance\u001b[39m(arr, ExtensionArray):\n\u001b[1;32m    919\u001b[0m     \u001b[38;5;28;01mreturn\u001b[39;00m arr\u001b[38;5;241m.\u001b[39mmap(mapper, na_action\u001b[38;5;241m=\u001b[39mna_action)\n\u001b[0;32m--> 921\u001b[0m \u001b[38;5;28;01mreturn\u001b[39;00m \u001b[44malgorithms\u001b[49m\u001b[38;5;241;44m.\u001b[39;49m\u001b[44mmap_array\u001b[49m\u001b[44m(\u001b[49m\u001b[44marr\u001b[49m\u001b[44m,\u001b[49m\u001b[44m \u001b[49m\u001b[44mmapper\u001b[49m\u001b[44m,\u001b[49m\u001b[44m \u001b[49m\u001b[44mna_action\u001b[49m\u001b[38;5;241;44m=\u001b[39;49m\u001b[44mna_action\u001b[49m\u001b[44m,\u001b[49m\u001b[44m \u001b[49m\u001b[44mconvert\u001b[49m\u001b[38;5;241;44m=\u001b[39;49m\u001b[44mconvert\u001b[49m\u001b[44m)\u001b[49m\n",
      "File \u001b[0;32m~/.base/lib/python3.11/site-packages/pandas/core/algorithms.py:1814\u001b[0m, in \u001b[0;36mmap_array\u001b[0;34m(arr, mapper, na_action, convert)\u001b[0m\n\u001b[1;32m   1812\u001b[0m values \u001b[38;5;241m=\u001b[39m arr\u001b[38;5;241m.\u001b[39mastype(\u001b[38;5;28mobject\u001b[39m, copy\u001b[38;5;241m=\u001b[39m\u001b[38;5;28;01mFalse\u001b[39;00m)\n\u001b[1;32m   1813\u001b[0m \u001b[38;5;28;01mif\u001b[39;00m na_action \u001b[38;5;129;01mis\u001b[39;00m \u001b[38;5;28;01mNone\u001b[39;00m:\n\u001b[0;32m-> 1814\u001b[0m     \u001b[38;5;28;01mreturn\u001b[39;00m \u001b[44mlib\u001b[49m\u001b[38;5;241;44m.\u001b[39;49m\u001b[44mmap_infer\u001b[49m\u001b[44m(\u001b[49m\u001b[44mvalues\u001b[49m\u001b[44m,\u001b[49m\u001b[44m \u001b[49m\u001b[44mmapper\u001b[49m\u001b[44m,\u001b[49m\u001b[44m \u001b[49m\u001b[44mconvert\u001b[49m\u001b[38;5;241;44m=\u001b[39;49m\u001b[44mconvert\u001b[49m\u001b[44m)\u001b[49m\n\u001b[1;32m   1815\u001b[0m \u001b[38;5;28;01melse\u001b[39;00m:\n\u001b[1;32m   1816\u001b[0m     \u001b[38;5;28;01mreturn\u001b[39;00m lib\u001b[38;5;241m.\u001b[39mmap_infer_mask(\n\u001b[1;32m   1817\u001b[0m         values, mapper, mask\u001b[38;5;241m=\u001b[39misna(values)\u001b[38;5;241m.\u001b[39mview(np\u001b[38;5;241m.\u001b[39muint8), convert\u001b[38;5;241m=\u001b[39mconvert\n\u001b[1;32m   1818\u001b[0m     )\n",
      "File \u001b[0;32mlib.pyx:2926\u001b[0m, in \u001b[0;36mpandas._libs.lib.map_infer\u001b[0;34m()\u001b[0m\n",
      "Cell \u001b[0;32mIn[9], line 21\u001b[0m, in \u001b[0;36m<lambda>\u001b[0;34m(x)\u001b[0m\n\u001b[1;32m      1\u001b[0m region_mapper \u001b[38;5;241m=\u001b[39m {\n\u001b[1;32m      2\u001b[0m     \u001b[38;5;241m11\u001b[39m: \u001b[38;5;124m\"\u001b[39m\u001b[38;5;124m서울\u001b[39m\u001b[38;5;124m\"\u001b[39m,\n\u001b[1;32m      3\u001b[0m     \u001b[38;5;241m26\u001b[39m: \u001b[38;5;124m\"\u001b[39m\u001b[38;5;124m부산\u001b[39m\u001b[38;5;124m\"\u001b[39m,\n\u001b[0;32m   (...)\u001b[0m\n\u001b[1;32m     19\u001b[0m     \n\u001b[1;32m     20\u001b[0m }\n\u001b[0;32m---> 21\u001b[0m df[\u001b[38;5;124m\"\u001b[39m\u001b[38;5;124m시도코드\u001b[39m\u001b[38;5;124m\"\u001b[39m] \u001b[38;5;241m=\u001b[39m df[\u001b[38;5;124m\"\u001b[39m\u001b[38;5;124m시도코드\u001b[39m\u001b[38;5;124m\"\u001b[39m]\u001b[38;5;241m.\u001b[39mapply(\u001b[38;5;28;01mlambda\u001b[39;00m x: \u001b[44mregion_mapper\u001b[49m\u001b[44m[\u001b[49m\u001b[44mx\u001b[49m\u001b[44m]\u001b[49m)\n",
      "\u001b[0;31mKeyError\u001b[0m: '경기'"
     ]
    }
   ],
   "source": [
    "region_mapper = {\n",
    "    11: \"서울\",\n",
    "    26: \"부산\",\n",
    "    27: \"대구\",\n",
    "    28: \"인천\",\n",
    "    29: \"광주\",\n",
    "    30: \"대전\",\n",
    "    31: \"울산\",\n",
    "    36: \"세종\",\n",
    "    41: \"경기\",\n",
    "    42: \"강원\",\n",
    "    43: \"충북\",\n",
    "    44: \"충남\",\n",
    "    45: \"전북\",\n",
    "    46: \"전남\",\n",
    "    47: \"경북\",\n",
    "    48: \"경남\",\n",
    "    49: \"제주\"\n",
    "    \n",
    "}\n",
    "df[\"시도코드\"] = df[\"시도코드\"].apply(lambda x: region_mapper[x])"
   ]
  },
  {
   "cell_type": "code",
   "execution_count": null,
   "id": "ede729f9-b33d-44c9-a204-7b25af18927d",
   "metadata": {
    "execution": {
     "iopub.status.busy": "2024-05-24T11:21:38.858089Z",
     "iopub.status.idle": "2024-05-24T11:21:38.858284Z",
     "shell.execute_reply": "2024-05-24T11:21:38.858175Z",
     "shell.execute_reply.started": "2024-05-24T11:21:38.858169Z"
    },
    "tags": []
   },
   "outputs": [],
   "source": [
    "df['성별'] = df['성별'].apply(lambda x: \"여\" if x == 2 else \"남\")"
   ]
  },
  {
   "cell_type": "code",
   "execution_count": null,
   "id": "60a608d0-f1a3-4748-a768-99a72a0cb292",
   "metadata": {
    "execution": {
     "iopub.status.busy": "2024-05-24T11:21:38.858854Z",
     "iopub.status.idle": "2024-05-24T11:21:38.858992Z",
     "shell.execute_reply": "2024-05-24T11:21:38.858913Z",
     "shell.execute_reply.started": "2024-05-24T11:21:38.858908Z"
    },
    "tags": []
   },
   "outputs": [],
   "source": [
    "df['나이'] = df['나이'] * 5"
   ]
  },
  {
   "cell_type": "code",
   "execution_count": 10,
   "id": "17d3c3f7-8e2e-4ee5-a504-15182f124fbc",
   "metadata": {
    "execution": {
     "iopub.execute_input": "2024-05-24T11:21:39.054089Z",
     "iopub.status.busy": "2024-05-24T11:21:39.053510Z",
     "iopub.status.idle": "2024-05-24T11:21:44.695292Z",
     "shell.execute_reply": "2024-05-24T11:21:44.694983Z",
     "shell.execute_reply.started": "2024-05-24T11:21:39.054056Z"
    },
    "tags": []
   },
   "outputs": [],
   "source": [
    "from src import Path\n",
    "path = Path()\n",
    "\n",
    "df.to_csv(str(path.data_path / \"data.csv\"), index=False)"
   ]
  },
  {
   "cell_type": "code",
   "execution_count": 11,
   "id": "3e51f134-fa3e-43d4-a8da-743e6ccb6ac0",
   "metadata": {
    "execution": {
     "iopub.execute_input": "2024-05-24T11:21:44.696113Z",
     "iopub.status.busy": "2024-05-24T11:21:44.695999Z",
     "iopub.status.idle": "2024-05-24T11:21:45.850331Z",
     "shell.execute_reply": "2024-05-24T11:21:45.850062Z",
     "shell.execute_reply.started": "2024-05-24T11:21:44.696102Z"
    },
    "tags": []
   },
   "outputs": [
    {
     "name": "stdout",
     "output_type": "stream",
     "text": [
      "1.152\n"
     ]
    }
   ],
   "source": [
    "# io 시간 체크\n",
    "import pandas as pd\n",
    "from time import time\n",
    "begin = time()\n",
    "df = pd.read_csv(str(path.data_path / \"data.csv\"))\n",
    "end = time()\n",
    "print(f\"{end - begin:.3f}\")"
   ]
  },
  {
   "cell_type": "code",
   "execution_count": 13,
   "id": "52e03608-943c-409a-9282-acc12e971328",
   "metadata": {
    "execution": {
     "iopub.execute_input": "2024-05-24T11:21:53.409233Z",
     "iopub.status.busy": "2024-05-24T11:21:53.408872Z",
     "iopub.status.idle": "2024-05-24T11:21:53.415772Z",
     "shell.execute_reply": "2024-05-24T11:21:53.415307Z",
     "shell.execute_reply.started": "2024-05-24T11:21:53.409205Z"
    },
    "tags": []
   },
   "outputs": [
    {
     "name": "stdout",
     "output_type": "stream",
     "text": [
      "0.000\n"
     ]
    }
   ],
   "source": [
    "# io 시간 체크\n",
    "import pandas as pd\n",
    "from time import time\n",
    "begin = time()\n",
    "df = utils.get_dataframe()\n",
    "end = time()\n",
    "print(f\"{end - begin:.3f}\")"
   ]
  },
  {
   "cell_type": "code",
   "execution_count": null,
   "id": "e4370a83-2ebc-4b88-bae4-d80f9f01dfcf",
   "metadata": {
    "execution": {
     "iopub.status.busy": "2024-05-24T11:21:45.861503Z",
     "iopub.status.idle": "2024-05-24T11:21:45.861651Z",
     "shell.execute_reply": "2024-05-24T11:21:45.861560Z",
     "shell.execute_reply.started": "2024-05-24T11:21:45.861555Z"
    },
    "tags": []
   },
   "outputs": [],
   "source": [
    "utils.get_personal_info(df, 1)['성별']"
   ]
  },
  {
   "cell_type": "code",
   "execution_count": null,
   "id": "7c923d55-3ac6-4bdd-9fa7-ff0eb28d3737",
   "metadata": {
    "execution": {
     "iopub.status.busy": "2024-05-24T11:21:45.862348Z",
     "iopub.status.idle": "2024-05-24T11:21:45.862669Z",
     "shell.execute_reply": "2024-05-24T11:21:45.862580Z",
     "shell.execute_reply.started": "2024-05-24T11:21:45.862568Z"
    },
    "tags": []
   },
   "outputs": [],
   "source": [
    "user_info = utils.get_personal_info(df, 1)\n",
    "age = user_info['나이']\n",
    "gender = user_info['성별']\n",
    "df = df.query(f'성별 == \"{gender}\" and 나이 == {age}')"
   ]
  },
  {
   "cell_type": "code",
   "execution_count": null,
   "id": "6a2a83da-351b-4cef-adf3-a263d077ee33",
   "metadata": {
    "execution": {
     "iopub.status.busy": "2024-05-24T11:21:45.863485Z",
     "iopub.status.idle": "2024-05-24T11:21:45.863669Z",
     "shell.execute_reply": "2024-05-24T11:21:45.863563Z",
     "shell.execute_reply.started": "2024-05-24T11:21:45.863557Z"
    },
    "tags": []
   },
   "outputs": [],
   "source": [
    "continuous = ['키', '체중', '허리둘레', '시력_좌', '시력_우', '청력_좌', '청력_우', '수축기혈압', '이완기혈압',\n",
    "              '식전혈당', '총콜레스테롤', '트리글리세라이드', 'HDL콜레스테롤', 'LDL콜레스테롤', '혈색소', '요단백',\n",
    "              '혈청크레아티닌', '혈청지오티', '혈청지피티', '감마지티피']\n",
    "\n",
    "categorical = ['흡연상태', '음주여부', '구강검진수검여부', '치아우식증유무', '치석']"
   ]
  },
  {
   "cell_type": "code",
   "execution_count": null,
   "id": "7fe66db6-3cf8-4f31-8c13-3def570067e8",
   "metadata": {
    "execution": {
     "iopub.status.busy": "2024-05-24T11:21:45.864290Z",
     "iopub.status.idle": "2024-05-24T11:21:45.864422Z",
     "shell.execute_reply": "2024-05-24T11:21:45.864360Z",
     "shell.execute_reply.started": "2024-05-24T11:21:45.864354Z"
    },
    "tags": []
   },
   "outputs": [],
   "source": [
    "df['치아우식증유무'].unique()"
   ]
  },
  {
   "cell_type": "code",
   "execution_count": 16,
   "id": "cce12889-c381-407c-8ddf-e13eaa665125",
   "metadata": {
    "execution": {
     "iopub.execute_input": "2024-05-24T11:22:11.615477Z",
     "iopub.status.busy": "2024-05-24T11:22:11.615241Z",
     "iopub.status.idle": "2024-05-24T11:22:11.619601Z",
     "shell.execute_reply": "2024-05-24T11:22:11.619253Z",
     "shell.execute_reply.started": "2024-05-24T11:22:11.615453Z"
    },
    "tags": []
   },
   "outputs": [
    {
     "data": {
      "text/plain": [
       "52.782595"
      ]
     },
     "execution_count": 16,
     "metadata": {},
     "output_type": "execute_result"
    }
   ],
   "source": [
    "df.agg({\"나이\": \"mean\"}).item()"
   ]
  },
  {
   "cell_type": "code",
   "execution_count": 27,
   "id": "d854bd13-15e2-42cf-aaa2-c1a96664bb8e",
   "metadata": {
    "execution": {
     "iopub.execute_input": "2024-05-24T11:25:41.160433Z",
     "iopub.status.busy": "2024-05-24T11:25:41.159872Z",
     "iopub.status.idle": "2024-05-24T11:25:41.201995Z",
     "shell.execute_reply": "2024-05-24T11:25:41.201460Z",
     "shell.execute_reply.started": "2024-05-24T11:25:41.160384Z"
    },
    "tags": []
   },
   "outputs": [
    {
     "data": {
      "text/html": [
       "<div>\n",
       "<style scoped>\n",
       "    .dataframe tbody tr th:only-of-type {\n",
       "        vertical-align: middle;\n",
       "    }\n",
       "\n",
       "    .dataframe tbody tr th {\n",
       "        vertical-align: top;\n",
       "    }\n",
       "\n",
       "    .dataframe thead th {\n",
       "        text-align: right;\n",
       "    }\n",
       "</style>\n",
       "<table border=\"1\" class=\"dataframe\">\n",
       "  <thead>\n",
       "    <tr style=\"text-align: right;\">\n",
       "      <th></th>\n",
       "      <th>치아우식증유무</th>\n",
       "    </tr>\n",
       "    <tr>\n",
       "      <th>치아우식증유무</th>\n",
       "      <th></th>\n",
       "    </tr>\n",
       "  </thead>\n",
       "  <tbody>\n",
       "    <tr>\n",
       "      <th>0.0</th>\n",
       "      <td>285351</td>\n",
       "    </tr>\n",
       "    <tr>\n",
       "      <th>1.0</th>\n",
       "      <td>58978</td>\n",
       "    </tr>\n",
       "  </tbody>\n",
       "</table>\n",
       "</div>"
      ],
      "text/plain": [
       "         치아우식증유무\n",
       "치아우식증유무         \n",
       "0.0       285351\n",
       "1.0        58978"
      ]
     },
     "execution_count": 27,
     "metadata": {},
     "output_type": "execute_result"
    }
   ],
   "source": [
    "df.groupby('치아우식증유무').agg({\"치아우식증유무\": \"count\"})"
   ]
  },
  {
   "cell_type": "code",
   "execution_count": 28,
   "id": "0786e038-5ee2-41f0-a487-faeccaaa4f23",
   "metadata": {
    "execution": {
     "iopub.execute_input": "2024-05-24T11:25:42.449667Z",
     "iopub.status.busy": "2024-05-24T11:25:42.449175Z",
     "iopub.status.idle": "2024-05-24T11:25:42.465244Z",
     "shell.execute_reply": "2024-05-24T11:25:42.464893Z",
     "shell.execute_reply.started": "2024-05-24T11:25:42.449641Z"
    },
    "tags": []
   },
   "outputs": [
    {
     "data": {
      "text/plain": [
       "0    0.0\n",
       "Name: 치아우식증유무, dtype: float64"
      ]
     },
     "execution_count": 28,
     "metadata": {},
     "output_type": "execute_result"
    }
   ],
   "source": [
    "df[\"치아우식증유무\"].mode()"
   ]
  },
  {
   "cell_type": "code",
   "execution_count": 2,
   "id": "26159d36-554e-48d5-8644-fab19c244ed0",
   "metadata": {
    "execution": {
     "iopub.execute_input": "2024-05-24T12:04:06.037878Z",
     "iopub.status.busy": "2024-05-24T12:04:06.037577Z",
     "iopub.status.idle": "2024-05-24T12:04:06.393445Z",
     "shell.execute_reply": "2024-05-24T12:04:06.393176Z",
     "shell.execute_reply.started": "2024-05-24T12:04:06.037853Z"
    },
    "tags": []
   },
   "outputs": [],
   "source": [
    "from src import process"
   ]
  },
  {
   "cell_type": "code",
   "execution_count": 4,
   "id": "4cb547d1-176a-45eb-83da-2db83dc852dd",
   "metadata": {
    "execution": {
     "iopub.execute_input": "2024-05-24T12:04:18.398224Z",
     "iopub.status.busy": "2024-05-24T12:04:18.397458Z",
     "iopub.status.idle": "2024-05-24T12:04:18.465578Z",
     "shell.execute_reply": "2024-05-24T12:04:18.465259Z",
     "shell.execute_reply.started": "2024-05-24T12:04:18.398188Z"
    },
    "tags": []
   },
   "outputs": [],
   "source": [
    "res = process.get_group_info(user_id=0, to_string=True)"
   ]
  },
  {
   "cell_type": "code",
   "execution_count": 8,
   "id": "7005765c-4455-4f35-bd21-a9185caa3434",
   "metadata": {
    "execution": {
     "iopub.execute_input": "2024-05-24T11:38:22.491046Z",
     "iopub.status.busy": "2024-05-24T11:38:22.489738Z",
     "iopub.status.idle": "2024-05-24T11:38:22.512865Z",
     "shell.execute_reply": "2024-05-24T11:38:22.512327Z",
     "shell.execute_reply.started": "2024-05-24T11:38:22.490983Z"
    },
    "tags": []
   },
   "outputs": [
    {
     "data": {
      "text/plain": [
       "{'기준년도': 2022,\n",
       " '가입자일련번호': 0,\n",
       " '시도코드': '경기',\n",
       " '성별': '여',\n",
       " '나이': 70,\n",
       " '키': 160,\n",
       " '체중': 75,\n",
       " '허리둘레': 89.0,\n",
       " '시력_좌': 1.0,\n",
       " '시력_우': 1.0,\n",
       " '청력_좌': 1.0,\n",
       " '청력_우': 1.0,\n",
       " '수축기혈압': 127.0,\n",
       " '이완기혈압': 73.0,\n",
       " '식전혈당': 84.0,\n",
       " '총콜레스테롤': nan,\n",
       " '트리글리세라이드': nan,\n",
       " 'HDL콜레스테롤': nan,\n",
       " 'LDL콜레스테롤': nan,\n",
       " '혈색소': 14.8,\n",
       " '요단백': 1.0,\n",
       " '혈청크레아티닌': 0.8,\n",
       " '혈청지오티': 25.0,\n",
       " '혈청지피티': 20.0,\n",
       " '감마지티피': 15.0,\n",
       " '흡연상태': 1.0,\n",
       " '음주여부': 0.0,\n",
       " '구강검진수검여부': 0,\n",
       " '치아우식증유무': nan,\n",
       " '치석': nan}"
      ]
     },
     "execution_count": 8,
     "metadata": {},
     "output_type": "execute_result"
    }
   ],
   "source": [
    "utils.get_personal_info(user_id=0)"
   ]
  },
  {
   "cell_type": "code",
   "execution_count": null,
   "id": "980a3edd-818c-4e38-850a-428978364837",
   "metadata": {},
   "outputs": [],
   "source": []
  }
 ],
 "metadata": {
  "kernelspec": {
   "display_name": "base",
   "language": "python",
   "name": ".base"
  },
  "language_info": {
   "codemirror_mode": {
    "name": "ipython",
    "version": 3
   },
   "file_extension": ".py",
   "mimetype": "text/x-python",
   "name": "python",
   "nbconvert_exporter": "python",
   "pygments_lexer": "ipython3",
   "version": "3.11.5"
  }
 },
 "nbformat": 4,
 "nbformat_minor": 5
}

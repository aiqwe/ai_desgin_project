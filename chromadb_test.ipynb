{
 "cells": [
  {
   "cell_type": "code",
   "execution_count": 9,
   "id": "a025dcce-4c77-489c-b4ef-7dd76d6257dc",
   "metadata": {
    "execution": {
     "iopub.execute_input": "2024-06-10T08:29:50.417244Z",
     "iopub.status.busy": "2024-06-10T08:29:50.416820Z",
     "iopub.status.idle": "2024-06-10T08:29:50.430833Z",
     "shell.execute_reply": "2024-06-10T08:29:50.427887Z",
     "shell.execute_reply.started": "2024-06-10T08:29:50.417211Z"
    },
    "tags": []
   },
   "outputs": [],
   "source": [
    "from src.chromadb import Chroma\n",
    "from src.encoder import average_pool\n",
    "import json\n",
    "from multiprocessing import Pool, cpu_count, Lock\n",
    "from tqdm import tqdm"
   ]
  },
  {
   "cell_type": "code",
   "execution_count": 10,
   "id": "6799b1fd-4e9a-43b3-b591-1c306d94aefb",
   "metadata": {
    "execution": {
     "iopub.execute_input": "2024-06-10T08:29:50.606524Z",
     "iopub.status.busy": "2024-06-10T08:29:50.606014Z",
     "iopub.status.idle": "2024-06-10T08:29:50.632620Z",
     "shell.execute_reply": "2024-06-10T08:29:50.631945Z",
     "shell.execute_reply.started": "2024-06-10T08:29:50.606497Z"
    },
    "tags": []
   },
   "outputs": [],
   "source": [
    "db_name = \"poc\"\n",
    "\n",
    "chroma = Chroma(db_name)"
   ]
  },
  {
   "cell_type": "code",
   "execution_count": 11,
   "id": "12c6a6a3-97c8-463b-a078-d7ac79a3f484",
   "metadata": {
    "execution": {
     "iopub.execute_input": "2024-06-10T08:29:51.234908Z",
     "iopub.status.busy": "2024-06-10T08:29:51.234197Z",
     "iopub.status.idle": "2024-06-10T08:29:51.347319Z",
     "shell.execute_reply": "2024-06-10T08:29:51.346263Z",
     "shell.execute_reply.started": "2024-06-10T08:29:51.234879Z"
    },
    "tags": []
   },
   "outputs": [
    {
     "data": {
      "text/plain": [
       "Collection(name=poc)"
      ]
     },
     "execution_count": 11,
     "metadata": {},
     "output_type": "execute_result"
    }
   ],
   "source": [
    "chroma.get_or_create_collection()"
   ]
  },
  {
   "cell_type": "code",
   "execution_count": 12,
   "id": "cbbd7f8d-a802-462b-81ef-5d27f7659468",
   "metadata": {
    "execution": {
     "iopub.execute_input": "2024-06-10T08:29:53.560095Z",
     "iopub.status.busy": "2024-06-10T08:29:53.559739Z",
     "iopub.status.idle": "2024-06-10T08:29:53.654288Z",
     "shell.execute_reply": "2024-06-10T08:29:53.653924Z",
     "shell.execute_reply.started": "2024-06-10T08:29:53.560064Z"
    },
    "tags": []
   },
   "outputs": [],
   "source": [
    "with open(\"./src/data/health.json\", \"r\") as f:\n",
    "    data = json.load(f)"
   ]
  },
  {
   "cell_type": "code",
   "execution_count": 14,
   "id": "1591c04b-e7bc-4711-8f27-74eb67dd923e",
   "metadata": {
    "execution": {
     "iopub.execute_input": "2024-06-10T08:34:19.002155Z",
     "iopub.status.busy": "2024-06-10T08:34:19.001659Z",
     "iopub.status.idle": "2024-06-10T08:34:19.011480Z",
     "shell.execute_reply": "2024-06-10T08:34:19.010375Z",
     "shell.execute_reply.started": "2024-06-10T08:34:19.002106Z"
    },
    "tags": []
   },
   "outputs": [],
   "source": [
    "sample = data\n",
    "chroma.batch_file_upsert(file_name=sample)"
   ]
  }
 ],
 "metadata": {
  "kernelspec": {
   "display_name": "base",
   "language": "python",
   "name": ".base"
  },
  "language_info": {
   "codemirror_mode": {
    "name": "ipython",
    "version": 3
   },
   "file_extension": ".py",
   "mimetype": "text/x-python",
   "name": "python",
   "nbconvert_exporter": "python",
   "pygments_lexer": "ipython3",
   "version": "3.11.5"
  }
 },
 "nbformat": 4,
 "nbformat_minor": 5
}
